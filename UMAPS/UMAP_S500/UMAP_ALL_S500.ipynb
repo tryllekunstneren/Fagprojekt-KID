{
 "cells": [
  {
   "cell_type": "code",
   "execution_count": null,
   "id": "ca424e1d",
   "metadata": {},
   "outputs": [
    {
     "name": "stdout",
     "output_type": "stream",
     "text": [
      "\n",
      "=== Dropout Level: 0.1 ===\n",
      "Metric: euclidean, Run: 1/10\n",
      "Metric: euclidean, Run: 2/10\n",
      "Metric: euclidean, Run: 3/10\n",
      "Metric: euclidean, Run: 4/10\n",
      "Metric: euclidean, Run: 5/10\n",
      "Metric: euclidean, Run: 6/10\n",
      "Metric: euclidean, Run: 7/10\n",
      "Metric: euclidean, Run: 8/10\n",
      "Metric: euclidean, Run: 9/10\n",
      "Metric: euclidean, Run: 10/10\n",
      "Metric: manhattan, Run: 1/10\n",
      "Metric: manhattan, Run: 2/10\n",
      "Metric: manhattan, Run: 3/10\n",
      "Metric: manhattan, Run: 4/10\n",
      "Metric: manhattan, Run: 5/10\n",
      "Metric: manhattan, Run: 6/10\n",
      "Metric: manhattan, Run: 7/10\n",
      "Metric: manhattan, Run: 8/10\n",
      "Metric: manhattan, Run: 9/10\n",
      "Metric: manhattan, Run: 10/10\n",
      "Metric: minkowski_0.5, Run: 1/10\n"
     ]
    },
    {
     "name": "stderr",
     "output_type": "stream",
     "text": [
      "c:\\Users\\sofus\\AppData\\Local\\Programs\\Python\\Python311\\Lib\\site-packages\\sklearn\\neighbors\\_graph.py:434: SyntaxWarning: Parameter p is found in metric_params. The corresponding parameter from __init__ is ignored.\n",
      "  self._fit(X)\n",
      "c:\\Users\\sofus\\AppData\\Local\\Programs\\Python\\Python311\\Lib\\site-packages\\sklearn\\neighbors\\_base.py:653: UserWarning: Mind that for 0 < p < 1, Minkowski metrics are not distance metrics. Continuing the execution with `algorithm='brute'`.\n",
      "  warnings.warn(\n"
     ]
    },
    {
     "name": "stdout",
     "output_type": "stream",
     "text": [
      "Metric: minkowski_0.5, Run: 2/10\n"
     ]
    },
    {
     "name": "stderr",
     "output_type": "stream",
     "text": [
      "c:\\Users\\sofus\\AppData\\Local\\Programs\\Python\\Python311\\Lib\\site-packages\\sklearn\\neighbors\\_graph.py:434: SyntaxWarning: Parameter p is found in metric_params. The corresponding parameter from __init__ is ignored.\n",
      "  self._fit(X)\n",
      "c:\\Users\\sofus\\AppData\\Local\\Programs\\Python\\Python311\\Lib\\site-packages\\sklearn\\neighbors\\_base.py:653: UserWarning: Mind that for 0 < p < 1, Minkowski metrics are not distance metrics. Continuing the execution with `algorithm='brute'`.\n",
      "  warnings.warn(\n"
     ]
    },
    {
     "name": "stdout",
     "output_type": "stream",
     "text": [
      "Metric: minkowski_0.5, Run: 3/10\n"
     ]
    },
    {
     "name": "stderr",
     "output_type": "stream",
     "text": [
      "c:\\Users\\sofus\\AppData\\Local\\Programs\\Python\\Python311\\Lib\\site-packages\\sklearn\\neighbors\\_graph.py:434: SyntaxWarning: Parameter p is found in metric_params. The corresponding parameter from __init__ is ignored.\n",
      "  self._fit(X)\n",
      "c:\\Users\\sofus\\AppData\\Local\\Programs\\Python\\Python311\\Lib\\site-packages\\sklearn\\neighbors\\_base.py:653: UserWarning: Mind that for 0 < p < 1, Minkowski metrics are not distance metrics. Continuing the execution with `algorithm='brute'`.\n",
      "  warnings.warn(\n"
     ]
    },
    {
     "name": "stdout",
     "output_type": "stream",
     "text": [
      "Metric: minkowski_0.5, Run: 4/10\n"
     ]
    },
    {
     "name": "stderr",
     "output_type": "stream",
     "text": [
      "c:\\Users\\sofus\\AppData\\Local\\Programs\\Python\\Python311\\Lib\\site-packages\\sklearn\\neighbors\\_graph.py:434: SyntaxWarning: Parameter p is found in metric_params. The corresponding parameter from __init__ is ignored.\n",
      "  self._fit(X)\n",
      "c:\\Users\\sofus\\AppData\\Local\\Programs\\Python\\Python311\\Lib\\site-packages\\sklearn\\neighbors\\_base.py:653: UserWarning: Mind that for 0 < p < 1, Minkowski metrics are not distance metrics. Continuing the execution with `algorithm='brute'`.\n",
      "  warnings.warn(\n"
     ]
    },
    {
     "name": "stdout",
     "output_type": "stream",
     "text": [
      "Metric: minkowski_0.5, Run: 5/10\n"
     ]
    },
    {
     "name": "stderr",
     "output_type": "stream",
     "text": [
      "c:\\Users\\sofus\\AppData\\Local\\Programs\\Python\\Python311\\Lib\\site-packages\\sklearn\\neighbors\\_graph.py:434: SyntaxWarning: Parameter p is found in metric_params. The corresponding parameter from __init__ is ignored.\n",
      "  self._fit(X)\n",
      "c:\\Users\\sofus\\AppData\\Local\\Programs\\Python\\Python311\\Lib\\site-packages\\sklearn\\neighbors\\_base.py:653: UserWarning: Mind that for 0 < p < 1, Minkowski metrics are not distance metrics. Continuing the execution with `algorithm='brute'`.\n",
      "  warnings.warn(\n"
     ]
    },
    {
     "name": "stdout",
     "output_type": "stream",
     "text": [
      "Metric: minkowski_0.5, Run: 6/10\n"
     ]
    },
    {
     "name": "stderr",
     "output_type": "stream",
     "text": [
      "c:\\Users\\sofus\\AppData\\Local\\Programs\\Python\\Python311\\Lib\\site-packages\\sklearn\\neighbors\\_graph.py:434: SyntaxWarning: Parameter p is found in metric_params. The corresponding parameter from __init__ is ignored.\n",
      "  self._fit(X)\n",
      "c:\\Users\\sofus\\AppData\\Local\\Programs\\Python\\Python311\\Lib\\site-packages\\sklearn\\neighbors\\_base.py:653: UserWarning: Mind that for 0 < p < 1, Minkowski metrics are not distance metrics. Continuing the execution with `algorithm='brute'`.\n",
      "  warnings.warn(\n"
     ]
    },
    {
     "name": "stdout",
     "output_type": "stream",
     "text": [
      "Metric: minkowski_0.5, Run: 7/10\n"
     ]
    },
    {
     "name": "stderr",
     "output_type": "stream",
     "text": [
      "c:\\Users\\sofus\\AppData\\Local\\Programs\\Python\\Python311\\Lib\\site-packages\\sklearn\\neighbors\\_graph.py:434: SyntaxWarning: Parameter p is found in metric_params. The corresponding parameter from __init__ is ignored.\n",
      "  self._fit(X)\n",
      "c:\\Users\\sofus\\AppData\\Local\\Programs\\Python\\Python311\\Lib\\site-packages\\sklearn\\neighbors\\_base.py:653: UserWarning: Mind that for 0 < p < 1, Minkowski metrics are not distance metrics. Continuing the execution with `algorithm='brute'`.\n",
      "  warnings.warn(\n"
     ]
    },
    {
     "name": "stdout",
     "output_type": "stream",
     "text": [
      "Metric: minkowski_0.5, Run: 8/10\n"
     ]
    },
    {
     "name": "stderr",
     "output_type": "stream",
     "text": [
      "c:\\Users\\sofus\\AppData\\Local\\Programs\\Python\\Python311\\Lib\\site-packages\\sklearn\\neighbors\\_graph.py:434: SyntaxWarning: Parameter p is found in metric_params. The corresponding parameter from __init__ is ignored.\n",
      "  self._fit(X)\n",
      "c:\\Users\\sofus\\AppData\\Local\\Programs\\Python\\Python311\\Lib\\site-packages\\sklearn\\neighbors\\_base.py:653: UserWarning: Mind that for 0 < p < 1, Minkowski metrics are not distance metrics. Continuing the execution with `algorithm='brute'`.\n",
      "  warnings.warn(\n"
     ]
    },
    {
     "name": "stdout",
     "output_type": "stream",
     "text": [
      "Metric: minkowski_0.5, Run: 9/10\n"
     ]
    },
    {
     "name": "stderr",
     "output_type": "stream",
     "text": [
      "c:\\Users\\sofus\\AppData\\Local\\Programs\\Python\\Python311\\Lib\\site-packages\\sklearn\\neighbors\\_graph.py:434: SyntaxWarning: Parameter p is found in metric_params. The corresponding parameter from __init__ is ignored.\n",
      "  self._fit(X)\n",
      "c:\\Users\\sofus\\AppData\\Local\\Programs\\Python\\Python311\\Lib\\site-packages\\sklearn\\neighbors\\_base.py:653: UserWarning: Mind that for 0 < p < 1, Minkowski metrics are not distance metrics. Continuing the execution with `algorithm='brute'`.\n",
      "  warnings.warn(\n"
     ]
    },
    {
     "name": "stdout",
     "output_type": "stream",
     "text": [
      "Metric: minkowski_0.5, Run: 10/10\n"
     ]
    },
    {
     "name": "stderr",
     "output_type": "stream",
     "text": [
      "c:\\Users\\sofus\\AppData\\Local\\Programs\\Python\\Python311\\Lib\\site-packages\\sklearn\\neighbors\\_graph.py:434: SyntaxWarning: Parameter p is found in metric_params. The corresponding parameter from __init__ is ignored.\n",
      "  self._fit(X)\n",
      "c:\\Users\\sofus\\AppData\\Local\\Programs\\Python\\Python311\\Lib\\site-packages\\sklearn\\neighbors\\_base.py:653: UserWarning: Mind that for 0 < p < 1, Minkowski metrics are not distance metrics. Continuing the execution with `algorithm='brute'`.\n",
      "  warnings.warn(\n"
     ]
    },
    {
     "name": "stdout",
     "output_type": "stream",
     "text": [
      "\n",
      "=== Dropout Level: 0.2 ===\n",
      "Metric: euclidean, Run: 1/10\n",
      "Metric: euclidean, Run: 2/10\n",
      "Metric: euclidean, Run: 3/10\n",
      "Metric: euclidean, Run: 4/10\n",
      "Metric: euclidean, Run: 5/10\n",
      "Metric: euclidean, Run: 6/10\n",
      "Metric: euclidean, Run: 7/10\n",
      "Metric: euclidean, Run: 8/10\n",
      "Metric: euclidean, Run: 9/10\n",
      "Metric: euclidean, Run: 10/10\n",
      "Metric: manhattan, Run: 1/10\n",
      "Metric: manhattan, Run: 2/10\n",
      "Metric: manhattan, Run: 3/10\n",
      "Metric: manhattan, Run: 4/10\n",
      "Metric: manhattan, Run: 5/10\n",
      "Metric: manhattan, Run: 6/10\n",
      "Metric: manhattan, Run: 7/10\n",
      "Metric: manhattan, Run: 8/10\n",
      "Metric: manhattan, Run: 9/10\n",
      "Metric: manhattan, Run: 10/10\n",
      "Metric: minkowski_0.5, Run: 1/10\n"
     ]
    },
    {
     "name": "stderr",
     "output_type": "stream",
     "text": [
      "c:\\Users\\sofus\\AppData\\Local\\Programs\\Python\\Python311\\Lib\\site-packages\\sklearn\\neighbors\\_graph.py:434: SyntaxWarning: Parameter p is found in metric_params. The corresponding parameter from __init__ is ignored.\n",
      "  self._fit(X)\n",
      "c:\\Users\\sofus\\AppData\\Local\\Programs\\Python\\Python311\\Lib\\site-packages\\sklearn\\neighbors\\_base.py:653: UserWarning: Mind that for 0 < p < 1, Minkowski metrics are not distance metrics. Continuing the execution with `algorithm='brute'`.\n",
      "  warnings.warn(\n"
     ]
    },
    {
     "name": "stdout",
     "output_type": "stream",
     "text": [
      "Metric: minkowski_0.5, Run: 2/10\n"
     ]
    },
    {
     "name": "stderr",
     "output_type": "stream",
     "text": [
      "c:\\Users\\sofus\\AppData\\Local\\Programs\\Python\\Python311\\Lib\\site-packages\\sklearn\\neighbors\\_graph.py:434: SyntaxWarning: Parameter p is found in metric_params. The corresponding parameter from __init__ is ignored.\n",
      "  self._fit(X)\n",
      "c:\\Users\\sofus\\AppData\\Local\\Programs\\Python\\Python311\\Lib\\site-packages\\sklearn\\neighbors\\_base.py:653: UserWarning: Mind that for 0 < p < 1, Minkowski metrics are not distance metrics. Continuing the execution with `algorithm='brute'`.\n",
      "  warnings.warn(\n"
     ]
    },
    {
     "name": "stdout",
     "output_type": "stream",
     "text": [
      "Metric: minkowski_0.5, Run: 3/10\n"
     ]
    },
    {
     "name": "stderr",
     "output_type": "stream",
     "text": [
      "c:\\Users\\sofus\\AppData\\Local\\Programs\\Python\\Python311\\Lib\\site-packages\\sklearn\\neighbors\\_graph.py:434: SyntaxWarning: Parameter p is found in metric_params. The corresponding parameter from __init__ is ignored.\n",
      "  self._fit(X)\n",
      "c:\\Users\\sofus\\AppData\\Local\\Programs\\Python\\Python311\\Lib\\site-packages\\sklearn\\neighbors\\_base.py:653: UserWarning: Mind that for 0 < p < 1, Minkowski metrics are not distance metrics. Continuing the execution with `algorithm='brute'`.\n",
      "  warnings.warn(\n"
     ]
    },
    {
     "name": "stdout",
     "output_type": "stream",
     "text": [
      "Metric: minkowski_0.5, Run: 4/10\n"
     ]
    },
    {
     "name": "stderr",
     "output_type": "stream",
     "text": [
      "c:\\Users\\sofus\\AppData\\Local\\Programs\\Python\\Python311\\Lib\\site-packages\\sklearn\\neighbors\\_graph.py:434: SyntaxWarning: Parameter p is found in metric_params. The corresponding parameter from __init__ is ignored.\n",
      "  self._fit(X)\n",
      "c:\\Users\\sofus\\AppData\\Local\\Programs\\Python\\Python311\\Lib\\site-packages\\sklearn\\neighbors\\_base.py:653: UserWarning: Mind that for 0 < p < 1, Minkowski metrics are not distance metrics. Continuing the execution with `algorithm='brute'`.\n",
      "  warnings.warn(\n"
     ]
    },
    {
     "name": "stdout",
     "output_type": "stream",
     "text": [
      "Metric: minkowski_0.5, Run: 5/10\n"
     ]
    },
    {
     "name": "stderr",
     "output_type": "stream",
     "text": [
      "c:\\Users\\sofus\\AppData\\Local\\Programs\\Python\\Python311\\Lib\\site-packages\\sklearn\\neighbors\\_graph.py:434: SyntaxWarning: Parameter p is found in metric_params. The corresponding parameter from __init__ is ignored.\n",
      "  self._fit(X)\n",
      "c:\\Users\\sofus\\AppData\\Local\\Programs\\Python\\Python311\\Lib\\site-packages\\sklearn\\neighbors\\_base.py:653: UserWarning: Mind that for 0 < p < 1, Minkowski metrics are not distance metrics. Continuing the execution with `algorithm='brute'`.\n",
      "  warnings.warn(\n"
     ]
    },
    {
     "name": "stdout",
     "output_type": "stream",
     "text": [
      "Metric: minkowski_0.5, Run: 6/10\n"
     ]
    },
    {
     "name": "stderr",
     "output_type": "stream",
     "text": [
      "c:\\Users\\sofus\\AppData\\Local\\Programs\\Python\\Python311\\Lib\\site-packages\\sklearn\\neighbors\\_graph.py:434: SyntaxWarning: Parameter p is found in metric_params. The corresponding parameter from __init__ is ignored.\n",
      "  self._fit(X)\n",
      "c:\\Users\\sofus\\AppData\\Local\\Programs\\Python\\Python311\\Lib\\site-packages\\sklearn\\neighbors\\_base.py:653: UserWarning: Mind that for 0 < p < 1, Minkowski metrics are not distance metrics. Continuing the execution with `algorithm='brute'`.\n",
      "  warnings.warn(\n"
     ]
    },
    {
     "name": "stdout",
     "output_type": "stream",
     "text": [
      "Metric: minkowski_0.5, Run: 7/10\n"
     ]
    },
    {
     "name": "stderr",
     "output_type": "stream",
     "text": [
      "c:\\Users\\sofus\\AppData\\Local\\Programs\\Python\\Python311\\Lib\\site-packages\\sklearn\\neighbors\\_graph.py:434: SyntaxWarning: Parameter p is found in metric_params. The corresponding parameter from __init__ is ignored.\n",
      "  self._fit(X)\n",
      "c:\\Users\\sofus\\AppData\\Local\\Programs\\Python\\Python311\\Lib\\site-packages\\sklearn\\neighbors\\_base.py:653: UserWarning: Mind that for 0 < p < 1, Minkowski metrics are not distance metrics. Continuing the execution with `algorithm='brute'`.\n",
      "  warnings.warn(\n"
     ]
    },
    {
     "name": "stdout",
     "output_type": "stream",
     "text": [
      "Metric: minkowski_0.5, Run: 8/10\n"
     ]
    },
    {
     "name": "stderr",
     "output_type": "stream",
     "text": [
      "c:\\Users\\sofus\\AppData\\Local\\Programs\\Python\\Python311\\Lib\\site-packages\\sklearn\\neighbors\\_graph.py:434: SyntaxWarning: Parameter p is found in metric_params. The corresponding parameter from __init__ is ignored.\n",
      "  self._fit(X)\n",
      "c:\\Users\\sofus\\AppData\\Local\\Programs\\Python\\Python311\\Lib\\site-packages\\sklearn\\neighbors\\_base.py:653: UserWarning: Mind that for 0 < p < 1, Minkowski metrics are not distance metrics. Continuing the execution with `algorithm='brute'`.\n",
      "  warnings.warn(\n"
     ]
    },
    {
     "name": "stdout",
     "output_type": "stream",
     "text": [
      "Metric: minkowski_0.5, Run: 9/10\n"
     ]
    },
    {
     "name": "stderr",
     "output_type": "stream",
     "text": [
      "c:\\Users\\sofus\\AppData\\Local\\Programs\\Python\\Python311\\Lib\\site-packages\\sklearn\\neighbors\\_graph.py:434: SyntaxWarning: Parameter p is found in metric_params. The corresponding parameter from __init__ is ignored.\n",
      "  self._fit(X)\n",
      "c:\\Users\\sofus\\AppData\\Local\\Programs\\Python\\Python311\\Lib\\site-packages\\sklearn\\neighbors\\_base.py:653: UserWarning: Mind that for 0 < p < 1, Minkowski metrics are not distance metrics. Continuing the execution with `algorithm='brute'`.\n",
      "  warnings.warn(\n"
     ]
    },
    {
     "name": "stdout",
     "output_type": "stream",
     "text": [
      "Metric: minkowski_0.5, Run: 10/10\n"
     ]
    },
    {
     "name": "stderr",
     "output_type": "stream",
     "text": [
      "c:\\Users\\sofus\\AppData\\Local\\Programs\\Python\\Python311\\Lib\\site-packages\\sklearn\\neighbors\\_graph.py:434: SyntaxWarning: Parameter p is found in metric_params. The corresponding parameter from __init__ is ignored.\n",
      "  self._fit(X)\n",
      "c:\\Users\\sofus\\AppData\\Local\\Programs\\Python\\Python311\\Lib\\site-packages\\sklearn\\neighbors\\_base.py:653: UserWarning: Mind that for 0 < p < 1, Minkowski metrics are not distance metrics. Continuing the execution with `algorithm='brute'`.\n",
      "  warnings.warn(\n"
     ]
    },
    {
     "name": "stdout",
     "output_type": "stream",
     "text": [
      "\n",
      "=== Dropout Level: 0.3 ===\n",
      "Metric: euclidean, Run: 1/10\n",
      "Metric: euclidean, Run: 2/10\n",
      "Metric: euclidean, Run: 3/10\n",
      "Metric: euclidean, Run: 4/10\n",
      "Metric: euclidean, Run: 5/10\n",
      "Metric: euclidean, Run: 6/10\n",
      "Metric: euclidean, Run: 7/10\n",
      "Metric: euclidean, Run: 8/10\n",
      "Metric: euclidean, Run: 9/10\n",
      "Metric: euclidean, Run: 10/10\n",
      "Metric: manhattan, Run: 1/10\n",
      "Metric: manhattan, Run: 2/10\n",
      "Metric: manhattan, Run: 3/10\n",
      "Metric: manhattan, Run: 4/10\n",
      "Metric: manhattan, Run: 5/10\n",
      "Metric: manhattan, Run: 6/10\n",
      "Metric: manhattan, Run: 7/10\n",
      "Metric: manhattan, Run: 8/10\n",
      "Metric: manhattan, Run: 9/10\n",
      "Metric: manhattan, Run: 10/10\n",
      "Metric: minkowski_0.5, Run: 1/10\n"
     ]
    },
    {
     "name": "stderr",
     "output_type": "stream",
     "text": [
      "c:\\Users\\sofus\\AppData\\Local\\Programs\\Python\\Python311\\Lib\\site-packages\\sklearn\\neighbors\\_graph.py:434: SyntaxWarning: Parameter p is found in metric_params. The corresponding parameter from __init__ is ignored.\n",
      "  self._fit(X)\n",
      "c:\\Users\\sofus\\AppData\\Local\\Programs\\Python\\Python311\\Lib\\site-packages\\sklearn\\neighbors\\_base.py:653: UserWarning: Mind that for 0 < p < 1, Minkowski metrics are not distance metrics. Continuing the execution with `algorithm='brute'`.\n",
      "  warnings.warn(\n"
     ]
    },
    {
     "name": "stdout",
     "output_type": "stream",
     "text": [
      "Metric: minkowski_0.5, Run: 2/10\n"
     ]
    },
    {
     "name": "stderr",
     "output_type": "stream",
     "text": [
      "c:\\Users\\sofus\\AppData\\Local\\Programs\\Python\\Python311\\Lib\\site-packages\\sklearn\\neighbors\\_graph.py:434: SyntaxWarning: Parameter p is found in metric_params. The corresponding parameter from __init__ is ignored.\n",
      "  self._fit(X)\n",
      "c:\\Users\\sofus\\AppData\\Local\\Programs\\Python\\Python311\\Lib\\site-packages\\sklearn\\neighbors\\_base.py:653: UserWarning: Mind that for 0 < p < 1, Minkowski metrics are not distance metrics. Continuing the execution with `algorithm='brute'`.\n",
      "  warnings.warn(\n"
     ]
    },
    {
     "name": "stdout",
     "output_type": "stream",
     "text": [
      "Metric: minkowski_0.5, Run: 3/10\n"
     ]
    },
    {
     "name": "stderr",
     "output_type": "stream",
     "text": [
      "c:\\Users\\sofus\\AppData\\Local\\Programs\\Python\\Python311\\Lib\\site-packages\\sklearn\\neighbors\\_graph.py:434: SyntaxWarning: Parameter p is found in metric_params. The corresponding parameter from __init__ is ignored.\n",
      "  self._fit(X)\n",
      "c:\\Users\\sofus\\AppData\\Local\\Programs\\Python\\Python311\\Lib\\site-packages\\sklearn\\neighbors\\_base.py:653: UserWarning: Mind that for 0 < p < 1, Minkowski metrics are not distance metrics. Continuing the execution with `algorithm='brute'`.\n",
      "  warnings.warn(\n"
     ]
    },
    {
     "name": "stdout",
     "output_type": "stream",
     "text": [
      "Metric: minkowski_0.5, Run: 4/10\n"
     ]
    },
    {
     "name": "stderr",
     "output_type": "stream",
     "text": [
      "c:\\Users\\sofus\\AppData\\Local\\Programs\\Python\\Python311\\Lib\\site-packages\\sklearn\\neighbors\\_graph.py:434: SyntaxWarning: Parameter p is found in metric_params. The corresponding parameter from __init__ is ignored.\n",
      "  self._fit(X)\n",
      "c:\\Users\\sofus\\AppData\\Local\\Programs\\Python\\Python311\\Lib\\site-packages\\sklearn\\neighbors\\_base.py:653: UserWarning: Mind that for 0 < p < 1, Minkowski metrics are not distance metrics. Continuing the execution with `algorithm='brute'`.\n",
      "  warnings.warn(\n"
     ]
    },
    {
     "name": "stdout",
     "output_type": "stream",
     "text": [
      "Metric: minkowski_0.5, Run: 5/10\n"
     ]
    },
    {
     "name": "stderr",
     "output_type": "stream",
     "text": [
      "c:\\Users\\sofus\\AppData\\Local\\Programs\\Python\\Python311\\Lib\\site-packages\\sklearn\\neighbors\\_graph.py:434: SyntaxWarning: Parameter p is found in metric_params. The corresponding parameter from __init__ is ignored.\n",
      "  self._fit(X)\n",
      "c:\\Users\\sofus\\AppData\\Local\\Programs\\Python\\Python311\\Lib\\site-packages\\sklearn\\neighbors\\_base.py:653: UserWarning: Mind that for 0 < p < 1, Minkowski metrics are not distance metrics. Continuing the execution with `algorithm='brute'`.\n",
      "  warnings.warn(\n"
     ]
    },
    {
     "name": "stdout",
     "output_type": "stream",
     "text": [
      "Metric: minkowski_0.5, Run: 6/10\n"
     ]
    },
    {
     "name": "stderr",
     "output_type": "stream",
     "text": [
      "c:\\Users\\sofus\\AppData\\Local\\Programs\\Python\\Python311\\Lib\\site-packages\\sklearn\\neighbors\\_graph.py:434: SyntaxWarning: Parameter p is found in metric_params. The corresponding parameter from __init__ is ignored.\n",
      "  self._fit(X)\n",
      "c:\\Users\\sofus\\AppData\\Local\\Programs\\Python\\Python311\\Lib\\site-packages\\sklearn\\neighbors\\_base.py:653: UserWarning: Mind that for 0 < p < 1, Minkowski metrics are not distance metrics. Continuing the execution with `algorithm='brute'`.\n",
      "  warnings.warn(\n"
     ]
    },
    {
     "name": "stdout",
     "output_type": "stream",
     "text": [
      "Metric: minkowski_0.5, Run: 7/10\n"
     ]
    },
    {
     "name": "stderr",
     "output_type": "stream",
     "text": [
      "c:\\Users\\sofus\\AppData\\Local\\Programs\\Python\\Python311\\Lib\\site-packages\\sklearn\\neighbors\\_graph.py:434: SyntaxWarning: Parameter p is found in metric_params. The corresponding parameter from __init__ is ignored.\n",
      "  self._fit(X)\n",
      "c:\\Users\\sofus\\AppData\\Local\\Programs\\Python\\Python311\\Lib\\site-packages\\sklearn\\neighbors\\_base.py:653: UserWarning: Mind that for 0 < p < 1, Minkowski metrics are not distance metrics. Continuing the execution with `algorithm='brute'`.\n",
      "  warnings.warn(\n"
     ]
    },
    {
     "name": "stdout",
     "output_type": "stream",
     "text": [
      "Metric: minkowski_0.5, Run: 8/10\n"
     ]
    },
    {
     "name": "stderr",
     "output_type": "stream",
     "text": [
      "c:\\Users\\sofus\\AppData\\Local\\Programs\\Python\\Python311\\Lib\\site-packages\\sklearn\\neighbors\\_graph.py:434: SyntaxWarning: Parameter p is found in metric_params. The corresponding parameter from __init__ is ignored.\n",
      "  self._fit(X)\n",
      "c:\\Users\\sofus\\AppData\\Local\\Programs\\Python\\Python311\\Lib\\site-packages\\sklearn\\neighbors\\_base.py:653: UserWarning: Mind that for 0 < p < 1, Minkowski metrics are not distance metrics. Continuing the execution with `algorithm='brute'`.\n",
      "  warnings.warn(\n"
     ]
    },
    {
     "name": "stdout",
     "output_type": "stream",
     "text": [
      "Metric: minkowski_0.5, Run: 9/10\n"
     ]
    },
    {
     "name": "stderr",
     "output_type": "stream",
     "text": [
      "c:\\Users\\sofus\\AppData\\Local\\Programs\\Python\\Python311\\Lib\\site-packages\\sklearn\\neighbors\\_graph.py:434: SyntaxWarning: Parameter p is found in metric_params. The corresponding parameter from __init__ is ignored.\n",
      "  self._fit(X)\n",
      "c:\\Users\\sofus\\AppData\\Local\\Programs\\Python\\Python311\\Lib\\site-packages\\sklearn\\neighbors\\_base.py:653: UserWarning: Mind that for 0 < p < 1, Minkowski metrics are not distance metrics. Continuing the execution with `algorithm='brute'`.\n",
      "  warnings.warn(\n"
     ]
    },
    {
     "name": "stdout",
     "output_type": "stream",
     "text": [
      "Metric: minkowski_0.5, Run: 10/10\n"
     ]
    },
    {
     "name": "stderr",
     "output_type": "stream",
     "text": [
      "c:\\Users\\sofus\\AppData\\Local\\Programs\\Python\\Python311\\Lib\\site-packages\\sklearn\\neighbors\\_graph.py:434: SyntaxWarning: Parameter p is found in metric_params. The corresponding parameter from __init__ is ignored.\n",
      "  self._fit(X)\n",
      "c:\\Users\\sofus\\AppData\\Local\\Programs\\Python\\Python311\\Lib\\site-packages\\sklearn\\neighbors\\_base.py:653: UserWarning: Mind that for 0 < p < 1, Minkowski metrics are not distance metrics. Continuing the execution with `algorithm='brute'`.\n",
      "  warnings.warn(\n"
     ]
    },
    {
     "name": "stdout",
     "output_type": "stream",
     "text": [
      "\n",
      "=== Dropout Level: 0.4 ===\n",
      "Metric: euclidean, Run: 1/10\n",
      "Metric: euclidean, Run: 2/10\n",
      "Metric: euclidean, Run: 3/10\n",
      "Metric: euclidean, Run: 4/10\n",
      "Metric: euclidean, Run: 5/10\n",
      "Metric: euclidean, Run: 6/10\n",
      "Metric: euclidean, Run: 7/10\n",
      "Metric: euclidean, Run: 8/10\n",
      "Metric: euclidean, Run: 9/10\n",
      "Metric: euclidean, Run: 10/10\n",
      "Metric: manhattan, Run: 1/10\n",
      "Metric: manhattan, Run: 2/10\n",
      "Metric: manhattan, Run: 3/10\n",
      "Metric: manhattan, Run: 4/10\n",
      "Metric: manhattan, Run: 5/10\n",
      "Metric: manhattan, Run: 6/10\n",
      "Metric: manhattan, Run: 7/10\n",
      "Metric: manhattan, Run: 8/10\n",
      "Metric: manhattan, Run: 9/10\n",
      "Metric: manhattan, Run: 10/10\n",
      "Metric: minkowski_0.5, Run: 1/10\n"
     ]
    },
    {
     "name": "stderr",
     "output_type": "stream",
     "text": [
      "c:\\Users\\sofus\\AppData\\Local\\Programs\\Python\\Python311\\Lib\\site-packages\\sklearn\\neighbors\\_graph.py:434: SyntaxWarning: Parameter p is found in metric_params. The corresponding parameter from __init__ is ignored.\n",
      "  self._fit(X)\n",
      "c:\\Users\\sofus\\AppData\\Local\\Programs\\Python\\Python311\\Lib\\site-packages\\sklearn\\neighbors\\_base.py:653: UserWarning: Mind that for 0 < p < 1, Minkowski metrics are not distance metrics. Continuing the execution with `algorithm='brute'`.\n",
      "  warnings.warn(\n"
     ]
    },
    {
     "name": "stdout",
     "output_type": "stream",
     "text": [
      "Metric: minkowski_0.5, Run: 2/10\n"
     ]
    },
    {
     "name": "stderr",
     "output_type": "stream",
     "text": [
      "c:\\Users\\sofus\\AppData\\Local\\Programs\\Python\\Python311\\Lib\\site-packages\\sklearn\\neighbors\\_graph.py:434: SyntaxWarning: Parameter p is found in metric_params. The corresponding parameter from __init__ is ignored.\n",
      "  self._fit(X)\n",
      "c:\\Users\\sofus\\AppData\\Local\\Programs\\Python\\Python311\\Lib\\site-packages\\sklearn\\neighbors\\_base.py:653: UserWarning: Mind that for 0 < p < 1, Minkowski metrics are not distance metrics. Continuing the execution with `algorithm='brute'`.\n",
      "  warnings.warn(\n"
     ]
    },
    {
     "name": "stdout",
     "output_type": "stream",
     "text": [
      "Metric: minkowski_0.5, Run: 3/10\n"
     ]
    },
    {
     "name": "stderr",
     "output_type": "stream",
     "text": [
      "c:\\Users\\sofus\\AppData\\Local\\Programs\\Python\\Python311\\Lib\\site-packages\\sklearn\\neighbors\\_graph.py:434: SyntaxWarning: Parameter p is found in metric_params. The corresponding parameter from __init__ is ignored.\n",
      "  self._fit(X)\n",
      "c:\\Users\\sofus\\AppData\\Local\\Programs\\Python\\Python311\\Lib\\site-packages\\sklearn\\neighbors\\_base.py:653: UserWarning: Mind that for 0 < p < 1, Minkowski metrics are not distance metrics. Continuing the execution with `algorithm='brute'`.\n",
      "  warnings.warn(\n"
     ]
    },
    {
     "name": "stdout",
     "output_type": "stream",
     "text": [
      "Metric: minkowski_0.5, Run: 4/10\n"
     ]
    },
    {
     "name": "stderr",
     "output_type": "stream",
     "text": [
      "c:\\Users\\sofus\\AppData\\Local\\Programs\\Python\\Python311\\Lib\\site-packages\\sklearn\\neighbors\\_graph.py:434: SyntaxWarning: Parameter p is found in metric_params. The corresponding parameter from __init__ is ignored.\n",
      "  self._fit(X)\n",
      "c:\\Users\\sofus\\AppData\\Local\\Programs\\Python\\Python311\\Lib\\site-packages\\sklearn\\neighbors\\_base.py:653: UserWarning: Mind that for 0 < p < 1, Minkowski metrics are not distance metrics. Continuing the execution with `algorithm='brute'`.\n",
      "  warnings.warn(\n"
     ]
    },
    {
     "name": "stdout",
     "output_type": "stream",
     "text": [
      "Metric: minkowski_0.5, Run: 5/10\n"
     ]
    },
    {
     "name": "stderr",
     "output_type": "stream",
     "text": [
      "c:\\Users\\sofus\\AppData\\Local\\Programs\\Python\\Python311\\Lib\\site-packages\\sklearn\\neighbors\\_graph.py:434: SyntaxWarning: Parameter p is found in metric_params. The corresponding parameter from __init__ is ignored.\n",
      "  self._fit(X)\n",
      "c:\\Users\\sofus\\AppData\\Local\\Programs\\Python\\Python311\\Lib\\site-packages\\sklearn\\neighbors\\_base.py:653: UserWarning: Mind that for 0 < p < 1, Minkowski metrics are not distance metrics. Continuing the execution with `algorithm='brute'`.\n",
      "  warnings.warn(\n"
     ]
    },
    {
     "name": "stdout",
     "output_type": "stream",
     "text": [
      "Metric: minkowski_0.5, Run: 6/10\n"
     ]
    },
    {
     "name": "stderr",
     "output_type": "stream",
     "text": [
      "c:\\Users\\sofus\\AppData\\Local\\Programs\\Python\\Python311\\Lib\\site-packages\\sklearn\\neighbors\\_graph.py:434: SyntaxWarning: Parameter p is found in metric_params. The corresponding parameter from __init__ is ignored.\n",
      "  self._fit(X)\n",
      "c:\\Users\\sofus\\AppData\\Local\\Programs\\Python\\Python311\\Lib\\site-packages\\sklearn\\neighbors\\_base.py:653: UserWarning: Mind that for 0 < p < 1, Minkowski metrics are not distance metrics. Continuing the execution with `algorithm='brute'`.\n",
      "  warnings.warn(\n"
     ]
    },
    {
     "name": "stdout",
     "output_type": "stream",
     "text": [
      "Metric: minkowski_0.5, Run: 7/10\n"
     ]
    },
    {
     "name": "stderr",
     "output_type": "stream",
     "text": [
      "c:\\Users\\sofus\\AppData\\Local\\Programs\\Python\\Python311\\Lib\\site-packages\\sklearn\\neighbors\\_graph.py:434: SyntaxWarning: Parameter p is found in metric_params. The corresponding parameter from __init__ is ignored.\n",
      "  self._fit(X)\n",
      "c:\\Users\\sofus\\AppData\\Local\\Programs\\Python\\Python311\\Lib\\site-packages\\sklearn\\neighbors\\_base.py:653: UserWarning: Mind that for 0 < p < 1, Minkowski metrics are not distance metrics. Continuing the execution with `algorithm='brute'`.\n",
      "  warnings.warn(\n"
     ]
    },
    {
     "name": "stdout",
     "output_type": "stream",
     "text": [
      "Metric: minkowski_0.5, Run: 8/10\n"
     ]
    },
    {
     "name": "stderr",
     "output_type": "stream",
     "text": [
      "c:\\Users\\sofus\\AppData\\Local\\Programs\\Python\\Python311\\Lib\\site-packages\\sklearn\\neighbors\\_graph.py:434: SyntaxWarning: Parameter p is found in metric_params. The corresponding parameter from __init__ is ignored.\n",
      "  self._fit(X)\n",
      "c:\\Users\\sofus\\AppData\\Local\\Programs\\Python\\Python311\\Lib\\site-packages\\sklearn\\neighbors\\_base.py:653: UserWarning: Mind that for 0 < p < 1, Minkowski metrics are not distance metrics. Continuing the execution with `algorithm='brute'`.\n",
      "  warnings.warn(\n"
     ]
    },
    {
     "name": "stdout",
     "output_type": "stream",
     "text": [
      "Metric: minkowski_0.5, Run: 9/10\n"
     ]
    },
    {
     "name": "stderr",
     "output_type": "stream",
     "text": [
      "c:\\Users\\sofus\\AppData\\Local\\Programs\\Python\\Python311\\Lib\\site-packages\\sklearn\\neighbors\\_graph.py:434: SyntaxWarning: Parameter p is found in metric_params. The corresponding parameter from __init__ is ignored.\n",
      "  self._fit(X)\n",
      "c:\\Users\\sofus\\AppData\\Local\\Programs\\Python\\Python311\\Lib\\site-packages\\sklearn\\neighbors\\_base.py:653: UserWarning: Mind that for 0 < p < 1, Minkowski metrics are not distance metrics. Continuing the execution with `algorithm='brute'`.\n",
      "  warnings.warn(\n"
     ]
    },
    {
     "name": "stdout",
     "output_type": "stream",
     "text": [
      "Metric: minkowski_0.5, Run: 10/10\n"
     ]
    },
    {
     "name": "stderr",
     "output_type": "stream",
     "text": [
      "c:\\Users\\sofus\\AppData\\Local\\Programs\\Python\\Python311\\Lib\\site-packages\\sklearn\\neighbors\\_graph.py:434: SyntaxWarning: Parameter p is found in metric_params. The corresponding parameter from __init__ is ignored.\n",
      "  self._fit(X)\n",
      "c:\\Users\\sofus\\AppData\\Local\\Programs\\Python\\Python311\\Lib\\site-packages\\sklearn\\neighbors\\_base.py:653: UserWarning: Mind that for 0 < p < 1, Minkowski metrics are not distance metrics. Continuing the execution with `algorithm='brute'`.\n",
      "  warnings.warn(\n"
     ]
    },
    {
     "name": "stdout",
     "output_type": "stream",
     "text": [
      "\n",
      "=== Dropout Level: 0.5 ===\n",
      "Metric: euclidean, Run: 1/10\n",
      "Metric: euclidean, Run: 2/10\n",
      "Metric: euclidean, Run: 3/10\n",
      "Metric: euclidean, Run: 4/10\n",
      "Metric: euclidean, Run: 5/10\n",
      "Metric: euclidean, Run: 6/10\n",
      "Metric: euclidean, Run: 7/10\n",
      "Metric: euclidean, Run: 8/10\n",
      "Metric: euclidean, Run: 9/10\n",
      "Metric: euclidean, Run: 10/10\n",
      "Metric: manhattan, Run: 1/10\n",
      "Metric: manhattan, Run: 2/10\n",
      "Metric: manhattan, Run: 3/10\n",
      "Metric: manhattan, Run: 4/10\n",
      "Metric: manhattan, Run: 5/10\n",
      "Metric: manhattan, Run: 6/10\n",
      "Metric: manhattan, Run: 7/10\n",
      "Metric: manhattan, Run: 8/10\n",
      "Metric: manhattan, Run: 9/10\n",
      "Metric: manhattan, Run: 10/10\n",
      "Metric: minkowski_0.5, Run: 1/10\n"
     ]
    },
    {
     "name": "stderr",
     "output_type": "stream",
     "text": [
      "c:\\Users\\sofus\\AppData\\Local\\Programs\\Python\\Python311\\Lib\\site-packages\\sklearn\\neighbors\\_graph.py:434: SyntaxWarning: Parameter p is found in metric_params. The corresponding parameter from __init__ is ignored.\n",
      "  self._fit(X)\n",
      "c:\\Users\\sofus\\AppData\\Local\\Programs\\Python\\Python311\\Lib\\site-packages\\sklearn\\neighbors\\_base.py:653: UserWarning: Mind that for 0 < p < 1, Minkowski metrics are not distance metrics. Continuing the execution with `algorithm='brute'`.\n",
      "  warnings.warn(\n"
     ]
    },
    {
     "name": "stdout",
     "output_type": "stream",
     "text": [
      "Metric: minkowski_0.5, Run: 2/10\n"
     ]
    },
    {
     "name": "stderr",
     "output_type": "stream",
     "text": [
      "c:\\Users\\sofus\\AppData\\Local\\Programs\\Python\\Python311\\Lib\\site-packages\\sklearn\\neighbors\\_graph.py:434: SyntaxWarning: Parameter p is found in metric_params. The corresponding parameter from __init__ is ignored.\n",
      "  self._fit(X)\n",
      "c:\\Users\\sofus\\AppData\\Local\\Programs\\Python\\Python311\\Lib\\site-packages\\sklearn\\neighbors\\_base.py:653: UserWarning: Mind that for 0 < p < 1, Minkowski metrics are not distance metrics. Continuing the execution with `algorithm='brute'`.\n",
      "  warnings.warn(\n"
     ]
    },
    {
     "name": "stdout",
     "output_type": "stream",
     "text": [
      "Metric: minkowski_0.5, Run: 3/10\n"
     ]
    },
    {
     "name": "stderr",
     "output_type": "stream",
     "text": [
      "c:\\Users\\sofus\\AppData\\Local\\Programs\\Python\\Python311\\Lib\\site-packages\\sklearn\\neighbors\\_graph.py:434: SyntaxWarning: Parameter p is found in metric_params. The corresponding parameter from __init__ is ignored.\n",
      "  self._fit(X)\n",
      "c:\\Users\\sofus\\AppData\\Local\\Programs\\Python\\Python311\\Lib\\site-packages\\sklearn\\neighbors\\_base.py:653: UserWarning: Mind that for 0 < p < 1, Minkowski metrics are not distance metrics. Continuing the execution with `algorithm='brute'`.\n",
      "  warnings.warn(\n"
     ]
    },
    {
     "name": "stdout",
     "output_type": "stream",
     "text": [
      "Metric: minkowski_0.5, Run: 4/10\n"
     ]
    },
    {
     "name": "stderr",
     "output_type": "stream",
     "text": [
      "c:\\Users\\sofus\\AppData\\Local\\Programs\\Python\\Python311\\Lib\\site-packages\\sklearn\\neighbors\\_graph.py:434: SyntaxWarning: Parameter p is found in metric_params. The corresponding parameter from __init__ is ignored.\n",
      "  self._fit(X)\n",
      "c:\\Users\\sofus\\AppData\\Local\\Programs\\Python\\Python311\\Lib\\site-packages\\sklearn\\neighbors\\_base.py:653: UserWarning: Mind that for 0 < p < 1, Minkowski metrics are not distance metrics. Continuing the execution with `algorithm='brute'`.\n",
      "  warnings.warn(\n"
     ]
    },
    {
     "name": "stdout",
     "output_type": "stream",
     "text": [
      "Metric: minkowski_0.5, Run: 5/10\n"
     ]
    },
    {
     "name": "stderr",
     "output_type": "stream",
     "text": [
      "c:\\Users\\sofus\\AppData\\Local\\Programs\\Python\\Python311\\Lib\\site-packages\\sklearn\\neighbors\\_graph.py:434: SyntaxWarning: Parameter p is found in metric_params. The corresponding parameter from __init__ is ignored.\n",
      "  self._fit(X)\n",
      "c:\\Users\\sofus\\AppData\\Local\\Programs\\Python\\Python311\\Lib\\site-packages\\sklearn\\neighbors\\_base.py:653: UserWarning: Mind that for 0 < p < 1, Minkowski metrics are not distance metrics. Continuing the execution with `algorithm='brute'`.\n",
      "  warnings.warn(\n"
     ]
    },
    {
     "name": "stdout",
     "output_type": "stream",
     "text": [
      "Metric: minkowski_0.5, Run: 6/10\n"
     ]
    },
    {
     "name": "stderr",
     "output_type": "stream",
     "text": [
      "c:\\Users\\sofus\\AppData\\Local\\Programs\\Python\\Python311\\Lib\\site-packages\\sklearn\\neighbors\\_graph.py:434: SyntaxWarning: Parameter p is found in metric_params. The corresponding parameter from __init__ is ignored.\n",
      "  self._fit(X)\n",
      "c:\\Users\\sofus\\AppData\\Local\\Programs\\Python\\Python311\\Lib\\site-packages\\sklearn\\neighbors\\_base.py:653: UserWarning: Mind that for 0 < p < 1, Minkowski metrics are not distance metrics. Continuing the execution with `algorithm='brute'`.\n",
      "  warnings.warn(\n"
     ]
    },
    {
     "name": "stdout",
     "output_type": "stream",
     "text": [
      "Metric: minkowski_0.5, Run: 7/10\n"
     ]
    },
    {
     "name": "stderr",
     "output_type": "stream",
     "text": [
      "c:\\Users\\sofus\\AppData\\Local\\Programs\\Python\\Python311\\Lib\\site-packages\\sklearn\\neighbors\\_graph.py:434: SyntaxWarning: Parameter p is found in metric_params. The corresponding parameter from __init__ is ignored.\n",
      "  self._fit(X)\n",
      "c:\\Users\\sofus\\AppData\\Local\\Programs\\Python\\Python311\\Lib\\site-packages\\sklearn\\neighbors\\_base.py:653: UserWarning: Mind that for 0 < p < 1, Minkowski metrics are not distance metrics. Continuing the execution with `algorithm='brute'`.\n",
      "  warnings.warn(\n"
     ]
    },
    {
     "name": "stdout",
     "output_type": "stream",
     "text": [
      "Metric: minkowski_0.5, Run: 8/10\n"
     ]
    },
    {
     "name": "stderr",
     "output_type": "stream",
     "text": [
      "c:\\Users\\sofus\\AppData\\Local\\Programs\\Python\\Python311\\Lib\\site-packages\\sklearn\\neighbors\\_graph.py:434: SyntaxWarning: Parameter p is found in metric_params. The corresponding parameter from __init__ is ignored.\n",
      "  self._fit(X)\n",
      "c:\\Users\\sofus\\AppData\\Local\\Programs\\Python\\Python311\\Lib\\site-packages\\sklearn\\neighbors\\_base.py:653: UserWarning: Mind that for 0 < p < 1, Minkowski metrics are not distance metrics. Continuing the execution with `algorithm='brute'`.\n",
      "  warnings.warn(\n"
     ]
    },
    {
     "name": "stdout",
     "output_type": "stream",
     "text": [
      "Metric: minkowski_0.5, Run: 9/10\n"
     ]
    },
    {
     "name": "stderr",
     "output_type": "stream",
     "text": [
      "c:\\Users\\sofus\\AppData\\Local\\Programs\\Python\\Python311\\Lib\\site-packages\\sklearn\\neighbors\\_graph.py:434: SyntaxWarning: Parameter p is found in metric_params. The corresponding parameter from __init__ is ignored.\n",
      "  self._fit(X)\n",
      "c:\\Users\\sofus\\AppData\\Local\\Programs\\Python\\Python311\\Lib\\site-packages\\sklearn\\neighbors\\_base.py:653: UserWarning: Mind that for 0 < p < 1, Minkowski metrics are not distance metrics. Continuing the execution with `algorithm='brute'`.\n",
      "  warnings.warn(\n"
     ]
    },
    {
     "name": "stdout",
     "output_type": "stream",
     "text": [
      "Metric: minkowski_0.5, Run: 10/10\n"
     ]
    },
    {
     "name": "stderr",
     "output_type": "stream",
     "text": [
      "c:\\Users\\sofus\\AppData\\Local\\Programs\\Python\\Python311\\Lib\\site-packages\\sklearn\\neighbors\\_graph.py:434: SyntaxWarning: Parameter p is found in metric_params. The corresponding parameter from __init__ is ignored.\n",
      "  self._fit(X)\n",
      "c:\\Users\\sofus\\AppData\\Local\\Programs\\Python\\Python311\\Lib\\site-packages\\sklearn\\neighbors\\_base.py:653: UserWarning: Mind that for 0 < p < 1, Minkowski metrics are not distance metrics. Continuing the execution with `algorithm='brute'`.\n",
      "  warnings.warn(\n"
     ]
    },
    {
     "name": "stdout",
     "output_type": "stream",
     "text": [
      "\n",
      "=== Dropout Level: 0.6 ===\n",
      "Metric: euclidean, Run: 1/10\n",
      "Metric: euclidean, Run: 2/10\n",
      "Metric: euclidean, Run: 3/10\n",
      "Metric: euclidean, Run: 4/10\n",
      "Metric: euclidean, Run: 5/10\n",
      "Metric: euclidean, Run: 6/10\n",
      "Metric: euclidean, Run: 7/10\n",
      "Metric: euclidean, Run: 8/10\n",
      "Metric: euclidean, Run: 9/10\n",
      "Metric: euclidean, Run: 10/10\n",
      "Metric: manhattan, Run: 1/10\n",
      "Metric: manhattan, Run: 2/10\n",
      "Metric: manhattan, Run: 3/10\n",
      "Metric: manhattan, Run: 4/10\n",
      "Metric: manhattan, Run: 5/10\n",
      "Metric: manhattan, Run: 6/10\n",
      "Metric: manhattan, Run: 7/10\n",
      "Metric: manhattan, Run: 8/10\n",
      "Metric: manhattan, Run: 9/10\n",
      "Metric: manhattan, Run: 10/10\n",
      "Metric: minkowski_0.5, Run: 1/10\n"
     ]
    },
    {
     "name": "stderr",
     "output_type": "stream",
     "text": [
      "c:\\Users\\sofus\\AppData\\Local\\Programs\\Python\\Python311\\Lib\\site-packages\\sklearn\\neighbors\\_graph.py:434: SyntaxWarning: Parameter p is found in metric_params. The corresponding parameter from __init__ is ignored.\n",
      "  self._fit(X)\n",
      "c:\\Users\\sofus\\AppData\\Local\\Programs\\Python\\Python311\\Lib\\site-packages\\sklearn\\neighbors\\_base.py:653: UserWarning: Mind that for 0 < p < 1, Minkowski metrics are not distance metrics. Continuing the execution with `algorithm='brute'`.\n",
      "  warnings.warn(\n"
     ]
    },
    {
     "name": "stdout",
     "output_type": "stream",
     "text": [
      "Metric: minkowski_0.5, Run: 2/10\n"
     ]
    },
    {
     "name": "stderr",
     "output_type": "stream",
     "text": [
      "c:\\Users\\sofus\\AppData\\Local\\Programs\\Python\\Python311\\Lib\\site-packages\\sklearn\\neighbors\\_graph.py:434: SyntaxWarning: Parameter p is found in metric_params. The corresponding parameter from __init__ is ignored.\n",
      "  self._fit(X)\n",
      "c:\\Users\\sofus\\AppData\\Local\\Programs\\Python\\Python311\\Lib\\site-packages\\sklearn\\neighbors\\_base.py:653: UserWarning: Mind that for 0 < p < 1, Minkowski metrics are not distance metrics. Continuing the execution with `algorithm='brute'`.\n",
      "  warnings.warn(\n"
     ]
    },
    {
     "name": "stdout",
     "output_type": "stream",
     "text": [
      "Metric: minkowski_0.5, Run: 3/10\n"
     ]
    },
    {
     "name": "stderr",
     "output_type": "stream",
     "text": [
      "c:\\Users\\sofus\\AppData\\Local\\Programs\\Python\\Python311\\Lib\\site-packages\\sklearn\\neighbors\\_graph.py:434: SyntaxWarning: Parameter p is found in metric_params. The corresponding parameter from __init__ is ignored.\n",
      "  self._fit(X)\n",
      "c:\\Users\\sofus\\AppData\\Local\\Programs\\Python\\Python311\\Lib\\site-packages\\sklearn\\neighbors\\_base.py:653: UserWarning: Mind that for 0 < p < 1, Minkowski metrics are not distance metrics. Continuing the execution with `algorithm='brute'`.\n",
      "  warnings.warn(\n"
     ]
    },
    {
     "name": "stdout",
     "output_type": "stream",
     "text": [
      "Metric: minkowski_0.5, Run: 4/10\n"
     ]
    },
    {
     "name": "stderr",
     "output_type": "stream",
     "text": [
      "c:\\Users\\sofus\\AppData\\Local\\Programs\\Python\\Python311\\Lib\\site-packages\\sklearn\\neighbors\\_graph.py:434: SyntaxWarning: Parameter p is found in metric_params. The corresponding parameter from __init__ is ignored.\n",
      "  self._fit(X)\n",
      "c:\\Users\\sofus\\AppData\\Local\\Programs\\Python\\Python311\\Lib\\site-packages\\sklearn\\neighbors\\_base.py:653: UserWarning: Mind that for 0 < p < 1, Minkowski metrics are not distance metrics. Continuing the execution with `algorithm='brute'`.\n",
      "  warnings.warn(\n"
     ]
    },
    {
     "name": "stdout",
     "output_type": "stream",
     "text": [
      "Metric: minkowski_0.5, Run: 5/10\n"
     ]
    },
    {
     "name": "stderr",
     "output_type": "stream",
     "text": [
      "c:\\Users\\sofus\\AppData\\Local\\Programs\\Python\\Python311\\Lib\\site-packages\\sklearn\\neighbors\\_graph.py:434: SyntaxWarning: Parameter p is found in metric_params. The corresponding parameter from __init__ is ignored.\n",
      "  self._fit(X)\n",
      "c:\\Users\\sofus\\AppData\\Local\\Programs\\Python\\Python311\\Lib\\site-packages\\sklearn\\neighbors\\_base.py:653: UserWarning: Mind that for 0 < p < 1, Minkowski metrics are not distance metrics. Continuing the execution with `algorithm='brute'`.\n",
      "  warnings.warn(\n"
     ]
    },
    {
     "name": "stdout",
     "output_type": "stream",
     "text": [
      "Metric: minkowski_0.5, Run: 6/10\n"
     ]
    },
    {
     "name": "stderr",
     "output_type": "stream",
     "text": [
      "c:\\Users\\sofus\\AppData\\Local\\Programs\\Python\\Python311\\Lib\\site-packages\\sklearn\\neighbors\\_graph.py:434: SyntaxWarning: Parameter p is found in metric_params. The corresponding parameter from __init__ is ignored.\n",
      "  self._fit(X)\n",
      "c:\\Users\\sofus\\AppData\\Local\\Programs\\Python\\Python311\\Lib\\site-packages\\sklearn\\neighbors\\_base.py:653: UserWarning: Mind that for 0 < p < 1, Minkowski metrics are not distance metrics. Continuing the execution with `algorithm='brute'`.\n",
      "  warnings.warn(\n"
     ]
    },
    {
     "name": "stdout",
     "output_type": "stream",
     "text": [
      "Metric: minkowski_0.5, Run: 7/10\n"
     ]
    },
    {
     "name": "stderr",
     "output_type": "stream",
     "text": [
      "c:\\Users\\sofus\\AppData\\Local\\Programs\\Python\\Python311\\Lib\\site-packages\\sklearn\\neighbors\\_graph.py:434: SyntaxWarning: Parameter p is found in metric_params. The corresponding parameter from __init__ is ignored.\n",
      "  self._fit(X)\n",
      "c:\\Users\\sofus\\AppData\\Local\\Programs\\Python\\Python311\\Lib\\site-packages\\sklearn\\neighbors\\_base.py:653: UserWarning: Mind that for 0 < p < 1, Minkowski metrics are not distance metrics. Continuing the execution with `algorithm='brute'`.\n",
      "  warnings.warn(\n"
     ]
    },
    {
     "name": "stdout",
     "output_type": "stream",
     "text": [
      "Metric: minkowski_0.5, Run: 8/10\n"
     ]
    },
    {
     "name": "stderr",
     "output_type": "stream",
     "text": [
      "c:\\Users\\sofus\\AppData\\Local\\Programs\\Python\\Python311\\Lib\\site-packages\\sklearn\\neighbors\\_graph.py:434: SyntaxWarning: Parameter p is found in metric_params. The corresponding parameter from __init__ is ignored.\n",
      "  self._fit(X)\n",
      "c:\\Users\\sofus\\AppData\\Local\\Programs\\Python\\Python311\\Lib\\site-packages\\sklearn\\neighbors\\_base.py:653: UserWarning: Mind that for 0 < p < 1, Minkowski metrics are not distance metrics. Continuing the execution with `algorithm='brute'`.\n",
      "  warnings.warn(\n"
     ]
    },
    {
     "name": "stdout",
     "output_type": "stream",
     "text": [
      "Metric: minkowski_0.5, Run: 9/10\n"
     ]
    },
    {
     "name": "stderr",
     "output_type": "stream",
     "text": [
      "c:\\Users\\sofus\\AppData\\Local\\Programs\\Python\\Python311\\Lib\\site-packages\\sklearn\\neighbors\\_graph.py:434: SyntaxWarning: Parameter p is found in metric_params. The corresponding parameter from __init__ is ignored.\n",
      "  self._fit(X)\n",
      "c:\\Users\\sofus\\AppData\\Local\\Programs\\Python\\Python311\\Lib\\site-packages\\sklearn\\neighbors\\_base.py:653: UserWarning: Mind that for 0 < p < 1, Minkowski metrics are not distance metrics. Continuing the execution with `algorithm='brute'`.\n",
      "  warnings.warn(\n"
     ]
    },
    {
     "name": "stdout",
     "output_type": "stream",
     "text": [
      "Metric: minkowski_0.5, Run: 10/10\n"
     ]
    },
    {
     "name": "stderr",
     "output_type": "stream",
     "text": [
      "c:\\Users\\sofus\\AppData\\Local\\Programs\\Python\\Python311\\Lib\\site-packages\\sklearn\\neighbors\\_graph.py:434: SyntaxWarning: Parameter p is found in metric_params. The corresponding parameter from __init__ is ignored.\n",
      "  self._fit(X)\n",
      "c:\\Users\\sofus\\AppData\\Local\\Programs\\Python\\Python311\\Lib\\site-packages\\sklearn\\neighbors\\_base.py:653: UserWarning: Mind that for 0 < p < 1, Minkowski metrics are not distance metrics. Continuing the execution with `algorithm='brute'`.\n",
      "  warnings.warn(\n"
     ]
    },
    {
     "name": "stdout",
     "output_type": "stream",
     "text": [
      "\n",
      "=== Dropout Level: 0.7 ===\n",
      "Metric: euclidean, Run: 1/10\n",
      "Metric: euclidean, Run: 2/10\n",
      "Metric: euclidean, Run: 3/10\n",
      "Metric: euclidean, Run: 4/10\n",
      "Metric: euclidean, Run: 5/10\n",
      "Metric: euclidean, Run: 6/10\n",
      "Metric: euclidean, Run: 7/10\n",
      "Metric: euclidean, Run: 8/10\n",
      "Metric: euclidean, Run: 9/10\n",
      "Metric: euclidean, Run: 10/10\n",
      "Metric: manhattan, Run: 1/10\n",
      "Metric: manhattan, Run: 2/10\n",
      "Metric: manhattan, Run: 3/10\n",
      "Metric: manhattan, Run: 4/10\n",
      "Metric: manhattan, Run: 5/10\n",
      "Metric: manhattan, Run: 6/10\n",
      "Metric: manhattan, Run: 7/10\n",
      "Metric: manhattan, Run: 8/10\n",
      "Metric: manhattan, Run: 9/10\n",
      "Metric: manhattan, Run: 10/10\n",
      "Metric: minkowski_0.5, Run: 1/10\n"
     ]
    },
    {
     "name": "stderr",
     "output_type": "stream",
     "text": [
      "c:\\Users\\sofus\\AppData\\Local\\Programs\\Python\\Python311\\Lib\\site-packages\\sklearn\\neighbors\\_graph.py:434: SyntaxWarning: Parameter p is found in metric_params. The corresponding parameter from __init__ is ignored.\n",
      "  self._fit(X)\n",
      "c:\\Users\\sofus\\AppData\\Local\\Programs\\Python\\Python311\\Lib\\site-packages\\sklearn\\neighbors\\_base.py:653: UserWarning: Mind that for 0 < p < 1, Minkowski metrics are not distance metrics. Continuing the execution with `algorithm='brute'`.\n",
      "  warnings.warn(\n"
     ]
    },
    {
     "name": "stdout",
     "output_type": "stream",
     "text": [
      "Metric: minkowski_0.5, Run: 2/10\n"
     ]
    },
    {
     "name": "stderr",
     "output_type": "stream",
     "text": [
      "c:\\Users\\sofus\\AppData\\Local\\Programs\\Python\\Python311\\Lib\\site-packages\\sklearn\\neighbors\\_graph.py:434: SyntaxWarning: Parameter p is found in metric_params. The corresponding parameter from __init__ is ignored.\n",
      "  self._fit(X)\n",
      "c:\\Users\\sofus\\AppData\\Local\\Programs\\Python\\Python311\\Lib\\site-packages\\sklearn\\neighbors\\_base.py:653: UserWarning: Mind that for 0 < p < 1, Minkowski metrics are not distance metrics. Continuing the execution with `algorithm='brute'`.\n",
      "  warnings.warn(\n"
     ]
    },
    {
     "name": "stdout",
     "output_type": "stream",
     "text": [
      "Metric: minkowski_0.5, Run: 3/10\n"
     ]
    },
    {
     "name": "stderr",
     "output_type": "stream",
     "text": [
      "c:\\Users\\sofus\\AppData\\Local\\Programs\\Python\\Python311\\Lib\\site-packages\\sklearn\\neighbors\\_graph.py:434: SyntaxWarning: Parameter p is found in metric_params. The corresponding parameter from __init__ is ignored.\n",
      "  self._fit(X)\n",
      "c:\\Users\\sofus\\AppData\\Local\\Programs\\Python\\Python311\\Lib\\site-packages\\sklearn\\neighbors\\_base.py:653: UserWarning: Mind that for 0 < p < 1, Minkowski metrics are not distance metrics. Continuing the execution with `algorithm='brute'`.\n",
      "  warnings.warn(\n"
     ]
    },
    {
     "name": "stdout",
     "output_type": "stream",
     "text": [
      "Metric: minkowski_0.5, Run: 4/10\n"
     ]
    },
    {
     "name": "stderr",
     "output_type": "stream",
     "text": [
      "c:\\Users\\sofus\\AppData\\Local\\Programs\\Python\\Python311\\Lib\\site-packages\\sklearn\\neighbors\\_graph.py:434: SyntaxWarning: Parameter p is found in metric_params. The corresponding parameter from __init__ is ignored.\n",
      "  self._fit(X)\n",
      "c:\\Users\\sofus\\AppData\\Local\\Programs\\Python\\Python311\\Lib\\site-packages\\sklearn\\neighbors\\_base.py:653: UserWarning: Mind that for 0 < p < 1, Minkowski metrics are not distance metrics. Continuing the execution with `algorithm='brute'`.\n",
      "  warnings.warn(\n"
     ]
    },
    {
     "name": "stdout",
     "output_type": "stream",
     "text": [
      "Metric: minkowski_0.5, Run: 5/10\n"
     ]
    },
    {
     "name": "stderr",
     "output_type": "stream",
     "text": [
      "c:\\Users\\sofus\\AppData\\Local\\Programs\\Python\\Python311\\Lib\\site-packages\\sklearn\\neighbors\\_graph.py:434: SyntaxWarning: Parameter p is found in metric_params. The corresponding parameter from __init__ is ignored.\n",
      "  self._fit(X)\n",
      "c:\\Users\\sofus\\AppData\\Local\\Programs\\Python\\Python311\\Lib\\site-packages\\sklearn\\neighbors\\_base.py:653: UserWarning: Mind that for 0 < p < 1, Minkowski metrics are not distance metrics. Continuing the execution with `algorithm='brute'`.\n",
      "  warnings.warn(\n"
     ]
    },
    {
     "name": "stdout",
     "output_type": "stream",
     "text": [
      "Metric: minkowski_0.5, Run: 6/10\n"
     ]
    },
    {
     "name": "stderr",
     "output_type": "stream",
     "text": [
      "c:\\Users\\sofus\\AppData\\Local\\Programs\\Python\\Python311\\Lib\\site-packages\\sklearn\\neighbors\\_graph.py:434: SyntaxWarning: Parameter p is found in metric_params. The corresponding parameter from __init__ is ignored.\n",
      "  self._fit(X)\n",
      "c:\\Users\\sofus\\AppData\\Local\\Programs\\Python\\Python311\\Lib\\site-packages\\sklearn\\neighbors\\_base.py:653: UserWarning: Mind that for 0 < p < 1, Minkowski metrics are not distance metrics. Continuing the execution with `algorithm='brute'`.\n",
      "  warnings.warn(\n"
     ]
    },
    {
     "name": "stdout",
     "output_type": "stream",
     "text": [
      "Metric: minkowski_0.5, Run: 7/10\n"
     ]
    },
    {
     "name": "stderr",
     "output_type": "stream",
     "text": [
      "c:\\Users\\sofus\\AppData\\Local\\Programs\\Python\\Python311\\Lib\\site-packages\\sklearn\\neighbors\\_graph.py:434: SyntaxWarning: Parameter p is found in metric_params. The corresponding parameter from __init__ is ignored.\n",
      "  self._fit(X)\n",
      "c:\\Users\\sofus\\AppData\\Local\\Programs\\Python\\Python311\\Lib\\site-packages\\sklearn\\neighbors\\_base.py:653: UserWarning: Mind that for 0 < p < 1, Minkowski metrics are not distance metrics. Continuing the execution with `algorithm='brute'`.\n",
      "  warnings.warn(\n"
     ]
    },
    {
     "name": "stdout",
     "output_type": "stream",
     "text": [
      "Metric: minkowski_0.5, Run: 8/10\n"
     ]
    },
    {
     "name": "stderr",
     "output_type": "stream",
     "text": [
      "c:\\Users\\sofus\\AppData\\Local\\Programs\\Python\\Python311\\Lib\\site-packages\\sklearn\\neighbors\\_graph.py:434: SyntaxWarning: Parameter p is found in metric_params. The corresponding parameter from __init__ is ignored.\n",
      "  self._fit(X)\n",
      "c:\\Users\\sofus\\AppData\\Local\\Programs\\Python\\Python311\\Lib\\site-packages\\sklearn\\neighbors\\_base.py:653: UserWarning: Mind that for 0 < p < 1, Minkowski metrics are not distance metrics. Continuing the execution with `algorithm='brute'`.\n",
      "  warnings.warn(\n"
     ]
    },
    {
     "name": "stdout",
     "output_type": "stream",
     "text": [
      "Metric: minkowski_0.5, Run: 9/10\n"
     ]
    },
    {
     "name": "stderr",
     "output_type": "stream",
     "text": [
      "c:\\Users\\sofus\\AppData\\Local\\Programs\\Python\\Python311\\Lib\\site-packages\\sklearn\\neighbors\\_graph.py:434: SyntaxWarning: Parameter p is found in metric_params. The corresponding parameter from __init__ is ignored.\n",
      "  self._fit(X)\n",
      "c:\\Users\\sofus\\AppData\\Local\\Programs\\Python\\Python311\\Lib\\site-packages\\sklearn\\neighbors\\_base.py:653: UserWarning: Mind that for 0 < p < 1, Minkowski metrics are not distance metrics. Continuing the execution with `algorithm='brute'`.\n",
      "  warnings.warn(\n"
     ]
    },
    {
     "name": "stdout",
     "output_type": "stream",
     "text": [
      "Metric: minkowski_0.5, Run: 10/10\n"
     ]
    },
    {
     "name": "stderr",
     "output_type": "stream",
     "text": [
      "c:\\Users\\sofus\\AppData\\Local\\Programs\\Python\\Python311\\Lib\\site-packages\\sklearn\\neighbors\\_graph.py:434: SyntaxWarning: Parameter p is found in metric_params. The corresponding parameter from __init__ is ignored.\n",
      "  self._fit(X)\n",
      "c:\\Users\\sofus\\AppData\\Local\\Programs\\Python\\Python311\\Lib\\site-packages\\sklearn\\neighbors\\_base.py:653: UserWarning: Mind that for 0 < p < 1, Minkowski metrics are not distance metrics. Continuing the execution with `algorithm='brute'`.\n",
      "  warnings.warn(\n"
     ]
    },
    {
     "name": "stdout",
     "output_type": "stream",
     "text": [
      "\n",
      "=== Dropout Level: 0.8 ===\n",
      "Metric: euclidean, Run: 1/10\n",
      "Metric: euclidean, Run: 2/10\n",
      "Metric: euclidean, Run: 3/10\n",
      "Metric: euclidean, Run: 4/10\n",
      "Metric: euclidean, Run: 5/10\n",
      "Metric: euclidean, Run: 6/10\n",
      "Metric: euclidean, Run: 7/10\n",
      "Metric: euclidean, Run: 8/10\n",
      "Metric: euclidean, Run: 9/10\n",
      "Metric: euclidean, Run: 10/10\n",
      "Metric: manhattan, Run: 1/10\n",
      "Metric: manhattan, Run: 2/10\n",
      "Metric: manhattan, Run: 3/10\n",
      "Metric: manhattan, Run: 4/10\n",
      "Metric: manhattan, Run: 5/10\n",
      "Metric: manhattan, Run: 6/10\n",
      "Metric: manhattan, Run: 7/10\n",
      "Metric: manhattan, Run: 8/10\n",
      "Metric: manhattan, Run: 9/10\n",
      "Metric: manhattan, Run: 10/10\n",
      "Metric: minkowski_0.5, Run: 1/10\n"
     ]
    },
    {
     "name": "stderr",
     "output_type": "stream",
     "text": [
      "c:\\Users\\sofus\\AppData\\Local\\Programs\\Python\\Python311\\Lib\\site-packages\\sklearn\\neighbors\\_graph.py:434: SyntaxWarning: Parameter p is found in metric_params. The corresponding parameter from __init__ is ignored.\n",
      "  self._fit(X)\n",
      "c:\\Users\\sofus\\AppData\\Local\\Programs\\Python\\Python311\\Lib\\site-packages\\sklearn\\neighbors\\_base.py:653: UserWarning: Mind that for 0 < p < 1, Minkowski metrics are not distance metrics. Continuing the execution with `algorithm='brute'`.\n",
      "  warnings.warn(\n"
     ]
    },
    {
     "name": "stdout",
     "output_type": "stream",
     "text": [
      "Metric: minkowski_0.5, Run: 2/10\n"
     ]
    },
    {
     "name": "stderr",
     "output_type": "stream",
     "text": [
      "c:\\Users\\sofus\\AppData\\Local\\Programs\\Python\\Python311\\Lib\\site-packages\\sklearn\\neighbors\\_graph.py:434: SyntaxWarning: Parameter p is found in metric_params. The corresponding parameter from __init__ is ignored.\n",
      "  self._fit(X)\n",
      "c:\\Users\\sofus\\AppData\\Local\\Programs\\Python\\Python311\\Lib\\site-packages\\sklearn\\neighbors\\_base.py:653: UserWarning: Mind that for 0 < p < 1, Minkowski metrics are not distance metrics. Continuing the execution with `algorithm='brute'`.\n",
      "  warnings.warn(\n"
     ]
    },
    {
     "name": "stdout",
     "output_type": "stream",
     "text": [
      "Metric: minkowski_0.5, Run: 3/10\n"
     ]
    },
    {
     "name": "stderr",
     "output_type": "stream",
     "text": [
      "c:\\Users\\sofus\\AppData\\Local\\Programs\\Python\\Python311\\Lib\\site-packages\\sklearn\\neighbors\\_graph.py:434: SyntaxWarning: Parameter p is found in metric_params. The corresponding parameter from __init__ is ignored.\n",
      "  self._fit(X)\n",
      "c:\\Users\\sofus\\AppData\\Local\\Programs\\Python\\Python311\\Lib\\site-packages\\sklearn\\neighbors\\_base.py:653: UserWarning: Mind that for 0 < p < 1, Minkowski metrics are not distance metrics. Continuing the execution with `algorithm='brute'`.\n",
      "  warnings.warn(\n"
     ]
    },
    {
     "name": "stdout",
     "output_type": "stream",
     "text": [
      "Metric: minkowski_0.5, Run: 4/10\n"
     ]
    },
    {
     "name": "stderr",
     "output_type": "stream",
     "text": [
      "c:\\Users\\sofus\\AppData\\Local\\Programs\\Python\\Python311\\Lib\\site-packages\\sklearn\\neighbors\\_graph.py:434: SyntaxWarning: Parameter p is found in metric_params. The corresponding parameter from __init__ is ignored.\n",
      "  self._fit(X)\n",
      "c:\\Users\\sofus\\AppData\\Local\\Programs\\Python\\Python311\\Lib\\site-packages\\sklearn\\neighbors\\_base.py:653: UserWarning: Mind that for 0 < p < 1, Minkowski metrics are not distance metrics. Continuing the execution with `algorithm='brute'`.\n",
      "  warnings.warn(\n"
     ]
    },
    {
     "name": "stdout",
     "output_type": "stream",
     "text": [
      "Metric: minkowski_0.5, Run: 5/10\n"
     ]
    },
    {
     "name": "stderr",
     "output_type": "stream",
     "text": [
      "c:\\Users\\sofus\\AppData\\Local\\Programs\\Python\\Python311\\Lib\\site-packages\\sklearn\\neighbors\\_graph.py:434: SyntaxWarning: Parameter p is found in metric_params. The corresponding parameter from __init__ is ignored.\n",
      "  self._fit(X)\n",
      "c:\\Users\\sofus\\AppData\\Local\\Programs\\Python\\Python311\\Lib\\site-packages\\sklearn\\neighbors\\_base.py:653: UserWarning: Mind that for 0 < p < 1, Minkowski metrics are not distance metrics. Continuing the execution with `algorithm='brute'`.\n",
      "  warnings.warn(\n"
     ]
    },
    {
     "name": "stdout",
     "output_type": "stream",
     "text": [
      "Metric: minkowski_0.5, Run: 6/10\n"
     ]
    },
    {
     "name": "stderr",
     "output_type": "stream",
     "text": [
      "c:\\Users\\sofus\\AppData\\Local\\Programs\\Python\\Python311\\Lib\\site-packages\\sklearn\\neighbors\\_graph.py:434: SyntaxWarning: Parameter p is found in metric_params. The corresponding parameter from __init__ is ignored.\n",
      "  self._fit(X)\n",
      "c:\\Users\\sofus\\AppData\\Local\\Programs\\Python\\Python311\\Lib\\site-packages\\sklearn\\neighbors\\_base.py:653: UserWarning: Mind that for 0 < p < 1, Minkowski metrics are not distance metrics. Continuing the execution with `algorithm='brute'`.\n",
      "  warnings.warn(\n"
     ]
    },
    {
     "name": "stdout",
     "output_type": "stream",
     "text": [
      "Metric: minkowski_0.5, Run: 7/10\n"
     ]
    },
    {
     "name": "stderr",
     "output_type": "stream",
     "text": [
      "c:\\Users\\sofus\\AppData\\Local\\Programs\\Python\\Python311\\Lib\\site-packages\\sklearn\\neighbors\\_graph.py:434: SyntaxWarning: Parameter p is found in metric_params. The corresponding parameter from __init__ is ignored.\n",
      "  self._fit(X)\n",
      "c:\\Users\\sofus\\AppData\\Local\\Programs\\Python\\Python311\\Lib\\site-packages\\sklearn\\neighbors\\_base.py:653: UserWarning: Mind that for 0 < p < 1, Minkowski metrics are not distance metrics. Continuing the execution with `algorithm='brute'`.\n",
      "  warnings.warn(\n"
     ]
    },
    {
     "name": "stdout",
     "output_type": "stream",
     "text": [
      "Metric: minkowski_0.5, Run: 8/10\n"
     ]
    },
    {
     "name": "stderr",
     "output_type": "stream",
     "text": [
      "c:\\Users\\sofus\\AppData\\Local\\Programs\\Python\\Python311\\Lib\\site-packages\\sklearn\\neighbors\\_graph.py:434: SyntaxWarning: Parameter p is found in metric_params. The corresponding parameter from __init__ is ignored.\n",
      "  self._fit(X)\n",
      "c:\\Users\\sofus\\AppData\\Local\\Programs\\Python\\Python311\\Lib\\site-packages\\sklearn\\neighbors\\_base.py:653: UserWarning: Mind that for 0 < p < 1, Minkowski metrics are not distance metrics. Continuing the execution with `algorithm='brute'`.\n",
      "  warnings.warn(\n"
     ]
    },
    {
     "name": "stdout",
     "output_type": "stream",
     "text": [
      "Metric: minkowski_0.5, Run: 9/10\n"
     ]
    },
    {
     "name": "stderr",
     "output_type": "stream",
     "text": [
      "c:\\Users\\sofus\\AppData\\Local\\Programs\\Python\\Python311\\Lib\\site-packages\\sklearn\\neighbors\\_graph.py:434: SyntaxWarning: Parameter p is found in metric_params. The corresponding parameter from __init__ is ignored.\n",
      "  self._fit(X)\n",
      "c:\\Users\\sofus\\AppData\\Local\\Programs\\Python\\Python311\\Lib\\site-packages\\sklearn\\neighbors\\_base.py:653: UserWarning: Mind that for 0 < p < 1, Minkowski metrics are not distance metrics. Continuing the execution with `algorithm='brute'`.\n",
      "  warnings.warn(\n"
     ]
    },
    {
     "name": "stdout",
     "output_type": "stream",
     "text": [
      "Metric: minkowski_0.5, Run: 10/10\n"
     ]
    },
    {
     "name": "stderr",
     "output_type": "stream",
     "text": [
      "c:\\Users\\sofus\\AppData\\Local\\Programs\\Python\\Python311\\Lib\\site-packages\\sklearn\\neighbors\\_graph.py:434: SyntaxWarning: Parameter p is found in metric_params. The corresponding parameter from __init__ is ignored.\n",
      "  self._fit(X)\n",
      "c:\\Users\\sofus\\AppData\\Local\\Programs\\Python\\Python311\\Lib\\site-packages\\sklearn\\neighbors\\_base.py:653: UserWarning: Mind that for 0 < p < 1, Minkowski metrics are not distance metrics. Continuing the execution with `algorithm='brute'`.\n",
      "  warnings.warn(\n"
     ]
    },
    {
     "name": "stdout",
     "output_type": "stream",
     "text": [
      "\n",
      "=== Dropout Level: 0.9 ===\n",
      "Metric: euclidean, Run: 1/10\n",
      "Metric: euclidean, Run: 2/10\n",
      "Metric: euclidean, Run: 3/10\n",
      "Metric: euclidean, Run: 4/10\n",
      "Metric: euclidean, Run: 5/10\n",
      "Metric: euclidean, Run: 6/10\n",
      "Metric: euclidean, Run: 7/10\n",
      "Metric: euclidean, Run: 8/10\n",
      "Metric: euclidean, Run: 9/10\n",
      "Metric: euclidean, Run: 10/10\n",
      "Metric: manhattan, Run: 1/10\n",
      "Metric: manhattan, Run: 2/10\n",
      "Metric: manhattan, Run: 3/10\n",
      "Metric: manhattan, Run: 4/10\n",
      "Metric: manhattan, Run: 5/10\n",
      "Metric: manhattan, Run: 6/10\n",
      "Metric: manhattan, Run: 7/10\n",
      "Metric: manhattan, Run: 8/10\n",
      "Metric: manhattan, Run: 9/10\n",
      "Metric: manhattan, Run: 10/10\n",
      "Metric: minkowski_0.5, Run: 1/10\n"
     ]
    },
    {
     "name": "stderr",
     "output_type": "stream",
     "text": [
      "c:\\Users\\sofus\\AppData\\Local\\Programs\\Python\\Python311\\Lib\\site-packages\\sklearn\\neighbors\\_graph.py:434: SyntaxWarning: Parameter p is found in metric_params. The corresponding parameter from __init__ is ignored.\n",
      "  self._fit(X)\n",
      "c:\\Users\\sofus\\AppData\\Local\\Programs\\Python\\Python311\\Lib\\site-packages\\sklearn\\neighbors\\_base.py:653: UserWarning: Mind that for 0 < p < 1, Minkowski metrics are not distance metrics. Continuing the execution with `algorithm='brute'`.\n",
      "  warnings.warn(\n"
     ]
    },
    {
     "name": "stdout",
     "output_type": "stream",
     "text": [
      "Metric: minkowski_0.5, Run: 2/10\n"
     ]
    },
    {
     "name": "stderr",
     "output_type": "stream",
     "text": [
      "c:\\Users\\sofus\\AppData\\Local\\Programs\\Python\\Python311\\Lib\\site-packages\\sklearn\\neighbors\\_graph.py:434: SyntaxWarning: Parameter p is found in metric_params. The corresponding parameter from __init__ is ignored.\n",
      "  self._fit(X)\n",
      "c:\\Users\\sofus\\AppData\\Local\\Programs\\Python\\Python311\\Lib\\site-packages\\sklearn\\neighbors\\_base.py:653: UserWarning: Mind that for 0 < p < 1, Minkowski metrics are not distance metrics. Continuing the execution with `algorithm='brute'`.\n",
      "  warnings.warn(\n"
     ]
    },
    {
     "name": "stdout",
     "output_type": "stream",
     "text": [
      "Metric: minkowski_0.5, Run: 3/10\n"
     ]
    },
    {
     "name": "stderr",
     "output_type": "stream",
     "text": [
      "c:\\Users\\sofus\\AppData\\Local\\Programs\\Python\\Python311\\Lib\\site-packages\\sklearn\\neighbors\\_graph.py:434: SyntaxWarning: Parameter p is found in metric_params. The corresponding parameter from __init__ is ignored.\n",
      "  self._fit(X)\n",
      "c:\\Users\\sofus\\AppData\\Local\\Programs\\Python\\Python311\\Lib\\site-packages\\sklearn\\neighbors\\_base.py:653: UserWarning: Mind that for 0 < p < 1, Minkowski metrics are not distance metrics. Continuing the execution with `algorithm='brute'`.\n",
      "  warnings.warn(\n"
     ]
    },
    {
     "name": "stdout",
     "output_type": "stream",
     "text": [
      "Metric: minkowski_0.5, Run: 4/10\n"
     ]
    },
    {
     "name": "stderr",
     "output_type": "stream",
     "text": [
      "c:\\Users\\sofus\\AppData\\Local\\Programs\\Python\\Python311\\Lib\\site-packages\\sklearn\\neighbors\\_graph.py:434: SyntaxWarning: Parameter p is found in metric_params. The corresponding parameter from __init__ is ignored.\n",
      "  self._fit(X)\n",
      "c:\\Users\\sofus\\AppData\\Local\\Programs\\Python\\Python311\\Lib\\site-packages\\sklearn\\neighbors\\_base.py:653: UserWarning: Mind that for 0 < p < 1, Minkowski metrics are not distance metrics. Continuing the execution with `algorithm='brute'`.\n",
      "  warnings.warn(\n"
     ]
    },
    {
     "name": "stdout",
     "output_type": "stream",
     "text": [
      "Metric: minkowski_0.5, Run: 5/10\n"
     ]
    },
    {
     "name": "stderr",
     "output_type": "stream",
     "text": [
      "c:\\Users\\sofus\\AppData\\Local\\Programs\\Python\\Python311\\Lib\\site-packages\\sklearn\\neighbors\\_graph.py:434: SyntaxWarning: Parameter p is found in metric_params. The corresponding parameter from __init__ is ignored.\n",
      "  self._fit(X)\n",
      "c:\\Users\\sofus\\AppData\\Local\\Programs\\Python\\Python311\\Lib\\site-packages\\sklearn\\neighbors\\_base.py:653: UserWarning: Mind that for 0 < p < 1, Minkowski metrics are not distance metrics. Continuing the execution with `algorithm='brute'`.\n",
      "  warnings.warn(\n"
     ]
    },
    {
     "name": "stdout",
     "output_type": "stream",
     "text": [
      "Metric: minkowski_0.5, Run: 6/10\n"
     ]
    },
    {
     "name": "stderr",
     "output_type": "stream",
     "text": [
      "c:\\Users\\sofus\\AppData\\Local\\Programs\\Python\\Python311\\Lib\\site-packages\\sklearn\\neighbors\\_graph.py:434: SyntaxWarning: Parameter p is found in metric_params. The corresponding parameter from __init__ is ignored.\n",
      "  self._fit(X)\n",
      "c:\\Users\\sofus\\AppData\\Local\\Programs\\Python\\Python311\\Lib\\site-packages\\sklearn\\neighbors\\_base.py:653: UserWarning: Mind that for 0 < p < 1, Minkowski metrics are not distance metrics. Continuing the execution with `algorithm='brute'`.\n",
      "  warnings.warn(\n"
     ]
    },
    {
     "name": "stdout",
     "output_type": "stream",
     "text": [
      "Metric: minkowski_0.5, Run: 7/10\n"
     ]
    },
    {
     "name": "stderr",
     "output_type": "stream",
     "text": [
      "c:\\Users\\sofus\\AppData\\Local\\Programs\\Python\\Python311\\Lib\\site-packages\\sklearn\\neighbors\\_graph.py:434: SyntaxWarning: Parameter p is found in metric_params. The corresponding parameter from __init__ is ignored.\n",
      "  self._fit(X)\n",
      "c:\\Users\\sofus\\AppData\\Local\\Programs\\Python\\Python311\\Lib\\site-packages\\sklearn\\neighbors\\_base.py:653: UserWarning: Mind that for 0 < p < 1, Minkowski metrics are not distance metrics. Continuing the execution with `algorithm='brute'`.\n",
      "  warnings.warn(\n"
     ]
    },
    {
     "name": "stdout",
     "output_type": "stream",
     "text": [
      "Metric: minkowski_0.5, Run: 8/10\n"
     ]
    },
    {
     "name": "stderr",
     "output_type": "stream",
     "text": [
      "c:\\Users\\sofus\\AppData\\Local\\Programs\\Python\\Python311\\Lib\\site-packages\\sklearn\\neighbors\\_graph.py:434: SyntaxWarning: Parameter p is found in metric_params. The corresponding parameter from __init__ is ignored.\n",
      "  self._fit(X)\n",
      "c:\\Users\\sofus\\AppData\\Local\\Programs\\Python\\Python311\\Lib\\site-packages\\sklearn\\neighbors\\_base.py:653: UserWarning: Mind that for 0 < p < 1, Minkowski metrics are not distance metrics. Continuing the execution with `algorithm='brute'`.\n",
      "  warnings.warn(\n"
     ]
    },
    {
     "name": "stdout",
     "output_type": "stream",
     "text": [
      "Metric: minkowski_0.5, Run: 9/10\n"
     ]
    },
    {
     "name": "stderr",
     "output_type": "stream",
     "text": [
      "c:\\Users\\sofus\\AppData\\Local\\Programs\\Python\\Python311\\Lib\\site-packages\\sklearn\\neighbors\\_graph.py:434: SyntaxWarning: Parameter p is found in metric_params. The corresponding parameter from __init__ is ignored.\n",
      "  self._fit(X)\n",
      "c:\\Users\\sofus\\AppData\\Local\\Programs\\Python\\Python311\\Lib\\site-packages\\sklearn\\neighbors\\_base.py:653: UserWarning: Mind that for 0 < p < 1, Minkowski metrics are not distance metrics. Continuing the execution with `algorithm='brute'`.\n",
      "  warnings.warn(\n"
     ]
    },
    {
     "name": "stdout",
     "output_type": "stream",
     "text": [
      "Metric: minkowski_0.5, Run: 10/10\n"
     ]
    },
    {
     "name": "stderr",
     "output_type": "stream",
     "text": [
      "c:\\Users\\sofus\\AppData\\Local\\Programs\\Python\\Python311\\Lib\\site-packages\\sklearn\\neighbors\\_graph.py:434: SyntaxWarning: Parameter p is found in metric_params. The corresponding parameter from __init__ is ignored.\n",
      "  self._fit(X)\n",
      "c:\\Users\\sofus\\AppData\\Local\\Programs\\Python\\Python311\\Lib\\site-packages\\sklearn\\neighbors\\_base.py:653: UserWarning: Mind that for 0 < p < 1, Minkowski metrics are not distance metrics. Continuing the execution with `algorithm='brute'`.\n",
      "  warnings.warn(\n"
     ]
    }
   ],
   "source": [
    "import numpy as np\n",
    "import pandas as pd\n",
    "import scanpy as sc\n",
    "from sklearn.manifold import trustworthiness\n",
    "from sklearn.metrics import silhouette_score\n",
    "from scipy.spatial import distance\n",
    "\n",
    "label_path = '../../data/S500/symsim_labels_20000genes_500cells_simple.csv'\n",
    "dropout_levels = [round(i / 10, 1) for i in range(1, 10)]\n",
    "\n",
    "#load constant labels\n",
    "labels = pd.read_csv(label_path, index_col=0)\n",
    "labels.index = labels.index.astype(int)\n",
    "\n",
    "\n",
    "all_results = {}\n",
    "\n",
    "for dropout in dropout_levels:\n",
    "    print(f\"\\n=== Dropout Level: {dropout} ===\")\n",
    "\n",
    "    data_path = f\"../../data/S500/noise_dropout_{dropout}.csv\"\n",
    "    counts = pd.read_csv(data_path, index_col=0)\n",
    "    if counts.shape[0] > counts.shape[1]:\n",
    "        counts = counts.T\n",
    "\n",
    "    adata = sc.AnnData(counts)\n",
    "    adata.obs.index = adata.obs.index.str.lstrip('X').astype(int)\n",
    "    adata.obs['cell_class'] = labels.reindex(adata.obs.index)['x'].astype(str)\n",
    "\n",
    "    metrics = {\n",
    "        'euclidean': {},\n",
    "        'manhattan': {},\n",
    "        'minkowski_0.5': {}\n",
    "    }\n",
    "\n",
    "    for metric in metrics:\n",
    "        trustworthiness_scores = []\n",
    "        silhouette_scores = []\n",
    "\n",
    "        for i in range(10):\n",
    "            print(f\"Metric: {metric}, Run: {i+1}/10\")\n",
    "\n",
    "            if metric == 'minkowski_0.5':\n",
    "                sc.pp.neighbors(adata, n_neighbors=15, use_rep='X', metric='minkowski', metric_kwds={'p': 0.5})\n",
    "            else:\n",
    "                sc.pp.neighbors(adata, n_neighbors=15, use_rep='X', metric=metric)\n",
    "\n",
    "            sc.tl.umap(adata, random_state=None)\n",
    "\n",
    "            # Trustworthiness\n",
    "            tw = trustworthiness(adata.X, adata.obsm['X_umap'], n_neighbors=15, metric='euclidean')\n",
    "            trustworthiness_scores.append(tw)\n",
    "\n",
    "            # Silhouette Score\n",
    "            sil_score = silhouette_score(adata.obsm['X_umap'], adata.obs['cell_class'], metric='euclidean')\n",
    "            silhouette_scores.append(sil_score)\n",
    "\n",
    "        metrics[metric] = {\n",
    "            'trustworthiness': trustworthiness_scores,\n",
    "            'silhouette': silhouette_scores,\n",
    "            'trustworthiness_mean': np.mean(trustworthiness_scores),\n",
    "            'trustworthiness_min': np.min(trustworthiness_scores),\n",
    "            'trustworthiness_max': np.max(trustworthiness_scores),\n",
    "            'silhouette_mean': np.mean(silhouette_scores),\n",
    "            'silhouette_min': np.min(silhouette_scores),\n",
    "            'silhouette_max': np.max(silhouette_scores)\n",
    "        }\n",
    "\n",
    "    all_results[f\"dropout_{dropout}\"] = metrics"
   ]
  },
  {
   "cell_type": "code",
   "execution_count": 3,
   "id": "4f3ac092",
   "metadata": {},
   "outputs": [
    {
     "name": "stdout",
     "output_type": "stream",
     "text": [
      "{'dropout_0.1': {'euclidean': {'trustworthiness': [0.9589856044723969, 0.9592807826694619, 0.9589252271139064, 0.9592603773584906, 0.9581640810621943, 0.9589126484975542, 0.9584396925227114, 0.9588181691125087, 0.9588181691125087, 0.9583077568134172], 'silhouette': [0.48367270046397953, 0.7121573216141975, 0.632226743471809, 0.6848309286221006, 0.6269686691541116, 0.6290139823462164, 0.6425836545845811, 0.6050095387582302, 0.5673729533180484, 0.6059298405053235], 'trustworthiness_mean': 0.9587912508735149, 'trustworthiness_min': 0.9581640810621943, 'trustworthiness_max': 0.9592807826694619, 'silhouette_mean': 0.6189766332838598, 'silhouette_min': 0.48367270046397953, 'silhouette_max': 0.7121573216141975}, 'manhattan': {'trustworthiness': [0.9544497554157931, 0.9536955974842767, 0.9548737945492662, 0.9536575821104123, 0.9535303983228511, 0.9538778476589798, 0.9537098532494759, 0.953524248777079, 0.9533691125087351, 0.9542208245981831], 'silhouette': [0.6773429130749276, 0.8404532735047091, 0.6455633459116539, 0.7282039279749699, 0.7614352557919613, 0.7161894741694305, 0.650672241401915, 0.6847303095473759, 0.6094718730964801, 0.663533702676456], 'trustworthiness_mean': 0.9538909014675052, 'trustworthiness_min': 0.9533691125087351, 'trustworthiness_max': 0.9548737945492662, 'silhouette_mean': 0.6977596317149879, 'silhouette_min': 0.6094718730964801, 'silhouette_max': 0.8404532735047091}, 'minkowski_0.5': {'trustworthiness': [0.8995728860936408, 0.9003175401816912, 0.9018384346610762, 0.901951642208246, 0.8981243885394828, 0.9011541579315164, 0.902712788259958, 0.9008153738644304, 0.8923603074772886, 0.9002163522012578], 'silhouette': [0.8814810294752189, 0.9041830008010736, 0.9109457613749028, 0.9154961196991285, 0.8693779078439957, 0.8683456989819865, 0.8725675186973366, 0.9112406018974645, 0.9360033262366736, 0.8974992762196539], 'trustworthiness_mean': 0.8999063871418589, 'trustworthiness_min': 0.8923603074772886, 'trustworthiness_max': 0.902712788259958, 'silhouette_mean': 0.8967140241227435, 'silhouette_min': 0.8683456989819865, 'silhouette_max': 0.9360033262366736}}, 'dropout_0.2': {'euclidean': {'trustworthiness': [0.9556886093640811, 0.9555004891684137, 0.9553450733752621, 0.9550127183787561, 0.9550018169112509, 0.9558990915443746, 0.9553283018867924, 0.9548819007686933, 0.9546250174703005, 0.9551877009084556], 'silhouette': [0.562811523479053, 0.48153853682443243, 0.5789755862409898, 0.47083628424677104, 0.5127786728639953, 0.5265421524446579, 0.49065556913271546, 0.45325539285747574, 0.5391843232335869, 0.5496537683030115], 'trustworthiness_mean': 0.955247071977638, 'trustworthiness_min': 0.9546250174703005, 'trustworthiness_max': 0.9558990915443746, 'silhouette_mean': 0.516623180962669, 'silhouette_min': 0.45325539285747574, 'silhouette_max': 0.5789755862409898}, 'manhattan': {'trustworthiness': [0.9516422082459819, 0.9503865828092243, 0.9526255765199162, 0.9519111111111112, 0.9525037037037037, 0.950674213836478, 0.9524732354996506, 0.9522443046820406, 0.9521965059399021, 0.9499801537386443], 'silhouette': [0.506971684208162, 0.7087937240361507, 0.5727299630373717, 0.6413614077661637, 0.6166400416113927, 0.6204255224794988, 0.5014947814661298, 0.560513458889335, 0.7095416874897323, 0.7058181520390587], 'trustworthiness_mean': 0.9516637596086653, 'trustworthiness_min': 0.9499801537386443, 'trustworthiness_max': 0.9526255765199162, 'silhouette_mean': 0.6144290423022996, 'silhouette_min': 0.5014947814661298, 'silhouette_max': 0.7095416874897323}, 'minkowski_0.5': {'trustworthiness': [0.8984310272536687, 0.8929310971348707, 0.9019376659678546, 0.9018331236897275, 0.8981621243885395, 0.9009118099231307, 0.8900886093640811, 0.897862753319357, 0.8991074772886094, 0.8968282320055905], 'silhouette': [0.8743210034649697, 0.9086055239246401, 0.8929924104843462, 0.8905778866950339, 0.9092260731375945, 0.8342680838200398, 0.8817403302236033, 0.8906490469729939, 0.850219816188232, 0.8625111791062319], 'trustworthiness_mean': 0.897809392033543, 'trustworthiness_min': 0.8900886093640811, 'trustworthiness_max': 0.9019376659678546, 'silhouette_mean': 0.8795111354017685, 'silhouette_min': 0.8342680838200398, 'silhouette_max': 0.9092260731375945}}, 'dropout_0.3': {'euclidean': {'trustworthiness': [0.9487695317959469, 0.9484830188679245, 0.9491874213836478, 0.9478009783368274, 0.9474730957372467, 0.9488891684136967, 0.9488805031446541, 0.9493858839972048, 0.9490730957372466, 0.9500491963661775], 'silhouette': [0.43348254888610577, 0.4475372168586965, 0.4852279223272872, 0.4715639762467429, 0.48953052417754783, 0.536058642441531, 0.5140714255414124, 0.46192826759177974, 0.5332663054850147, 0.5857873718802692], 'trustworthiness_mean': 0.9487991893780574, 'trustworthiness_min': 0.9474730957372467, 'trustworthiness_max': 0.9500491963661775, 'silhouette_mean': 0.49584542014363875, 'silhouette_min': 0.43348254888610577, 'silhouette_max': 0.5857873718802692}, 'manhattan': {'trustworthiness': [0.945853249475891, 0.9440765897973445, 0.9463309573724668, 0.9452279524807827, 0.9454988120195668, 0.9451879804332635, 0.9443186582809224, 0.9450633123689728, 0.9460248777078966, 0.94742893081761], 'silhouette': [0.6565247973180142, 0.7221788838090476, 0.6236517407968093, 0.7738543691091426, 0.6822429949797442, 0.7830923074224122, 0.7535375598718044, 0.6435484204176605, 0.6545738382250298, 0.6964865331764232], 'trustworthiness_mean': 0.9455011320754718, 'trustworthiness_min': 0.9440765897973445, 'trustworthiness_max': 0.94742893081761, 'silhouette_mean': 0.6989691445126087, 'silhouette_min': 0.6236517407968093, 'silhouette_max': 0.7830923074224122}, 'minkowski_0.5': {'trustworthiness': [0.885535429769392, 0.8869640810621943, 0.8860027952480782, 0.893262893081761, 0.8932022361984626, 0.88816464011181, 0.8900603773584905, 0.8849229909154438, 0.8908218029350105, 0.8875530398322851], 'silhouette': [0.8777735980879717, 0.7978874019479454, 0.9183569347574507, 0.8909162750044302, 0.8303138863332398, 0.8619463645234818, 0.887017900397929, 0.8537083986966781, 0.8616282587963976, 0.8665494877030974], 'trustworthiness_mean': 0.8886490286512927, 'trustworthiness_min': 0.8849229909154438, 'trustworthiness_max': 0.893262893081761, 'silhouette_mean': 0.8646098506248621, 'silhouette_min': 0.7978874019479454, 'silhouette_max': 0.9183569347574507}}, 'dropout_0.4': {'euclidean': {'trustworthiness': [0.9469990216631726, 0.9468623340321454, 0.9479116701607267, 0.9477825296995108, 0.9435052410901468, 0.9466554856743536, 0.9451896575821104, 0.9468198462613557, 0.9466219426974144, 0.9465844863731656], 'silhouette': [0.48340018411712377, 0.5235434330858989, 0.40186553328224706, 0.4264514568986665, 0.49432746823849116, 0.5127722244664038, 0.4545212555875992, 0.3972424056485578, 0.48400660597278483, 0.43961812955293883], 'trustworthiness_mean': 0.9464932215234102, 'trustworthiness_min': 0.9435052410901468, 'trustworthiness_max': 0.9479116701607267, 'silhouette_mean': 0.4617748696850711, 'silhouette_min': 0.3972424056485578, 'silhouette_max': 0.5235434330858989}, 'manhattan': {'trustworthiness': [0.947972606568833, 0.947895178197065, 0.9486638714185884, 0.9470633123689728, 0.9469350104821803, 0.9478443046820405, 0.9469062194269742, 0.9484723969252271, 0.9482118798043326, 0.9478417889587701], 'silhouette': [0.6722840046728285, 0.5706470926205116, 0.5007297755929228, 0.6091399169572653, 0.5947535318380105, 0.40040163234176146, 0.6413210230803144, 0.5176417515352697, 0.5870265864523817, 0.6337254628532183], 'trustworthiness_mean': 0.9477806568832985, 'trustworthiness_min': 0.9469062194269742, 'trustworthiness_max': 0.9486638714185884, 'silhouette_mean': 0.5727670777944484, 'silhouette_min': 0.40040163234176146, 'silhouette_max': 0.6722840046728285}, 'minkowski_0.5': {'trustworthiness': [0.8791362683438155, 0.8822876310272537, 0.8805937106918239, 0.8793724668064291, 0.8812978336827394, 0.8771178197064989, 0.882524109014675, 0.8768318658280922, 0.8837794549266247, 0.8847357092941999], 'silhouette': [0.9052442236110785, 0.844932438893149, 0.8958512915917336, 0.8243323542507652, 0.8972055187314071, 0.8902172840085137, 0.8804822470881136, 0.8757758581239723, 0.8580327785607158, 0.8395194537743078], 'trustworthiness_mean': 0.8807676869322153, 'trustworthiness_min': 0.8768318658280922, 'trustworthiness_max': 0.8847357092941999, 'silhouette_mean': 0.8711593448633757, 'silhouette_min': 0.8243323542507652, 'silhouette_max': 0.9052442236110785}}, 'dropout_0.5': {'euclidean': {'trustworthiness': [0.9458476589797344, 0.9459208944793851, 0.9468134171907757, 0.9452148148148148, 0.945832285115304, 0.9459714884696017, 0.9453397624039134, 0.9453791754018169, 0.9464041928721174, 0.9466898672257162], 'silhouette': [0.4643812919275662, 0.39410161598725585, 0.45496285049605617, 0.5402583569808246, 0.40610698608606377, 0.471668890435113, 0.5108593030249751, 0.4536928644104256, 0.4386055602050733, 0.48780301365752604], 'trustworthiness_mean': 0.945941355695318, 'trustworthiness_min': 0.9452148148148148, 'trustworthiness_max': 0.9468134171907757, 'silhouette_mean': 0.46224407332108797, 'silhouette_min': 0.39410161598725585, 'silhouette_max': 0.5402583569808246}, 'manhattan': {'trustworthiness': [0.942948427672956, 0.9431345911949686, 0.9418417889587701, 0.9429098532494758, 0.9410132774283718, 0.9421154437456324, 0.9418440251572328, 0.9420978336827394, 0.9420654088050314, 0.9433028651292802], 'silhouette': [0.6049977669116149, 0.6091163251308951, 0.5632861193842048, 0.5650174958148833, 0.5844477325690004, 0.5834105969412843, 0.6015635133553333, 0.5803841217325882, 0.5678238340966509, 0.5698270009071946], 'trustworthiness_mean': 0.9423273515024458, 'trustworthiness_min': 0.9410132774283718, 'trustworthiness_max': 0.9433028651292802, 'silhouette_mean': 0.5829874506843649, 'silhouette_min': 0.5632861193842048, 'silhouette_max': 0.6091163251308951}, 'minkowski_0.5': {'trustworthiness': [0.8802554856743536, 0.8745663172606569, 0.8750705800139762, 0.8737442348008386, 0.8784433263452132, 0.8753051013277429, 0.8784396925227114, 0.8797296995108316, 0.8776226415094339, 0.8760304682040532], 'silhouette': [0.7650491990917854, 0.7844887443799621, 0.7826880063772885, 0.7578203438827436, 0.766098176151954, 0.7765663041053696, 0.7449458179150379, 0.7960981715741442, 0.7583365502576169, 0.7778943232623328], 'trustworthiness_mean': 0.8769207547169812, 'trustworthiness_min': 0.8737442348008386, 'trustworthiness_max': 0.8802554856743536, 'silhouette_mean': 0.7709985636998236, 'silhouette_min': 0.7449458179150379, 'silhouette_max': 0.7960981715741442}}, 'dropout_0.6': {'euclidean': {'trustworthiness': [0.9458820405310971, 0.9465308176100629, 0.947906359189378, 0.9488824598183089, 0.9486057302585604, 0.948251572327044, 0.9478328441649196, 0.9482403913347309, 0.9472805031446541, 0.9479013277428372], 'silhouette': [0.4328373414188377, 0.28997566257756646, 0.43892286349407045, 0.48386834593785216, 0.5031811275093796, 0.47752939593019833, 0.38509615619593185, 0.4232213511331684, 0.39169049280114326, 0.37884681376019935], 'trustworthiness_mean': 0.9477314046121593, 'trustworthiness_min': 0.9458820405310971, 'trustworthiness_max': 0.9488824598183089, 'silhouette_mean': 0.4205169550758347, 'silhouette_min': 0.28997566257756646, 'silhouette_max': 0.5031811275093796}, 'manhattan': {'trustworthiness': [0.9387376659678547, 0.9379343116701607, 0.9375745632424878, 0.937669322152341, 0.9402711390635919, 0.935572606568833, 0.937943535988819, 0.9392556254367576, 0.9390756114605171, 0.9405154437456325], 'silhouette': [0.4912365631410617, 0.5713078776106403, 0.4839990224436444, 0.5641727836075111, 0.539540025499089, 0.5330702654531463, 0.48983319300736966, 0.5758393691137697, 0.5715282563228758, 0.5660697361122672], 'trustworthiness_mean': 0.9384549825296995, 'trustworthiness_min': 0.935572606568833, 'trustworthiness_max': 0.9405154437456325, 'silhouette_mean': 0.5386597092311375, 'silhouette_min': 0.4839990224436444, 'silhouette_max': 0.5758393691137697}, 'minkowski_0.5': {'trustworthiness': [0.8797076170510133, 0.8816905660377359, 0.8826023759608665, 0.8818624737945493, 0.8872332634521314, 0.8799030048916842, 0.8785618448637317, 0.880464570230608, 0.8817783368273935, 0.8773990216631726], 'silhouette': [0.6562655145626333, 0.6419780811893158, 0.6103062646353913, 0.6386582473555275, 0.6373264326954692, 0.5943415566733702, 0.6126815007351988, 0.619858565610769, 0.6204923358084456, 0.5974498468976294], 'trustworthiness_mean': 0.8811203074772885, 'trustworthiness_min': 0.8773990216631726, 'trustworthiness_max': 0.8872332634521314, 'silhouette_mean': 0.6229358346163749, 'silhouette_min': 0.5943415566733702, 'silhouette_max': 0.6562655145626333}}, 'dropout_0.7': {'euclidean': {'trustworthiness': [0.9480880503144654, 0.9464709993011879, 0.9474018169112509, 0.9479222921034242, 0.9479155835080364, 0.9465190775681341, 0.9478761705101327, 0.9473993011879804, 0.9472234800838575, 0.9470736547868623], 'silhouette': [0.3335015785841411, 0.425948621532222, 0.2569932418699342, 0.4340245596462442, 0.393852276320213, 0.4233387114031861, 0.48986510599248145, 0.3137938686312209, 0.42617437098591715, 0.38402106963948995], 'trustworthiness_mean': 0.9473890426275332, 'trustworthiness_min': 0.9464709993011879, 'trustworthiness_max': 0.9480880503144654, 'silhouette_mean': 0.38815134046050503, 'silhouette_min': 0.2569932418699342, 'silhouette_max': 0.48986510599248145}, 'manhattan': {'trustworthiness': [0.9382076869322152, 0.9390043326345213, 0.940027393431167, 0.940385464709993, 0.9402982529699511, 0.9397459119496856, 0.9387091544374563, 0.9382999301187981, 0.9365668763102726, 0.9405512229210342], 'silhouette': [0.2495252946075384, 0.3382409890373002, 0.4464315211907817, 0.3994227879927614, 0.4732049279015351, 0.3444941939502381, 0.3135080372466006, 0.353620657053072, 0.36478622816759454, 0.40966256902281417], 'trustworthiness_mean': 0.9391796226415094, 'trustworthiness_min': 0.9365668763102726, 'trustworthiness_max': 0.9405512229210342, 'silhouette_mean': 0.36928972061702364, 'silhouette_min': 0.2495252946075384, 'silhouette_max': 0.4732049279015351}, 'minkowski_0.5': {'trustworthiness': [0.8934730957372466, 0.8932651292802236, 0.894548427672956, 0.8944324248777079, 0.8980550663871418, 0.8919320754716982, 0.8958074074074074, 0.888701607267645, 0.8906012578616352, 0.8953347309573725], 'silhouette': [0.5324869066776053, 0.5356242351048277, 0.5266397311687212, 0.5192462837346519, 0.5469283716640665, 0.5552395167021309, 0.543636806165067, 0.5496135980549552, 0.5319275324177316, 0.5614799316501852], 'trustworthiness_mean': 0.8936151222921034, 'trustworthiness_min': 0.888701607267645, 'trustworthiness_max': 0.8980550663871418, 'silhouette_mean': 0.5402822913339942, 'silhouette_min': 0.5192462837346519, 'silhouette_max': 0.5614799316501852}}, 'dropout_0.8': {'euclidean': {'trustworthiness': [0.9544349406009783, 0.9540198462613557, 0.9558132774283717, 0.9561266247379455, 0.9562876310272537, 0.9547636617749825, 0.9539776380153738, 0.9544301886792452, 0.9550554856743536, 0.9563723270440252], 'silhouette': [0.4225445035922327, 0.31622313197669394, 0.3035859129397988, 0.4180496571468437, 0.35855403711340483, 0.3718945492760258, 0.39553073370148734, 0.3992912820282295, 0.358850308260209, 0.3841018194085213], 'trustworthiness_mean': 0.9551281621243886, 'trustworthiness_min': 0.9539776380153738, 'trustworthiness_max': 0.9563723270440252, 'silhouette_mean': 0.3728625935443447, 'silhouette_min': 0.3035859129397988, 'silhouette_max': 0.4225445035922327}, 'manhattan': {'trustworthiness': [0.9474398322851153, 0.9462238993710692, 0.9444327044025157, 0.9469624039133473, 0.946690426275332, 0.9443228511530398, 0.9461646401118099, 0.9452128581411601, 0.9467625436757512, 0.9462954577218728], 'silhouette': [0.4999021727159738, 0.44637726034300884, 0.40614612100563713, 0.4239529557577262, 0.4283363859617911, 0.41950695000065885, 0.47300747874939886, 0.4753156727865952, 0.4211129768333331, 0.47582724408064814], 'trustworthiness_mean': 0.9460507617051013, 'trustworthiness_min': 0.9443228511530398, 'trustworthiness_max': 0.9474398322851153, 'silhouette_mean': 0.4469485218234771, 'silhouette_min': 0.40614612100563713, 'silhouette_max': 0.4999021727159738}, 'minkowski_0.5': {'trustworthiness': [0.8999345911949685, 0.8964679245283019, 0.8981151642208246, 0.9069777777777778, 0.9085788958770091, 0.8986264150943396, 0.9074571628232005, 0.9027913347309574, 0.9042658280922432, 0.9032732354996507], 'silhouette': [0.5134676792072456, 0.527178523652, 0.5077884041386004, 0.5140462144066003, 0.5175827438404335, 0.5299250789357149, 0.5112218452547818, 0.49873296744110107, 0.5509971147337546, 0.5182780216365577], 'trustworthiness_mean': 0.9026488329839273, 'trustworthiness_min': 0.8964679245283019, 'trustworthiness_max': 0.9085788958770091, 'silhouette_mean': 0.5189218593246789, 'silhouette_min': 0.49873296744110107, 'silhouette_max': 0.5509971147337546}}, 'dropout_0.9': {'euclidean': {'trustworthiness': [0.9523737246680642, 0.9529053808525507, 0.951570929419986, 0.9514381551362684, 0.9511569531795947, 0.9528715583508036, 0.9511829489867226, 0.9526250174703005, 0.9518560447239692, 0.9515317959468903], 'silhouette': [0.25651719978612947, 0.3245135023063309, 0.344283741102017, 0.3905373729866452, 0.33656344868138965, 0.3214001229418281, 0.36885877203458206, 0.4044345353984614, 0.2973425184838975, 0.40421265711941945], 'trustworthiness_mean': 0.9519512508735151, 'trustworthiness_min': 0.9511569531795947, 'trustworthiness_max': 0.9529053808525507, 'silhouette_mean': 0.34486638708407014, 'silhouette_min': 0.25651719978612947, 'silhouette_max': 0.4044345353984614}, 'manhattan': {'trustworthiness': [0.947464430468204, 0.9478034940600979, 0.9486831586303285, 0.9484830188679245, 0.9471415793151642, 0.9489604472396925, 0.9477263452131377, 0.950490286512928, 0.9481355695317959, 0.9466929419986023], 'silhouette': [0.46222411936746377, 0.44371946590322187, 0.46109128973300106, 0.41314263656517053, 0.4422898419749, 0.46805696588511037, 0.37755922753925275, 0.4414701380579175, 0.34429108656472873, 0.4700933999081598], 'trustworthiness_mean': 0.9481581271837877, 'trustworthiness_min': 0.9466929419986023, 'trustworthiness_max': 0.950490286512928, 'silhouette_mean': 0.4323938171498927, 'silhouette_min': 0.34429108656472873, 'silhouette_max': 0.4700933999081598}, 'minkowski_0.5': {'trustworthiness': [0.918617749825297, 0.915451572327044, 0.9191368273934312, 0.9151379454926625, 0.9152497554157931, 0.9155885394828791, 0.9118546470999301, 0.9157475890985325, 0.912772606568833, 0.9140542278127184], 'silhouette': [0.45470299479640963, 0.44711237193775044, 0.4522948473904867, 0.46784959388242897, 0.45537816529035113, 0.4610346705667499, 0.46300579628860056, 0.4347283089365071, 0.48694061149377116, 0.46319965436554994], 'trustworthiness_mean': 0.9153611460517121, 'trustworthiness_min': 0.9118546470999301, 'trustworthiness_max': 0.9191368273934312, 'silhouette_mean': 0.4586247014948605, 'silhouette_min': 0.4347283089365071, 'silhouette_max': 0.48694061149377116}}}\n"
     ]
    }
   ],
   "source": [
    "print(all_results)"
   ]
  },
  {
   "cell_type": "code",
   "execution_count": null,
   "id": "28fe1e41",
   "metadata": {},
   "outputs": [
    {
     "name": "stdout",
     "output_type": "stream",
     "text": [
      "Saved all_results to all_results.pkl\n"
     ]
    }
   ],
   "source": [
    "import pickle\n",
    "\n",
    "# Save the all_results dictionary to a file\n",
    "with open(\"all_results_S500.pkl\", \"wb\") as f:\n",
    "    pickle.dump(all_results, f)\n",
    "\n",
    "print(\"Saved all_results to all_results_S500.pkl\")"
   ]
  },
  {
   "cell_type": "code",
   "execution_count": 4,
   "id": "58cbddd7",
   "metadata": {},
   "outputs": [
    {
     "data": {
      "image/png": "[encoded data removed]",
      "text/plain": [
       "<Figure size 1200x600 with 1 Axes>"
      ]
     },
     "metadata": {},
     "output_type": "display_data"
    },
    {
     "data": {
      "image/png": "[encoded data removed]",
      "text/plain": [
       "<Figure size 1200x600 with 1 Axes>"
      ]
     },
     "metadata": {},
     "output_type": "display_data"
    }
   ],
   "source": [
    "import numpy as np\n",
    "import matplotlib.pyplot as plt\n",
    "\n",
    "\n",
    "dropout_levels = [round(i, 1) for i in np.arange(0.1, 1.0, 0.1)]\n",
    "metrics_names = {\n",
    "    'euclidean': 'Euclidean',\n",
    "    'manhattan': 'Manhattan',\n",
    "    'minkowski_0.5': 'Minkowski (p=0.5)'\n",
    "}\n",
    "colors = {\n",
    "    'euclidean': 'green',\n",
    "    'manhattan': 'red',\n",
    "    'minkowski_0.5': 'blue'\n",
    "}\n",
    "\n",
    "if all_results:\n",
    "    # Trustworthiness Plot\n",
    "    plt.figure(figsize=(12, 6))\n",
    "    for metric in metrics_names:\n",
    "        trust_means = []\n",
    "        trust_mins = []\n",
    "        trust_maxs = []\n",
    "        for d in dropout_levels:\n",
    "            entry = all_results[f\"dropout_{d}\"][metric]\n",
    "            trust_means.append(entry['trustworthiness_mean'])\n",
    "            trust_mins.append(entry['trustworthiness_min'])\n",
    "            trust_maxs.append(entry['trustworthiness_max'])\n",
    "        trust_err_low = np.array(trust_means) - np.array(trust_mins)\n",
    "        trust_err_high = np.array(trust_maxs) - np.array(trust_means)\n",
    "        plt.errorbar(dropout_levels, trust_means, yerr=[trust_err_low, trust_err_high], label=metrics_names[metric], fmt='-o', capsize=5, color=colors[metric])\n",
    "    plt.title('Trustworthiness vs Dropout Level (S500 Simple)')\n",
    "    plt.xlabel('Dropout Level')\n",
    "    plt.ylabel('Trustworthiness')\n",
    "    plt.ylim(0.8, 1.0)\n",
    "    plt.legend()\n",
    "    plt.grid(True)\n",
    "    plt.tight_layout()\n",
    "    plt.show()\n",
    "\n",
    "    # Silhouette Plot\n",
    "    plt.figure(figsize=(12, 6))\n",
    "    for metric in metrics_names:\n",
    "        sil_means = []\n",
    "        sil_mins = []\n",
    "        sil_maxs = []\n",
    "        for d in dropout_levels:\n",
    "            entry = all_results[f\"dropout_{d}\"][metric]\n",
    "            sil_means.append(entry['silhouette_mean'])\n",
    "            sil_mins.append(entry['silhouette_min'])\n",
    "            sil_maxs.append(entry['silhouette_max'])\n",
    "        sil_err_low = np.array(sil_means) - np.array(sil_mins)\n",
    "        sil_err_high = np.array(sil_maxs) - np.array(sil_means)\n",
    "        plt.errorbar(dropout_levels, sil_means, yerr=[sil_err_low, sil_err_high], label=metrics_names[metric], fmt='-o', capsize=5, color=colors[metric])\n",
    "    plt.title('Silhouette Score vs Dropout Level (S500 Simple)')\n",
    "    plt.xlabel('Dropout Level')\n",
    "    plt.ylabel('Silhouette Score')\n",
    "    plt.ylim(0.2, 1.0)\n",
    "    plt.legend()\n",
    "    plt.grid(True)\n",
    "    plt.tight_layout()\n",
    "    plt.show()\n",
    "else:\n",
    "    print(\"`all_results` not found. Please re-run the metric calculations or reload the saved data.\")\n"
   ]
  }
 ],
 "metadata": {
  "kernelspec": {
   "display_name": "Python 3",
   "language": "python",
   "name": "python3"
  },
  "language_info": {
   "codemirror_mode": {
    "name": "ipython",
    "version": 3
   },
   "file_extension": ".py",
   "mimetype": "text/x-python",
   "name": "python",
   "nbconvert_exporter": "python",
   "pygments_lexer": "ipython3",
   "version": "3.11.5"
  }
 },
 "nbformat": 4,
 "nbformat_minor": 5
}
