{
 "cells": [
  {
   "cell_type": "code",
   "execution_count": null,
   "id": "ca424e1d",
   "metadata": {},
   "outputs": [
    {
     "name": "stdout",
     "output_type": "stream",
     "text": [
      "\n",
      "=== Dropout Level: 0.1 ===\n",
      "Metric: euclidean, Run: 1/10\n",
      "Metric: euclidean, Run: 2/10\n",
      "Metric: euclidean, Run: 3/10\n",
      "Metric: euclidean, Run: 4/10\n",
      "Metric: euclidean, Run: 5/10\n",
      "Metric: euclidean, Run: 6/10\n",
      "Metric: euclidean, Run: 7/10\n",
      "Metric: euclidean, Run: 8/10\n",
      "Metric: euclidean, Run: 9/10\n",
      "Metric: euclidean, Run: 10/10\n",
      "Metric: manhattan, Run: 1/10\n",
      "Metric: manhattan, Run: 2/10\n",
      "Metric: manhattan, Run: 3/10\n",
      "Metric: manhattan, Run: 4/10\n",
      "Metric: manhattan, Run: 5/10\n",
      "Metric: manhattan, Run: 6/10\n",
      "Metric: manhattan, Run: 7/10\n",
      "Metric: manhattan, Run: 8/10\n",
      "Metric: manhattan, Run: 9/10\n",
      "Metric: manhattan, Run: 10/10\n",
      "Metric: minkowski_0.5, Run: 1/10\n"
     ]
    },
    {
     "name": "stderr",
     "output_type": "stream",
     "text": [
      "c:\\Users\\sofus\\AppData\\Local\\Programs\\Python\\Python311\\Lib\\site-packages\\sklearn\\neighbors\\_graph.py:434: SyntaxWarning: Parameter p is found in metric_params. The corresponding parameter from __init__ is ignored.\n",
      "  self._fit(X)\n",
      "c:\\Users\\sofus\\AppData\\Local\\Programs\\Python\\Python311\\Lib\\site-packages\\sklearn\\neighbors\\_base.py:653: UserWarning: Mind that for 0 < p < 1, Minkowski metrics are not distance metrics. Continuing the execution with `algorithm='brute'`.\n",
      "  warnings.warn(\n"
     ]
    },
    {
     "name": "stdout",
     "output_type": "stream",
     "text": [
      "Metric: minkowski_0.5, Run: 2/10\n"
     ]
    },
    {
     "name": "stderr",
     "output_type": "stream",
     "text": [
      "c:\\Users\\sofus\\AppData\\Local\\Programs\\Python\\Python311\\Lib\\site-packages\\sklearn\\neighbors\\_graph.py:434: SyntaxWarning: Parameter p is found in metric_params. The corresponding parameter from __init__ is ignored.\n",
      "  self._fit(X)\n",
      "c:\\Users\\sofus\\AppData\\Local\\Programs\\Python\\Python311\\Lib\\site-packages\\sklearn\\neighbors\\_base.py:653: UserWarning: Mind that for 0 < p < 1, Minkowski metrics are not distance metrics. Continuing the execution with `algorithm='brute'`.\n",
      "  warnings.warn(\n"
     ]
    },
    {
     "name": "stdout",
     "output_type": "stream",
     "text": [
      "Metric: minkowski_0.5, Run: 3/10\n"
     ]
    },
    {
     "name": "stderr",
     "output_type": "stream",
     "text": [
      "c:\\Users\\sofus\\AppData\\Local\\Programs\\Python\\Python311\\Lib\\site-packages\\sklearn\\neighbors\\_graph.py:434: SyntaxWarning: Parameter p is found in metric_params. The corresponding parameter from __init__ is ignored.\n",
      "  self._fit(X)\n",
      "c:\\Users\\sofus\\AppData\\Local\\Programs\\Python\\Python311\\Lib\\site-packages\\sklearn\\neighbors\\_base.py:653: UserWarning: Mind that for 0 < p < 1, Minkowski metrics are not distance metrics. Continuing the execution with `algorithm='brute'`.\n",
      "  warnings.warn(\n"
     ]
    },
    {
     "name": "stdout",
     "output_type": "stream",
     "text": [
      "Metric: minkowski_0.5, Run: 4/10\n"
     ]
    },
    {
     "name": "stderr",
     "output_type": "stream",
     "text": [
      "c:\\Users\\sofus\\AppData\\Local\\Programs\\Python\\Python311\\Lib\\site-packages\\sklearn\\neighbors\\_graph.py:434: SyntaxWarning: Parameter p is found in metric_params. The corresponding parameter from __init__ is ignored.\n",
      "  self._fit(X)\n",
      "c:\\Users\\sofus\\AppData\\Local\\Programs\\Python\\Python311\\Lib\\site-packages\\sklearn\\neighbors\\_base.py:653: UserWarning: Mind that for 0 < p < 1, Minkowski metrics are not distance metrics. Continuing the execution with `algorithm='brute'`.\n",
      "  warnings.warn(\n"
     ]
    },
    {
     "name": "stdout",
     "output_type": "stream",
     "text": [
      "Metric: minkowski_0.5, Run: 5/10\n"
     ]
    },
    {
     "name": "stderr",
     "output_type": "stream",
     "text": [
      "c:\\Users\\sofus\\AppData\\Local\\Programs\\Python\\Python311\\Lib\\site-packages\\sklearn\\neighbors\\_graph.py:434: SyntaxWarning: Parameter p is found in metric_params. The corresponding parameter from __init__ is ignored.\n",
      "  self._fit(X)\n",
      "c:\\Users\\sofus\\AppData\\Local\\Programs\\Python\\Python311\\Lib\\site-packages\\sklearn\\neighbors\\_base.py:653: UserWarning: Mind that for 0 < p < 1, Minkowski metrics are not distance metrics. Continuing the execution with `algorithm='brute'`.\n",
      "  warnings.warn(\n"
     ]
    },
    {
     "name": "stdout",
     "output_type": "stream",
     "text": [
      "Metric: minkowski_0.5, Run: 6/10\n"
     ]
    },
    {
     "name": "stderr",
     "output_type": "stream",
     "text": [
      "c:\\Users\\sofus\\AppData\\Local\\Programs\\Python\\Python311\\Lib\\site-packages\\sklearn\\neighbors\\_graph.py:434: SyntaxWarning: Parameter p is found in metric_params. The corresponding parameter from __init__ is ignored.\n",
      "  self._fit(X)\n",
      "c:\\Users\\sofus\\AppData\\Local\\Programs\\Python\\Python311\\Lib\\site-packages\\sklearn\\neighbors\\_base.py:653: UserWarning: Mind that for 0 < p < 1, Minkowski metrics are not distance metrics. Continuing the execution with `algorithm='brute'`.\n",
      "  warnings.warn(\n"
     ]
    },
    {
     "name": "stdout",
     "output_type": "stream",
     "text": [
      "Metric: minkowski_0.5, Run: 7/10\n"
     ]
    },
    {
     "name": "stderr",
     "output_type": "stream",
     "text": [
      "c:\\Users\\sofus\\AppData\\Local\\Programs\\Python\\Python311\\Lib\\site-packages\\sklearn\\neighbors\\_graph.py:434: SyntaxWarning: Parameter p is found in metric_params. The corresponding parameter from __init__ is ignored.\n",
      "  self._fit(X)\n",
      "c:\\Users\\sofus\\AppData\\Local\\Programs\\Python\\Python311\\Lib\\site-packages\\sklearn\\neighbors\\_base.py:653: UserWarning: Mind that for 0 < p < 1, Minkowski metrics are not distance metrics. Continuing the execution with `algorithm='brute'`.\n",
      "  warnings.warn(\n"
     ]
    },
    {
     "name": "stdout",
     "output_type": "stream",
     "text": [
      "Metric: minkowski_0.5, Run: 8/10\n"
     ]
    },
    {
     "name": "stderr",
     "output_type": "stream",
     "text": [
      "c:\\Users\\sofus\\AppData\\Local\\Programs\\Python\\Python311\\Lib\\site-packages\\sklearn\\neighbors\\_graph.py:434: SyntaxWarning: Parameter p is found in metric_params. The corresponding parameter from __init__ is ignored.\n",
      "  self._fit(X)\n",
      "c:\\Users\\sofus\\AppData\\Local\\Programs\\Python\\Python311\\Lib\\site-packages\\sklearn\\neighbors\\_base.py:653: UserWarning: Mind that for 0 < p < 1, Minkowski metrics are not distance metrics. Continuing the execution with `algorithm='brute'`.\n",
      "  warnings.warn(\n"
     ]
    },
    {
     "name": "stdout",
     "output_type": "stream",
     "text": [
      "Metric: minkowski_0.5, Run: 9/10\n"
     ]
    },
    {
     "name": "stderr",
     "output_type": "stream",
     "text": [
      "c:\\Users\\sofus\\AppData\\Local\\Programs\\Python\\Python311\\Lib\\site-packages\\sklearn\\neighbors\\_graph.py:434: SyntaxWarning: Parameter p is found in metric_params. The corresponding parameter from __init__ is ignored.\n",
      "  self._fit(X)\n",
      "c:\\Users\\sofus\\AppData\\Local\\Programs\\Python\\Python311\\Lib\\site-packages\\sklearn\\neighbors\\_base.py:653: UserWarning: Mind that for 0 < p < 1, Minkowski metrics are not distance metrics. Continuing the execution with `algorithm='brute'`.\n",
      "  warnings.warn(\n"
     ]
    },
    {
     "name": "stdout",
     "output_type": "stream",
     "text": [
      "Metric: minkowski_0.5, Run: 10/10\n"
     ]
    },
    {
     "name": "stderr",
     "output_type": "stream",
     "text": [
      "c:\\Users\\sofus\\AppData\\Local\\Programs\\Python\\Python311\\Lib\\site-packages\\sklearn\\neighbors\\_graph.py:434: SyntaxWarning: Parameter p is found in metric_params. The corresponding parameter from __init__ is ignored.\n",
      "  self._fit(X)\n",
      "c:\\Users\\sofus\\AppData\\Local\\Programs\\Python\\Python311\\Lib\\site-packages\\sklearn\\neighbors\\_base.py:653: UserWarning: Mind that for 0 < p < 1, Minkowski metrics are not distance metrics. Continuing the execution with `algorithm='brute'`.\n",
      "  warnings.warn(\n"
     ]
    },
    {
     "name": "stdout",
     "output_type": "stream",
     "text": [
      "\n",
      "=== Dropout Level: 0.2 ===\n",
      "Metric: euclidean, Run: 1/10\n",
      "Metric: euclidean, Run: 2/10\n",
      "Metric: euclidean, Run: 3/10\n",
      "Metric: euclidean, Run: 4/10\n",
      "Metric: euclidean, Run: 5/10\n",
      "Metric: euclidean, Run: 6/10\n",
      "Metric: euclidean, Run: 7/10\n",
      "Metric: euclidean, Run: 8/10\n",
      "Metric: euclidean, Run: 9/10\n",
      "Metric: euclidean, Run: 10/10\n",
      "Metric: manhattan, Run: 1/10\n",
      "Metric: manhattan, Run: 2/10\n",
      "Metric: manhattan, Run: 3/10\n",
      "Metric: manhattan, Run: 4/10\n",
      "Metric: manhattan, Run: 5/10\n",
      "Metric: manhattan, Run: 6/10\n",
      "Metric: manhattan, Run: 7/10\n",
      "Metric: manhattan, Run: 8/10\n",
      "Metric: manhattan, Run: 9/10\n",
      "Metric: manhattan, Run: 10/10\n",
      "Metric: minkowski_0.5, Run: 1/10\n"
     ]
    },
    {
     "name": "stderr",
     "output_type": "stream",
     "text": [
      "c:\\Users\\sofus\\AppData\\Local\\Programs\\Python\\Python311\\Lib\\site-packages\\sklearn\\neighbors\\_graph.py:434: SyntaxWarning: Parameter p is found in metric_params. The corresponding parameter from __init__ is ignored.\n",
      "  self._fit(X)\n",
      "c:\\Users\\sofus\\AppData\\Local\\Programs\\Python\\Python311\\Lib\\site-packages\\sklearn\\neighbors\\_base.py:653: UserWarning: Mind that for 0 < p < 1, Minkowski metrics are not distance metrics. Continuing the execution with `algorithm='brute'`.\n",
      "  warnings.warn(\n"
     ]
    },
    {
     "name": "stdout",
     "output_type": "stream",
     "text": [
      "Metric: minkowski_0.5, Run: 2/10\n"
     ]
    },
    {
     "name": "stderr",
     "output_type": "stream",
     "text": [
      "c:\\Users\\sofus\\AppData\\Local\\Programs\\Python\\Python311\\Lib\\site-packages\\sklearn\\neighbors\\_graph.py:434: SyntaxWarning: Parameter p is found in metric_params. The corresponding parameter from __init__ is ignored.\n",
      "  self._fit(X)\n",
      "c:\\Users\\sofus\\AppData\\Local\\Programs\\Python\\Python311\\Lib\\site-packages\\sklearn\\neighbors\\_base.py:653: UserWarning: Mind that for 0 < p < 1, Minkowski metrics are not distance metrics. Continuing the execution with `algorithm='brute'`.\n",
      "  warnings.warn(\n"
     ]
    },
    {
     "name": "stdout",
     "output_type": "stream",
     "text": [
      "Metric: minkowski_0.5, Run: 3/10\n"
     ]
    },
    {
     "name": "stderr",
     "output_type": "stream",
     "text": [
      "c:\\Users\\sofus\\AppData\\Local\\Programs\\Python\\Python311\\Lib\\site-packages\\sklearn\\neighbors\\_graph.py:434: SyntaxWarning: Parameter p is found in metric_params. The corresponding parameter from __init__ is ignored.\n",
      "  self._fit(X)\n",
      "c:\\Users\\sofus\\AppData\\Local\\Programs\\Python\\Python311\\Lib\\site-packages\\sklearn\\neighbors\\_base.py:653: UserWarning: Mind that for 0 < p < 1, Minkowski metrics are not distance metrics. Continuing the execution with `algorithm='brute'`.\n",
      "  warnings.warn(\n"
     ]
    },
    {
     "name": "stdout",
     "output_type": "stream",
     "text": [
      "Metric: minkowski_0.5, Run: 4/10\n"
     ]
    },
    {
     "name": "stderr",
     "output_type": "stream",
     "text": [
      "c:\\Users\\sofus\\AppData\\Local\\Programs\\Python\\Python311\\Lib\\site-packages\\sklearn\\neighbors\\_graph.py:434: SyntaxWarning: Parameter p is found in metric_params. The corresponding parameter from __init__ is ignored.\n",
      "  self._fit(X)\n",
      "c:\\Users\\sofus\\AppData\\Local\\Programs\\Python\\Python311\\Lib\\site-packages\\sklearn\\neighbors\\_base.py:653: UserWarning: Mind that for 0 < p < 1, Minkowski metrics are not distance metrics. Continuing the execution with `algorithm='brute'`.\n",
      "  warnings.warn(\n"
     ]
    },
    {
     "name": "stdout",
     "output_type": "stream",
     "text": [
      "Metric: minkowski_0.5, Run: 5/10\n"
     ]
    },
    {
     "name": "stderr",
     "output_type": "stream",
     "text": [
      "c:\\Users\\sofus\\AppData\\Local\\Programs\\Python\\Python311\\Lib\\site-packages\\sklearn\\neighbors\\_graph.py:434: SyntaxWarning: Parameter p is found in metric_params. The corresponding parameter from __init__ is ignored.\n",
      "  self._fit(X)\n",
      "c:\\Users\\sofus\\AppData\\Local\\Programs\\Python\\Python311\\Lib\\site-packages\\sklearn\\neighbors\\_base.py:653: UserWarning: Mind that for 0 < p < 1, Minkowski metrics are not distance metrics. Continuing the execution with `algorithm='brute'`.\n",
      "  warnings.warn(\n"
     ]
    },
    {
     "name": "stdout",
     "output_type": "stream",
     "text": [
      "Metric: minkowski_0.5, Run: 6/10\n"
     ]
    },
    {
     "name": "stderr",
     "output_type": "stream",
     "text": [
      "c:\\Users\\sofus\\AppData\\Local\\Programs\\Python\\Python311\\Lib\\site-packages\\sklearn\\neighbors\\_graph.py:434: SyntaxWarning: Parameter p is found in metric_params. The corresponding parameter from __init__ is ignored.\n",
      "  self._fit(X)\n",
      "c:\\Users\\sofus\\AppData\\Local\\Programs\\Python\\Python311\\Lib\\site-packages\\sklearn\\neighbors\\_base.py:653: UserWarning: Mind that for 0 < p < 1, Minkowski metrics are not distance metrics. Continuing the execution with `algorithm='brute'`.\n",
      "  warnings.warn(\n"
     ]
    },
    {
     "name": "stdout",
     "output_type": "stream",
     "text": [
      "Metric: minkowski_0.5, Run: 7/10\n"
     ]
    },
    {
     "name": "stderr",
     "output_type": "stream",
     "text": [
      "c:\\Users\\sofus\\AppData\\Local\\Programs\\Python\\Python311\\Lib\\site-packages\\sklearn\\neighbors\\_graph.py:434: SyntaxWarning: Parameter p is found in metric_params. The corresponding parameter from __init__ is ignored.\n",
      "  self._fit(X)\n",
      "c:\\Users\\sofus\\AppData\\Local\\Programs\\Python\\Python311\\Lib\\site-packages\\sklearn\\neighbors\\_base.py:653: UserWarning: Mind that for 0 < p < 1, Minkowski metrics are not distance metrics. Continuing the execution with `algorithm='brute'`.\n",
      "  warnings.warn(\n"
     ]
    },
    {
     "name": "stdout",
     "output_type": "stream",
     "text": [
      "Metric: minkowski_0.5, Run: 8/10\n"
     ]
    },
    {
     "name": "stderr",
     "output_type": "stream",
     "text": [
      "c:\\Users\\sofus\\AppData\\Local\\Programs\\Python\\Python311\\Lib\\site-packages\\sklearn\\neighbors\\_graph.py:434: SyntaxWarning: Parameter p is found in metric_params. The corresponding parameter from __init__ is ignored.\n",
      "  self._fit(X)\n",
      "c:\\Users\\sofus\\AppData\\Local\\Programs\\Python\\Python311\\Lib\\site-packages\\sklearn\\neighbors\\_base.py:653: UserWarning: Mind that for 0 < p < 1, Minkowski metrics are not distance metrics. Continuing the execution with `algorithm='brute'`.\n",
      "  warnings.warn(\n"
     ]
    },
    {
     "name": "stdout",
     "output_type": "stream",
     "text": [
      "Metric: minkowski_0.5, Run: 9/10\n"
     ]
    },
    {
     "name": "stderr",
     "output_type": "stream",
     "text": [
      "c:\\Users\\sofus\\AppData\\Local\\Programs\\Python\\Python311\\Lib\\site-packages\\sklearn\\neighbors\\_graph.py:434: SyntaxWarning: Parameter p is found in metric_params. The corresponding parameter from __init__ is ignored.\n",
      "  self._fit(X)\n",
      "c:\\Users\\sofus\\AppData\\Local\\Programs\\Python\\Python311\\Lib\\site-packages\\sklearn\\neighbors\\_base.py:653: UserWarning: Mind that for 0 < p < 1, Minkowski metrics are not distance metrics. Continuing the execution with `algorithm='brute'`.\n",
      "  warnings.warn(\n"
     ]
    },
    {
     "name": "stdout",
     "output_type": "stream",
     "text": [
      "Metric: minkowski_0.5, Run: 10/10\n"
     ]
    },
    {
     "name": "stderr",
     "output_type": "stream",
     "text": [
      "c:\\Users\\sofus\\AppData\\Local\\Programs\\Python\\Python311\\Lib\\site-packages\\sklearn\\neighbors\\_graph.py:434: SyntaxWarning: Parameter p is found in metric_params. The corresponding parameter from __init__ is ignored.\n",
      "  self._fit(X)\n",
      "c:\\Users\\sofus\\AppData\\Local\\Programs\\Python\\Python311\\Lib\\site-packages\\sklearn\\neighbors\\_base.py:653: UserWarning: Mind that for 0 < p < 1, Minkowski metrics are not distance metrics. Continuing the execution with `algorithm='brute'`.\n",
      "  warnings.warn(\n"
     ]
    },
    {
     "name": "stdout",
     "output_type": "stream",
     "text": [
      "\n",
      "=== Dropout Level: 0.3 ===\n",
      "Metric: euclidean, Run: 1/10\n",
      "Metric: euclidean, Run: 2/10\n",
      "Metric: euclidean, Run: 3/10\n",
      "Metric: euclidean, Run: 4/10\n",
      "Metric: euclidean, Run: 5/10\n",
      "Metric: euclidean, Run: 6/10\n",
      "Metric: euclidean, Run: 7/10\n",
      "Metric: euclidean, Run: 8/10\n",
      "Metric: euclidean, Run: 9/10\n",
      "Metric: euclidean, Run: 10/10\n",
      "Metric: manhattan, Run: 1/10\n",
      "Metric: manhattan, Run: 2/10\n",
      "Metric: manhattan, Run: 3/10\n",
      "Metric: manhattan, Run: 4/10\n",
      "Metric: manhattan, Run: 5/10\n",
      "Metric: manhattan, Run: 6/10\n",
      "Metric: manhattan, Run: 7/10\n",
      "Metric: manhattan, Run: 8/10\n",
      "Metric: manhattan, Run: 9/10\n",
      "Metric: manhattan, Run: 10/10\n",
      "Metric: minkowski_0.5, Run: 1/10\n"
     ]
    },
    {
     "name": "stderr",
     "output_type": "stream",
     "text": [
      "c:\\Users\\sofus\\AppData\\Local\\Programs\\Python\\Python311\\Lib\\site-packages\\sklearn\\neighbors\\_graph.py:434: SyntaxWarning: Parameter p is found in metric_params. The corresponding parameter from __init__ is ignored.\n",
      "  self._fit(X)\n",
      "c:\\Users\\sofus\\AppData\\Local\\Programs\\Python\\Python311\\Lib\\site-packages\\sklearn\\neighbors\\_base.py:653: UserWarning: Mind that for 0 < p < 1, Minkowski metrics are not distance metrics. Continuing the execution with `algorithm='brute'`.\n",
      "  warnings.warn(\n"
     ]
    },
    {
     "name": "stdout",
     "output_type": "stream",
     "text": [
      "Metric: minkowski_0.5, Run: 2/10\n"
     ]
    },
    {
     "name": "stderr",
     "output_type": "stream",
     "text": [
      "c:\\Users\\sofus\\AppData\\Local\\Programs\\Python\\Python311\\Lib\\site-packages\\sklearn\\neighbors\\_graph.py:434: SyntaxWarning: Parameter p is found in metric_params. The corresponding parameter from __init__ is ignored.\n",
      "  self._fit(X)\n",
      "c:\\Users\\sofus\\AppData\\Local\\Programs\\Python\\Python311\\Lib\\site-packages\\sklearn\\neighbors\\_base.py:653: UserWarning: Mind that for 0 < p < 1, Minkowski metrics are not distance metrics. Continuing the execution with `algorithm='brute'`.\n",
      "  warnings.warn(\n"
     ]
    },
    {
     "name": "stdout",
     "output_type": "stream",
     "text": [
      "Metric: minkowski_0.5, Run: 3/10\n"
     ]
    },
    {
     "name": "stderr",
     "output_type": "stream",
     "text": [
      "c:\\Users\\sofus\\AppData\\Local\\Programs\\Python\\Python311\\Lib\\site-packages\\sklearn\\neighbors\\_graph.py:434: SyntaxWarning: Parameter p is found in metric_params. The corresponding parameter from __init__ is ignored.\n",
      "  self._fit(X)\n",
      "c:\\Users\\sofus\\AppData\\Local\\Programs\\Python\\Python311\\Lib\\site-packages\\sklearn\\neighbors\\_base.py:653: UserWarning: Mind that for 0 < p < 1, Minkowski metrics are not distance metrics. Continuing the execution with `algorithm='brute'`.\n",
      "  warnings.warn(\n"
     ]
    },
    {
     "name": "stdout",
     "output_type": "stream",
     "text": [
      "Metric: minkowski_0.5, Run: 4/10\n"
     ]
    },
    {
     "name": "stderr",
     "output_type": "stream",
     "text": [
      "c:\\Users\\sofus\\AppData\\Local\\Programs\\Python\\Python311\\Lib\\site-packages\\sklearn\\neighbors\\_graph.py:434: SyntaxWarning: Parameter p is found in metric_params. The corresponding parameter from __init__ is ignored.\n",
      "  self._fit(X)\n",
      "c:\\Users\\sofus\\AppData\\Local\\Programs\\Python\\Python311\\Lib\\site-packages\\sklearn\\neighbors\\_base.py:653: UserWarning: Mind that for 0 < p < 1, Minkowski metrics are not distance metrics. Continuing the execution with `algorithm='brute'`.\n",
      "  warnings.warn(\n"
     ]
    },
    {
     "name": "stdout",
     "output_type": "stream",
     "text": [
      "Metric: minkowski_0.5, Run: 5/10\n"
     ]
    },
    {
     "name": "stderr",
     "output_type": "stream",
     "text": [
      "c:\\Users\\sofus\\AppData\\Local\\Programs\\Python\\Python311\\Lib\\site-packages\\sklearn\\neighbors\\_graph.py:434: SyntaxWarning: Parameter p is found in metric_params. The corresponding parameter from __init__ is ignored.\n",
      "  self._fit(X)\n",
      "c:\\Users\\sofus\\AppData\\Local\\Programs\\Python\\Python311\\Lib\\site-packages\\sklearn\\neighbors\\_base.py:653: UserWarning: Mind that for 0 < p < 1, Minkowski metrics are not distance metrics. Continuing the execution with `algorithm='brute'`.\n",
      "  warnings.warn(\n"
     ]
    },
    {
     "name": "stdout",
     "output_type": "stream",
     "text": [
      "Metric: minkowski_0.5, Run: 6/10\n"
     ]
    },
    {
     "name": "stderr",
     "output_type": "stream",
     "text": [
      "c:\\Users\\sofus\\AppData\\Local\\Programs\\Python\\Python311\\Lib\\site-packages\\sklearn\\neighbors\\_graph.py:434: SyntaxWarning: Parameter p is found in metric_params. The corresponding parameter from __init__ is ignored.\n",
      "  self._fit(X)\n",
      "c:\\Users\\sofus\\AppData\\Local\\Programs\\Python\\Python311\\Lib\\site-packages\\sklearn\\neighbors\\_base.py:653: UserWarning: Mind that for 0 < p < 1, Minkowski metrics are not distance metrics. Continuing the execution with `algorithm='brute'`.\n",
      "  warnings.warn(\n"
     ]
    },
    {
     "name": "stdout",
     "output_type": "stream",
     "text": [
      "Metric: minkowski_0.5, Run: 7/10\n"
     ]
    },
    {
     "name": "stderr",
     "output_type": "stream",
     "text": [
      "c:\\Users\\sofus\\AppData\\Local\\Programs\\Python\\Python311\\Lib\\site-packages\\sklearn\\neighbors\\_graph.py:434: SyntaxWarning: Parameter p is found in metric_params. The corresponding parameter from __init__ is ignored.\n",
      "  self._fit(X)\n",
      "c:\\Users\\sofus\\AppData\\Local\\Programs\\Python\\Python311\\Lib\\site-packages\\sklearn\\neighbors\\_base.py:653: UserWarning: Mind that for 0 < p < 1, Minkowski metrics are not distance metrics. Continuing the execution with `algorithm='brute'`.\n",
      "  warnings.warn(\n"
     ]
    },
    {
     "name": "stdout",
     "output_type": "stream",
     "text": [
      "Metric: minkowski_0.5, Run: 8/10\n"
     ]
    },
    {
     "name": "stderr",
     "output_type": "stream",
     "text": [
      "c:\\Users\\sofus\\AppData\\Local\\Programs\\Python\\Python311\\Lib\\site-packages\\sklearn\\neighbors\\_graph.py:434: SyntaxWarning: Parameter p is found in metric_params. The corresponding parameter from __init__ is ignored.\n",
      "  self._fit(X)\n",
      "c:\\Users\\sofus\\AppData\\Local\\Programs\\Python\\Python311\\Lib\\site-packages\\sklearn\\neighbors\\_base.py:653: UserWarning: Mind that for 0 < p < 1, Minkowski metrics are not distance metrics. Continuing the execution with `algorithm='brute'`.\n",
      "  warnings.warn(\n"
     ]
    },
    {
     "name": "stdout",
     "output_type": "stream",
     "text": [
      "Metric: minkowski_0.5, Run: 9/10\n"
     ]
    },
    {
     "name": "stderr",
     "output_type": "stream",
     "text": [
      "c:\\Users\\sofus\\AppData\\Local\\Programs\\Python\\Python311\\Lib\\site-packages\\sklearn\\neighbors\\_graph.py:434: SyntaxWarning: Parameter p is found in metric_params. The corresponding parameter from __init__ is ignored.\n",
      "  self._fit(X)\n",
      "c:\\Users\\sofus\\AppData\\Local\\Programs\\Python\\Python311\\Lib\\site-packages\\sklearn\\neighbors\\_base.py:653: UserWarning: Mind that for 0 < p < 1, Minkowski metrics are not distance metrics. Continuing the execution with `algorithm='brute'`.\n",
      "  warnings.warn(\n"
     ]
    },
    {
     "name": "stdout",
     "output_type": "stream",
     "text": [
      "Metric: minkowski_0.5, Run: 10/10\n"
     ]
    },
    {
     "name": "stderr",
     "output_type": "stream",
     "text": [
      "c:\\Users\\sofus\\AppData\\Local\\Programs\\Python\\Python311\\Lib\\site-packages\\sklearn\\neighbors\\_graph.py:434: SyntaxWarning: Parameter p is found in metric_params. The corresponding parameter from __init__ is ignored.\n",
      "  self._fit(X)\n",
      "c:\\Users\\sofus\\AppData\\Local\\Programs\\Python\\Python311\\Lib\\site-packages\\sklearn\\neighbors\\_base.py:653: UserWarning: Mind that for 0 < p < 1, Minkowski metrics are not distance metrics. Continuing the execution with `algorithm='brute'`.\n",
      "  warnings.warn(\n"
     ]
    },
    {
     "name": "stdout",
     "output_type": "stream",
     "text": [
      "\n",
      "=== Dropout Level: 0.4 ===\n",
      "Metric: euclidean, Run: 1/10\n",
      "Metric: euclidean, Run: 2/10\n",
      "Metric: euclidean, Run: 3/10\n",
      "Metric: euclidean, Run: 4/10\n",
      "Metric: euclidean, Run: 5/10\n",
      "Metric: euclidean, Run: 6/10\n",
      "Metric: euclidean, Run: 7/10\n",
      "Metric: euclidean, Run: 8/10\n",
      "Metric: euclidean, Run: 9/10\n",
      "Metric: euclidean, Run: 10/10\n",
      "Metric: manhattan, Run: 1/10\n",
      "Metric: manhattan, Run: 2/10\n",
      "Metric: manhattan, Run: 3/10\n",
      "Metric: manhattan, Run: 4/10\n",
      "Metric: manhattan, Run: 5/10\n",
      "Metric: manhattan, Run: 6/10\n",
      "Metric: manhattan, Run: 7/10\n",
      "Metric: manhattan, Run: 8/10\n",
      "Metric: manhattan, Run: 9/10\n",
      "Metric: manhattan, Run: 10/10\n",
      "Metric: minkowski_0.5, Run: 1/10\n"
     ]
    },
    {
     "name": "stderr",
     "output_type": "stream",
     "text": [
      "c:\\Users\\sofus\\AppData\\Local\\Programs\\Python\\Python311\\Lib\\site-packages\\sklearn\\neighbors\\_graph.py:434: SyntaxWarning: Parameter p is found in metric_params. The corresponding parameter from __init__ is ignored.\n",
      "  self._fit(X)\n",
      "c:\\Users\\sofus\\AppData\\Local\\Programs\\Python\\Python311\\Lib\\site-packages\\sklearn\\neighbors\\_base.py:653: UserWarning: Mind that for 0 < p < 1, Minkowski metrics are not distance metrics. Continuing the execution with `algorithm='brute'`.\n",
      "  warnings.warn(\n"
     ]
    },
    {
     "name": "stdout",
     "output_type": "stream",
     "text": [
      "Metric: minkowski_0.5, Run: 2/10\n"
     ]
    },
    {
     "name": "stderr",
     "output_type": "stream",
     "text": [
      "c:\\Users\\sofus\\AppData\\Local\\Programs\\Python\\Python311\\Lib\\site-packages\\sklearn\\neighbors\\_graph.py:434: SyntaxWarning: Parameter p is found in metric_params. The corresponding parameter from __init__ is ignored.\n",
      "  self._fit(X)\n",
      "c:\\Users\\sofus\\AppData\\Local\\Programs\\Python\\Python311\\Lib\\site-packages\\sklearn\\neighbors\\_base.py:653: UserWarning: Mind that for 0 < p < 1, Minkowski metrics are not distance metrics. Continuing the execution with `algorithm='brute'`.\n",
      "  warnings.warn(\n"
     ]
    },
    {
     "name": "stdout",
     "output_type": "stream",
     "text": [
      "Metric: minkowski_0.5, Run: 3/10\n"
     ]
    },
    {
     "name": "stderr",
     "output_type": "stream",
     "text": [
      "c:\\Users\\sofus\\AppData\\Local\\Programs\\Python\\Python311\\Lib\\site-packages\\sklearn\\neighbors\\_graph.py:434: SyntaxWarning: Parameter p is found in metric_params. The corresponding parameter from __init__ is ignored.\n",
      "  self._fit(X)\n",
      "c:\\Users\\sofus\\AppData\\Local\\Programs\\Python\\Python311\\Lib\\site-packages\\sklearn\\neighbors\\_base.py:653: UserWarning: Mind that for 0 < p < 1, Minkowski metrics are not distance metrics. Continuing the execution with `algorithm='brute'`.\n",
      "  warnings.warn(\n"
     ]
    },
    {
     "name": "stdout",
     "output_type": "stream",
     "text": [
      "Metric: minkowski_0.5, Run: 4/10\n"
     ]
    },
    {
     "name": "stderr",
     "output_type": "stream",
     "text": [
      "c:\\Users\\sofus\\AppData\\Local\\Programs\\Python\\Python311\\Lib\\site-packages\\sklearn\\neighbors\\_graph.py:434: SyntaxWarning: Parameter p is found in metric_params. The corresponding parameter from __init__ is ignored.\n",
      "  self._fit(X)\n",
      "c:\\Users\\sofus\\AppData\\Local\\Programs\\Python\\Python311\\Lib\\site-packages\\sklearn\\neighbors\\_base.py:653: UserWarning: Mind that for 0 < p < 1, Minkowski metrics are not distance metrics. Continuing the execution with `algorithm='brute'`.\n",
      "  warnings.warn(\n"
     ]
    },
    {
     "name": "stdout",
     "output_type": "stream",
     "text": [
      "Metric: minkowski_0.5, Run: 5/10\n"
     ]
    },
    {
     "name": "stderr",
     "output_type": "stream",
     "text": [
      "c:\\Users\\sofus\\AppData\\Local\\Programs\\Python\\Python311\\Lib\\site-packages\\sklearn\\neighbors\\_graph.py:434: SyntaxWarning: Parameter p is found in metric_params. The corresponding parameter from __init__ is ignored.\n",
      "  self._fit(X)\n",
      "c:\\Users\\sofus\\AppData\\Local\\Programs\\Python\\Python311\\Lib\\site-packages\\sklearn\\neighbors\\_base.py:653: UserWarning: Mind that for 0 < p < 1, Minkowski metrics are not distance metrics. Continuing the execution with `algorithm='brute'`.\n",
      "  warnings.warn(\n"
     ]
    },
    {
     "name": "stdout",
     "output_type": "stream",
     "text": [
      "Metric: minkowski_0.5, Run: 6/10\n"
     ]
    },
    {
     "name": "stderr",
     "output_type": "stream",
     "text": [
      "c:\\Users\\sofus\\AppData\\Local\\Programs\\Python\\Python311\\Lib\\site-packages\\sklearn\\neighbors\\_graph.py:434: SyntaxWarning: Parameter p is found in metric_params. The corresponding parameter from __init__ is ignored.\n",
      "  self._fit(X)\n",
      "c:\\Users\\sofus\\AppData\\Local\\Programs\\Python\\Python311\\Lib\\site-packages\\sklearn\\neighbors\\_base.py:653: UserWarning: Mind that for 0 < p < 1, Minkowski metrics are not distance metrics. Continuing the execution with `algorithm='brute'`.\n",
      "  warnings.warn(\n"
     ]
    },
    {
     "name": "stdout",
     "output_type": "stream",
     "text": [
      "Metric: minkowski_0.5, Run: 7/10\n"
     ]
    },
    {
     "name": "stderr",
     "output_type": "stream",
     "text": [
      "c:\\Users\\sofus\\AppData\\Local\\Programs\\Python\\Python311\\Lib\\site-packages\\sklearn\\neighbors\\_graph.py:434: SyntaxWarning: Parameter p is found in metric_params. The corresponding parameter from __init__ is ignored.\n",
      "  self._fit(X)\n",
      "c:\\Users\\sofus\\AppData\\Local\\Programs\\Python\\Python311\\Lib\\site-packages\\sklearn\\neighbors\\_base.py:653: UserWarning: Mind that for 0 < p < 1, Minkowski metrics are not distance metrics. Continuing the execution with `algorithm='brute'`.\n",
      "  warnings.warn(\n"
     ]
    },
    {
     "name": "stdout",
     "output_type": "stream",
     "text": [
      "Metric: minkowski_0.5, Run: 8/10\n"
     ]
    },
    {
     "name": "stderr",
     "output_type": "stream",
     "text": [
      "c:\\Users\\sofus\\AppData\\Local\\Programs\\Python\\Python311\\Lib\\site-packages\\sklearn\\neighbors\\_graph.py:434: SyntaxWarning: Parameter p is found in metric_params. The corresponding parameter from __init__ is ignored.\n",
      "  self._fit(X)\n",
      "c:\\Users\\sofus\\AppData\\Local\\Programs\\Python\\Python311\\Lib\\site-packages\\sklearn\\neighbors\\_base.py:653: UserWarning: Mind that for 0 < p < 1, Minkowski metrics are not distance metrics. Continuing the execution with `algorithm='brute'`.\n",
      "  warnings.warn(\n"
     ]
    },
    {
     "name": "stdout",
     "output_type": "stream",
     "text": [
      "Metric: minkowski_0.5, Run: 9/10\n"
     ]
    },
    {
     "name": "stderr",
     "output_type": "stream",
     "text": [
      "c:\\Users\\sofus\\AppData\\Local\\Programs\\Python\\Python311\\Lib\\site-packages\\sklearn\\neighbors\\_graph.py:434: SyntaxWarning: Parameter p is found in metric_params. The corresponding parameter from __init__ is ignored.\n",
      "  self._fit(X)\n",
      "c:\\Users\\sofus\\AppData\\Local\\Programs\\Python\\Python311\\Lib\\site-packages\\sklearn\\neighbors\\_base.py:653: UserWarning: Mind that for 0 < p < 1, Minkowski metrics are not distance metrics. Continuing the execution with `algorithm='brute'`.\n",
      "  warnings.warn(\n"
     ]
    },
    {
     "name": "stdout",
     "output_type": "stream",
     "text": [
      "Metric: minkowski_0.5, Run: 10/10\n"
     ]
    },
    {
     "name": "stderr",
     "output_type": "stream",
     "text": [
      "c:\\Users\\sofus\\AppData\\Local\\Programs\\Python\\Python311\\Lib\\site-packages\\sklearn\\neighbors\\_graph.py:434: SyntaxWarning: Parameter p is found in metric_params. The corresponding parameter from __init__ is ignored.\n",
      "  self._fit(X)\n",
      "c:\\Users\\sofus\\AppData\\Local\\Programs\\Python\\Python311\\Lib\\site-packages\\sklearn\\neighbors\\_base.py:653: UserWarning: Mind that for 0 < p < 1, Minkowski metrics are not distance metrics. Continuing the execution with `algorithm='brute'`.\n",
      "  warnings.warn(\n"
     ]
    },
    {
     "name": "stdout",
     "output_type": "stream",
     "text": [
      "\n",
      "=== Dropout Level: 0.5 ===\n",
      "Metric: euclidean, Run: 1/10\n",
      "Metric: euclidean, Run: 2/10\n",
      "Metric: euclidean, Run: 3/10\n",
      "Metric: euclidean, Run: 4/10\n",
      "Metric: euclidean, Run: 5/10\n",
      "Metric: euclidean, Run: 6/10\n",
      "Metric: euclidean, Run: 7/10\n",
      "Metric: euclidean, Run: 8/10\n",
      "Metric: euclidean, Run: 9/10\n",
      "Metric: euclidean, Run: 10/10\n",
      "Metric: manhattan, Run: 1/10\n",
      "Metric: manhattan, Run: 2/10\n",
      "Metric: manhattan, Run: 3/10\n",
      "Metric: manhattan, Run: 4/10\n",
      "Metric: manhattan, Run: 5/10\n",
      "Metric: manhattan, Run: 6/10\n",
      "Metric: manhattan, Run: 7/10\n",
      "Metric: manhattan, Run: 8/10\n",
      "Metric: manhattan, Run: 9/10\n",
      "Metric: manhattan, Run: 10/10\n",
      "Metric: minkowski_0.5, Run: 1/10\n"
     ]
    },
    {
     "name": "stderr",
     "output_type": "stream",
     "text": [
      "c:\\Users\\sofus\\AppData\\Local\\Programs\\Python\\Python311\\Lib\\site-packages\\sklearn\\neighbors\\_graph.py:434: SyntaxWarning: Parameter p is found in metric_params. The corresponding parameter from __init__ is ignored.\n",
      "  self._fit(X)\n",
      "c:\\Users\\sofus\\AppData\\Local\\Programs\\Python\\Python311\\Lib\\site-packages\\sklearn\\neighbors\\_base.py:653: UserWarning: Mind that for 0 < p < 1, Minkowski metrics are not distance metrics. Continuing the execution with `algorithm='brute'`.\n",
      "  warnings.warn(\n"
     ]
    },
    {
     "name": "stdout",
     "output_type": "stream",
     "text": [
      "Metric: minkowski_0.5, Run: 2/10\n"
     ]
    },
    {
     "name": "stderr",
     "output_type": "stream",
     "text": [
      "c:\\Users\\sofus\\AppData\\Local\\Programs\\Python\\Python311\\Lib\\site-packages\\sklearn\\neighbors\\_graph.py:434: SyntaxWarning: Parameter p is found in metric_params. The corresponding parameter from __init__ is ignored.\n",
      "  self._fit(X)\n",
      "c:\\Users\\sofus\\AppData\\Local\\Programs\\Python\\Python311\\Lib\\site-packages\\sklearn\\neighbors\\_base.py:653: UserWarning: Mind that for 0 < p < 1, Minkowski metrics are not distance metrics. Continuing the execution with `algorithm='brute'`.\n",
      "  warnings.warn(\n"
     ]
    },
    {
     "name": "stdout",
     "output_type": "stream",
     "text": [
      "Metric: minkowski_0.5, Run: 3/10\n"
     ]
    },
    {
     "name": "stderr",
     "output_type": "stream",
     "text": [
      "c:\\Users\\sofus\\AppData\\Local\\Programs\\Python\\Python311\\Lib\\site-packages\\sklearn\\neighbors\\_graph.py:434: SyntaxWarning: Parameter p is found in metric_params. The corresponding parameter from __init__ is ignored.\n",
      "  self._fit(X)\n",
      "c:\\Users\\sofus\\AppData\\Local\\Programs\\Python\\Python311\\Lib\\site-packages\\sklearn\\neighbors\\_base.py:653: UserWarning: Mind that for 0 < p < 1, Minkowski metrics are not distance metrics. Continuing the execution with `algorithm='brute'`.\n",
      "  warnings.warn(\n"
     ]
    },
    {
     "name": "stdout",
     "output_type": "stream",
     "text": [
      "Metric: minkowski_0.5, Run: 4/10\n"
     ]
    },
    {
     "name": "stderr",
     "output_type": "stream",
     "text": [
      "c:\\Users\\sofus\\AppData\\Local\\Programs\\Python\\Python311\\Lib\\site-packages\\sklearn\\neighbors\\_graph.py:434: SyntaxWarning: Parameter p is found in metric_params. The corresponding parameter from __init__ is ignored.\n",
      "  self._fit(X)\n",
      "c:\\Users\\sofus\\AppData\\Local\\Programs\\Python\\Python311\\Lib\\site-packages\\sklearn\\neighbors\\_base.py:653: UserWarning: Mind that for 0 < p < 1, Minkowski metrics are not distance metrics. Continuing the execution with `algorithm='brute'`.\n",
      "  warnings.warn(\n"
     ]
    },
    {
     "name": "stdout",
     "output_type": "stream",
     "text": [
      "Metric: minkowski_0.5, Run: 5/10\n"
     ]
    },
    {
     "name": "stderr",
     "output_type": "stream",
     "text": [
      "c:\\Users\\sofus\\AppData\\Local\\Programs\\Python\\Python311\\Lib\\site-packages\\sklearn\\neighbors\\_graph.py:434: SyntaxWarning: Parameter p is found in metric_params. The corresponding parameter from __init__ is ignored.\n",
      "  self._fit(X)\n",
      "c:\\Users\\sofus\\AppData\\Local\\Programs\\Python\\Python311\\Lib\\site-packages\\sklearn\\neighbors\\_base.py:653: UserWarning: Mind that for 0 < p < 1, Minkowski metrics are not distance metrics. Continuing the execution with `algorithm='brute'`.\n",
      "  warnings.warn(\n"
     ]
    },
    {
     "name": "stdout",
     "output_type": "stream",
     "text": [
      "Metric: minkowski_0.5, Run: 6/10\n"
     ]
    },
    {
     "name": "stderr",
     "output_type": "stream",
     "text": [
      "c:\\Users\\sofus\\AppData\\Local\\Programs\\Python\\Python311\\Lib\\site-packages\\sklearn\\neighbors\\_graph.py:434: SyntaxWarning: Parameter p is found in metric_params. The corresponding parameter from __init__ is ignored.\n",
      "  self._fit(X)\n",
      "c:\\Users\\sofus\\AppData\\Local\\Programs\\Python\\Python311\\Lib\\site-packages\\sklearn\\neighbors\\_base.py:653: UserWarning: Mind that for 0 < p < 1, Minkowski metrics are not distance metrics. Continuing the execution with `algorithm='brute'`.\n",
      "  warnings.warn(\n"
     ]
    },
    {
     "name": "stdout",
     "output_type": "stream",
     "text": [
      "Metric: minkowski_0.5, Run: 7/10\n"
     ]
    },
    {
     "name": "stderr",
     "output_type": "stream",
     "text": [
      "c:\\Users\\sofus\\AppData\\Local\\Programs\\Python\\Python311\\Lib\\site-packages\\sklearn\\neighbors\\_graph.py:434: SyntaxWarning: Parameter p is found in metric_params. The corresponding parameter from __init__ is ignored.\n",
      "  self._fit(X)\n",
      "c:\\Users\\sofus\\AppData\\Local\\Programs\\Python\\Python311\\Lib\\site-packages\\sklearn\\neighbors\\_base.py:653: UserWarning: Mind that for 0 < p < 1, Minkowski metrics are not distance metrics. Continuing the execution with `algorithm='brute'`.\n",
      "  warnings.warn(\n"
     ]
    },
    {
     "name": "stdout",
     "output_type": "stream",
     "text": [
      "Metric: minkowski_0.5, Run: 8/10\n"
     ]
    },
    {
     "name": "stderr",
     "output_type": "stream",
     "text": [
      "c:\\Users\\sofus\\AppData\\Local\\Programs\\Python\\Python311\\Lib\\site-packages\\sklearn\\neighbors\\_graph.py:434: SyntaxWarning: Parameter p is found in metric_params. The corresponding parameter from __init__ is ignored.\n",
      "  self._fit(X)\n",
      "c:\\Users\\sofus\\AppData\\Local\\Programs\\Python\\Python311\\Lib\\site-packages\\sklearn\\neighbors\\_base.py:653: UserWarning: Mind that for 0 < p < 1, Minkowski metrics are not distance metrics. Continuing the execution with `algorithm='brute'`.\n",
      "  warnings.warn(\n"
     ]
    },
    {
     "name": "stdout",
     "output_type": "stream",
     "text": [
      "Metric: minkowski_0.5, Run: 9/10\n"
     ]
    },
    {
     "name": "stderr",
     "output_type": "stream",
     "text": [
      "c:\\Users\\sofus\\AppData\\Local\\Programs\\Python\\Python311\\Lib\\site-packages\\sklearn\\neighbors\\_graph.py:434: SyntaxWarning: Parameter p is found in metric_params. The corresponding parameter from __init__ is ignored.\n",
      "  self._fit(X)\n",
      "c:\\Users\\sofus\\AppData\\Local\\Programs\\Python\\Python311\\Lib\\site-packages\\sklearn\\neighbors\\_base.py:653: UserWarning: Mind that for 0 < p < 1, Minkowski metrics are not distance metrics. Continuing the execution with `algorithm='brute'`.\n",
      "  warnings.warn(\n"
     ]
    },
    {
     "name": "stdout",
     "output_type": "stream",
     "text": [
      "Metric: minkowski_0.5, Run: 10/10\n"
     ]
    },
    {
     "name": "stderr",
     "output_type": "stream",
     "text": [
      "c:\\Users\\sofus\\AppData\\Local\\Programs\\Python\\Python311\\Lib\\site-packages\\sklearn\\neighbors\\_graph.py:434: SyntaxWarning: Parameter p is found in metric_params. The corresponding parameter from __init__ is ignored.\n",
      "  self._fit(X)\n",
      "c:\\Users\\sofus\\AppData\\Local\\Programs\\Python\\Python311\\Lib\\site-packages\\sklearn\\neighbors\\_base.py:653: UserWarning: Mind that for 0 < p < 1, Minkowski metrics are not distance metrics. Continuing the execution with `algorithm='brute'`.\n",
      "  warnings.warn(\n"
     ]
    },
    {
     "name": "stdout",
     "output_type": "stream",
     "text": [
      "\n",
      "=== Dropout Level: 0.6 ===\n",
      "Metric: euclidean, Run: 1/10\n",
      "Metric: euclidean, Run: 2/10\n",
      "Metric: euclidean, Run: 3/10\n",
      "Metric: euclidean, Run: 4/10\n",
      "Metric: euclidean, Run: 5/10\n",
      "Metric: euclidean, Run: 6/10\n",
      "Metric: euclidean, Run: 7/10\n",
      "Metric: euclidean, Run: 8/10\n",
      "Metric: euclidean, Run: 9/10\n",
      "Metric: euclidean, Run: 10/10\n",
      "Metric: manhattan, Run: 1/10\n",
      "Metric: manhattan, Run: 2/10\n",
      "Metric: manhattan, Run: 3/10\n",
      "Metric: manhattan, Run: 4/10\n",
      "Metric: manhattan, Run: 5/10\n",
      "Metric: manhattan, Run: 6/10\n",
      "Metric: manhattan, Run: 7/10\n",
      "Metric: manhattan, Run: 8/10\n",
      "Metric: manhattan, Run: 9/10\n",
      "Metric: manhattan, Run: 10/10\n",
      "Metric: minkowski_0.5, Run: 1/10\n"
     ]
    },
    {
     "name": "stderr",
     "output_type": "stream",
     "text": [
      "c:\\Users\\sofus\\AppData\\Local\\Programs\\Python\\Python311\\Lib\\site-packages\\sklearn\\neighbors\\_graph.py:434: SyntaxWarning: Parameter p is found in metric_params. The corresponding parameter from __init__ is ignored.\n",
      "  self._fit(X)\n",
      "c:\\Users\\sofus\\AppData\\Local\\Programs\\Python\\Python311\\Lib\\site-packages\\sklearn\\neighbors\\_base.py:653: UserWarning: Mind that for 0 < p < 1, Minkowski metrics are not distance metrics. Continuing the execution with `algorithm='brute'`.\n",
      "  warnings.warn(\n"
     ]
    },
    {
     "name": "stdout",
     "output_type": "stream",
     "text": [
      "Metric: minkowski_0.5, Run: 2/10\n"
     ]
    },
    {
     "name": "stderr",
     "output_type": "stream",
     "text": [
      "c:\\Users\\sofus\\AppData\\Local\\Programs\\Python\\Python311\\Lib\\site-packages\\sklearn\\neighbors\\_graph.py:434: SyntaxWarning: Parameter p is found in metric_params. The corresponding parameter from __init__ is ignored.\n",
      "  self._fit(X)\n",
      "c:\\Users\\sofus\\AppData\\Local\\Programs\\Python\\Python311\\Lib\\site-packages\\sklearn\\neighbors\\_base.py:653: UserWarning: Mind that for 0 < p < 1, Minkowski metrics are not distance metrics. Continuing the execution with `algorithm='brute'`.\n",
      "  warnings.warn(\n"
     ]
    },
    {
     "name": "stdout",
     "output_type": "stream",
     "text": [
      "Metric: minkowski_0.5, Run: 3/10\n"
     ]
    },
    {
     "name": "stderr",
     "output_type": "stream",
     "text": [
      "c:\\Users\\sofus\\AppData\\Local\\Programs\\Python\\Python311\\Lib\\site-packages\\sklearn\\neighbors\\_graph.py:434: SyntaxWarning: Parameter p is found in metric_params. The corresponding parameter from __init__ is ignored.\n",
      "  self._fit(X)\n",
      "c:\\Users\\sofus\\AppData\\Local\\Programs\\Python\\Python311\\Lib\\site-packages\\sklearn\\neighbors\\_base.py:653: UserWarning: Mind that for 0 < p < 1, Minkowski metrics are not distance metrics. Continuing the execution with `algorithm='brute'`.\n",
      "  warnings.warn(\n"
     ]
    },
    {
     "name": "stdout",
     "output_type": "stream",
     "text": [
      "Metric: minkowski_0.5, Run: 4/10\n"
     ]
    },
    {
     "name": "stderr",
     "output_type": "stream",
     "text": [
      "c:\\Users\\sofus\\AppData\\Local\\Programs\\Python\\Python311\\Lib\\site-packages\\sklearn\\neighbors\\_graph.py:434: SyntaxWarning: Parameter p is found in metric_params. The corresponding parameter from __init__ is ignored.\n",
      "  self._fit(X)\n",
      "c:\\Users\\sofus\\AppData\\Local\\Programs\\Python\\Python311\\Lib\\site-packages\\sklearn\\neighbors\\_base.py:653: UserWarning: Mind that for 0 < p < 1, Minkowski metrics are not distance metrics. Continuing the execution with `algorithm='brute'`.\n",
      "  warnings.warn(\n"
     ]
    },
    {
     "name": "stdout",
     "output_type": "stream",
     "text": [
      "Metric: minkowski_0.5, Run: 5/10\n"
     ]
    },
    {
     "name": "stderr",
     "output_type": "stream",
     "text": [
      "c:\\Users\\sofus\\AppData\\Local\\Programs\\Python\\Python311\\Lib\\site-packages\\sklearn\\neighbors\\_graph.py:434: SyntaxWarning: Parameter p is found in metric_params. The corresponding parameter from __init__ is ignored.\n",
      "  self._fit(X)\n",
      "c:\\Users\\sofus\\AppData\\Local\\Programs\\Python\\Python311\\Lib\\site-packages\\sklearn\\neighbors\\_base.py:653: UserWarning: Mind that for 0 < p < 1, Minkowski metrics are not distance metrics. Continuing the execution with `algorithm='brute'`.\n",
      "  warnings.warn(\n"
     ]
    },
    {
     "name": "stdout",
     "output_type": "stream",
     "text": [
      "Metric: minkowski_0.5, Run: 6/10\n"
     ]
    },
    {
     "name": "stderr",
     "output_type": "stream",
     "text": [
      "c:\\Users\\sofus\\AppData\\Local\\Programs\\Python\\Python311\\Lib\\site-packages\\sklearn\\neighbors\\_graph.py:434: SyntaxWarning: Parameter p is found in metric_params. The corresponding parameter from __init__ is ignored.\n",
      "  self._fit(X)\n",
      "c:\\Users\\sofus\\AppData\\Local\\Programs\\Python\\Python311\\Lib\\site-packages\\sklearn\\neighbors\\_base.py:653: UserWarning: Mind that for 0 < p < 1, Minkowski metrics are not distance metrics. Continuing the execution with `algorithm='brute'`.\n",
      "  warnings.warn(\n"
     ]
    },
    {
     "name": "stdout",
     "output_type": "stream",
     "text": [
      "Metric: minkowski_0.5, Run: 7/10\n"
     ]
    },
    {
     "name": "stderr",
     "output_type": "stream",
     "text": [
      "c:\\Users\\sofus\\AppData\\Local\\Programs\\Python\\Python311\\Lib\\site-packages\\sklearn\\neighbors\\_graph.py:434: SyntaxWarning: Parameter p is found in metric_params. The corresponding parameter from __init__ is ignored.\n",
      "  self._fit(X)\n",
      "c:\\Users\\sofus\\AppData\\Local\\Programs\\Python\\Python311\\Lib\\site-packages\\sklearn\\neighbors\\_base.py:653: UserWarning: Mind that for 0 < p < 1, Minkowski metrics are not distance metrics. Continuing the execution with `algorithm='brute'`.\n",
      "  warnings.warn(\n"
     ]
    },
    {
     "name": "stdout",
     "output_type": "stream",
     "text": [
      "Metric: minkowski_0.5, Run: 8/10\n"
     ]
    },
    {
     "name": "stderr",
     "output_type": "stream",
     "text": [
      "c:\\Users\\sofus\\AppData\\Local\\Programs\\Python\\Python311\\Lib\\site-packages\\sklearn\\neighbors\\_graph.py:434: SyntaxWarning: Parameter p is found in metric_params. The corresponding parameter from __init__ is ignored.\n",
      "  self._fit(X)\n",
      "c:\\Users\\sofus\\AppData\\Local\\Programs\\Python\\Python311\\Lib\\site-packages\\sklearn\\neighbors\\_base.py:653: UserWarning: Mind that for 0 < p < 1, Minkowski metrics are not distance metrics. Continuing the execution with `algorithm='brute'`.\n",
      "  warnings.warn(\n"
     ]
    },
    {
     "name": "stdout",
     "output_type": "stream",
     "text": [
      "Metric: minkowski_0.5, Run: 9/10\n"
     ]
    },
    {
     "name": "stderr",
     "output_type": "stream",
     "text": [
      "c:\\Users\\sofus\\AppData\\Local\\Programs\\Python\\Python311\\Lib\\site-packages\\sklearn\\neighbors\\_graph.py:434: SyntaxWarning: Parameter p is found in metric_params. The corresponding parameter from __init__ is ignored.\n",
      "  self._fit(X)\n",
      "c:\\Users\\sofus\\AppData\\Local\\Programs\\Python\\Python311\\Lib\\site-packages\\sklearn\\neighbors\\_base.py:653: UserWarning: Mind that for 0 < p < 1, Minkowski metrics are not distance metrics. Continuing the execution with `algorithm='brute'`.\n",
      "  warnings.warn(\n"
     ]
    },
    {
     "name": "stdout",
     "output_type": "stream",
     "text": [
      "Metric: minkowski_0.5, Run: 10/10\n"
     ]
    },
    {
     "name": "stderr",
     "output_type": "stream",
     "text": [
      "c:\\Users\\sofus\\AppData\\Local\\Programs\\Python\\Python311\\Lib\\site-packages\\sklearn\\neighbors\\_graph.py:434: SyntaxWarning: Parameter p is found in metric_params. The corresponding parameter from __init__ is ignored.\n",
      "  self._fit(X)\n",
      "c:\\Users\\sofus\\AppData\\Local\\Programs\\Python\\Python311\\Lib\\site-packages\\sklearn\\neighbors\\_base.py:653: UserWarning: Mind that for 0 < p < 1, Minkowski metrics are not distance metrics. Continuing the execution with `algorithm='brute'`.\n",
      "  warnings.warn(\n"
     ]
    },
    {
     "name": "stdout",
     "output_type": "stream",
     "text": [
      "\n",
      "=== Dropout Level: 0.7 ===\n",
      "Metric: euclidean, Run: 1/10\n",
      "Metric: euclidean, Run: 2/10\n",
      "Metric: euclidean, Run: 3/10\n",
      "Metric: euclidean, Run: 4/10\n",
      "Metric: euclidean, Run: 5/10\n",
      "Metric: euclidean, Run: 6/10\n",
      "Metric: euclidean, Run: 7/10\n",
      "Metric: euclidean, Run: 8/10\n",
      "Metric: euclidean, Run: 9/10\n",
      "Metric: euclidean, Run: 10/10\n",
      "Metric: manhattan, Run: 1/10\n",
      "Metric: manhattan, Run: 2/10\n",
      "Metric: manhattan, Run: 3/10\n",
      "Metric: manhattan, Run: 4/10\n",
      "Metric: manhattan, Run: 5/10\n",
      "Metric: manhattan, Run: 6/10\n",
      "Metric: manhattan, Run: 7/10\n",
      "Metric: manhattan, Run: 8/10\n",
      "Metric: manhattan, Run: 9/10\n",
      "Metric: manhattan, Run: 10/10\n",
      "Metric: minkowski_0.5, Run: 1/10\n"
     ]
    },
    {
     "name": "stderr",
     "output_type": "stream",
     "text": [
      "c:\\Users\\sofus\\AppData\\Local\\Programs\\Python\\Python311\\Lib\\site-packages\\sklearn\\neighbors\\_graph.py:434: SyntaxWarning: Parameter p is found in metric_params. The corresponding parameter from __init__ is ignored.\n",
      "  self._fit(X)\n",
      "c:\\Users\\sofus\\AppData\\Local\\Programs\\Python\\Python311\\Lib\\site-packages\\sklearn\\neighbors\\_base.py:653: UserWarning: Mind that for 0 < p < 1, Minkowski metrics are not distance metrics. Continuing the execution with `algorithm='brute'`.\n",
      "  warnings.warn(\n"
     ]
    },
    {
     "name": "stdout",
     "output_type": "stream",
     "text": [
      "Metric: minkowski_0.5, Run: 2/10\n"
     ]
    },
    {
     "name": "stderr",
     "output_type": "stream",
     "text": [
      "c:\\Users\\sofus\\AppData\\Local\\Programs\\Python\\Python311\\Lib\\site-packages\\sklearn\\neighbors\\_graph.py:434: SyntaxWarning: Parameter p is found in metric_params. The corresponding parameter from __init__ is ignored.\n",
      "  self._fit(X)\n",
      "c:\\Users\\sofus\\AppData\\Local\\Programs\\Python\\Python311\\Lib\\site-packages\\sklearn\\neighbors\\_base.py:653: UserWarning: Mind that for 0 < p < 1, Minkowski metrics are not distance metrics. Continuing the execution with `algorithm='brute'`.\n",
      "  warnings.warn(\n"
     ]
    },
    {
     "name": "stdout",
     "output_type": "stream",
     "text": [
      "Metric: minkowski_0.5, Run: 3/10\n"
     ]
    },
    {
     "name": "stderr",
     "output_type": "stream",
     "text": [
      "c:\\Users\\sofus\\AppData\\Local\\Programs\\Python\\Python311\\Lib\\site-packages\\sklearn\\neighbors\\_graph.py:434: SyntaxWarning: Parameter p is found in metric_params. The corresponding parameter from __init__ is ignored.\n",
      "  self._fit(X)\n",
      "c:\\Users\\sofus\\AppData\\Local\\Programs\\Python\\Python311\\Lib\\site-packages\\sklearn\\neighbors\\_base.py:653: UserWarning: Mind that for 0 < p < 1, Minkowski metrics are not distance metrics. Continuing the execution with `algorithm='brute'`.\n",
      "  warnings.warn(\n"
     ]
    },
    {
     "name": "stdout",
     "output_type": "stream",
     "text": [
      "Metric: minkowski_0.5, Run: 4/10\n"
     ]
    },
    {
     "name": "stderr",
     "output_type": "stream",
     "text": [
      "c:\\Users\\sofus\\AppData\\Local\\Programs\\Python\\Python311\\Lib\\site-packages\\sklearn\\neighbors\\_graph.py:434: SyntaxWarning: Parameter p is found in metric_params. The corresponding parameter from __init__ is ignored.\n",
      "  self._fit(X)\n",
      "c:\\Users\\sofus\\AppData\\Local\\Programs\\Python\\Python311\\Lib\\site-packages\\sklearn\\neighbors\\_base.py:653: UserWarning: Mind that for 0 < p < 1, Minkowski metrics are not distance metrics. Continuing the execution with `algorithm='brute'`.\n",
      "  warnings.warn(\n"
     ]
    },
    {
     "name": "stdout",
     "output_type": "stream",
     "text": [
      "Metric: minkowski_0.5, Run: 5/10\n"
     ]
    },
    {
     "name": "stderr",
     "output_type": "stream",
     "text": [
      "c:\\Users\\sofus\\AppData\\Local\\Programs\\Python\\Python311\\Lib\\site-packages\\sklearn\\neighbors\\_graph.py:434: SyntaxWarning: Parameter p is found in metric_params. The corresponding parameter from __init__ is ignored.\n",
      "  self._fit(X)\n",
      "c:\\Users\\sofus\\AppData\\Local\\Programs\\Python\\Python311\\Lib\\site-packages\\sklearn\\neighbors\\_base.py:653: UserWarning: Mind that for 0 < p < 1, Minkowski metrics are not distance metrics. Continuing the execution with `algorithm='brute'`.\n",
      "  warnings.warn(\n"
     ]
    },
    {
     "name": "stdout",
     "output_type": "stream",
     "text": [
      "Metric: minkowski_0.5, Run: 6/10\n"
     ]
    },
    {
     "name": "stderr",
     "output_type": "stream",
     "text": [
      "c:\\Users\\sofus\\AppData\\Local\\Programs\\Python\\Python311\\Lib\\site-packages\\sklearn\\neighbors\\_graph.py:434: SyntaxWarning: Parameter p is found in metric_params. The corresponding parameter from __init__ is ignored.\n",
      "  self._fit(X)\n",
      "c:\\Users\\sofus\\AppData\\Local\\Programs\\Python\\Python311\\Lib\\site-packages\\sklearn\\neighbors\\_base.py:653: UserWarning: Mind that for 0 < p < 1, Minkowski metrics are not distance metrics. Continuing the execution with `algorithm='brute'`.\n",
      "  warnings.warn(\n"
     ]
    },
    {
     "name": "stdout",
     "output_type": "stream",
     "text": [
      "Metric: minkowski_0.5, Run: 7/10\n"
     ]
    },
    {
     "name": "stderr",
     "output_type": "stream",
     "text": [
      "c:\\Users\\sofus\\AppData\\Local\\Programs\\Python\\Python311\\Lib\\site-packages\\sklearn\\neighbors\\_graph.py:434: SyntaxWarning: Parameter p is found in metric_params. The corresponding parameter from __init__ is ignored.\n",
      "  self._fit(X)\n",
      "c:\\Users\\sofus\\AppData\\Local\\Programs\\Python\\Python311\\Lib\\site-packages\\sklearn\\neighbors\\_base.py:653: UserWarning: Mind that for 0 < p < 1, Minkowski metrics are not distance metrics. Continuing the execution with `algorithm='brute'`.\n",
      "  warnings.warn(\n"
     ]
    },
    {
     "name": "stdout",
     "output_type": "stream",
     "text": [
      "Metric: minkowski_0.5, Run: 8/10\n"
     ]
    },
    {
     "name": "stderr",
     "output_type": "stream",
     "text": [
      "c:\\Users\\sofus\\AppData\\Local\\Programs\\Python\\Python311\\Lib\\site-packages\\sklearn\\neighbors\\_graph.py:434: SyntaxWarning: Parameter p is found in metric_params. The corresponding parameter from __init__ is ignored.\n",
      "  self._fit(X)\n",
      "c:\\Users\\sofus\\AppData\\Local\\Programs\\Python\\Python311\\Lib\\site-packages\\sklearn\\neighbors\\_base.py:653: UserWarning: Mind that for 0 < p < 1, Minkowski metrics are not distance metrics. Continuing the execution with `algorithm='brute'`.\n",
      "  warnings.warn(\n"
     ]
    },
    {
     "name": "stdout",
     "output_type": "stream",
     "text": [
      "Metric: minkowski_0.5, Run: 9/10\n"
     ]
    },
    {
     "name": "stderr",
     "output_type": "stream",
     "text": [
      "c:\\Users\\sofus\\AppData\\Local\\Programs\\Python\\Python311\\Lib\\site-packages\\sklearn\\neighbors\\_graph.py:434: SyntaxWarning: Parameter p is found in metric_params. The corresponding parameter from __init__ is ignored.\n",
      "  self._fit(X)\n",
      "c:\\Users\\sofus\\AppData\\Local\\Programs\\Python\\Python311\\Lib\\site-packages\\sklearn\\neighbors\\_base.py:653: UserWarning: Mind that for 0 < p < 1, Minkowski metrics are not distance metrics. Continuing the execution with `algorithm='brute'`.\n",
      "  warnings.warn(\n"
     ]
    },
    {
     "name": "stdout",
     "output_type": "stream",
     "text": [
      "Metric: minkowski_0.5, Run: 10/10\n"
     ]
    },
    {
     "name": "stderr",
     "output_type": "stream",
     "text": [
      "c:\\Users\\sofus\\AppData\\Local\\Programs\\Python\\Python311\\Lib\\site-packages\\sklearn\\neighbors\\_graph.py:434: SyntaxWarning: Parameter p is found in metric_params. The corresponding parameter from __init__ is ignored.\n",
      "  self._fit(X)\n",
      "c:\\Users\\sofus\\AppData\\Local\\Programs\\Python\\Python311\\Lib\\site-packages\\sklearn\\neighbors\\_base.py:653: UserWarning: Mind that for 0 < p < 1, Minkowski metrics are not distance metrics. Continuing the execution with `algorithm='brute'`.\n",
      "  warnings.warn(\n"
     ]
    },
    {
     "name": "stdout",
     "output_type": "stream",
     "text": [
      "\n",
      "=== Dropout Level: 0.8 ===\n",
      "Metric: euclidean, Run: 1/10\n",
      "Metric: euclidean, Run: 2/10\n",
      "Metric: euclidean, Run: 3/10\n",
      "Metric: euclidean, Run: 4/10\n",
      "Metric: euclidean, Run: 5/10\n",
      "Metric: euclidean, Run: 6/10\n",
      "Metric: euclidean, Run: 7/10\n",
      "Metric: euclidean, Run: 8/10\n",
      "Metric: euclidean, Run: 9/10\n",
      "Metric: euclidean, Run: 10/10\n",
      "Metric: manhattan, Run: 1/10\n",
      "Metric: manhattan, Run: 2/10\n",
      "Metric: manhattan, Run: 3/10\n",
      "Metric: manhattan, Run: 4/10\n",
      "Metric: manhattan, Run: 5/10\n",
      "Metric: manhattan, Run: 6/10\n",
      "Metric: manhattan, Run: 7/10\n",
      "Metric: manhattan, Run: 8/10\n",
      "Metric: manhattan, Run: 9/10\n",
      "Metric: manhattan, Run: 10/10\n",
      "Metric: minkowski_0.5, Run: 1/10\n"
     ]
    },
    {
     "name": "stderr",
     "output_type": "stream",
     "text": [
      "c:\\Users\\sofus\\AppData\\Local\\Programs\\Python\\Python311\\Lib\\site-packages\\sklearn\\neighbors\\_graph.py:434: SyntaxWarning: Parameter p is found in metric_params. The corresponding parameter from __init__ is ignored.\n",
      "  self._fit(X)\n",
      "c:\\Users\\sofus\\AppData\\Local\\Programs\\Python\\Python311\\Lib\\site-packages\\sklearn\\neighbors\\_base.py:653: UserWarning: Mind that for 0 < p < 1, Minkowski metrics are not distance metrics. Continuing the execution with `algorithm='brute'`.\n",
      "  warnings.warn(\n"
     ]
    },
    {
     "name": "stdout",
     "output_type": "stream",
     "text": [
      "Metric: minkowski_0.5, Run: 2/10\n"
     ]
    },
    {
     "name": "stderr",
     "output_type": "stream",
     "text": [
      "c:\\Users\\sofus\\AppData\\Local\\Programs\\Python\\Python311\\Lib\\site-packages\\sklearn\\neighbors\\_graph.py:434: SyntaxWarning: Parameter p is found in metric_params. The corresponding parameter from __init__ is ignored.\n",
      "  self._fit(X)\n",
      "c:\\Users\\sofus\\AppData\\Local\\Programs\\Python\\Python311\\Lib\\site-packages\\sklearn\\neighbors\\_base.py:653: UserWarning: Mind that for 0 < p < 1, Minkowski metrics are not distance metrics. Continuing the execution with `algorithm='brute'`.\n",
      "  warnings.warn(\n"
     ]
    },
    {
     "name": "stdout",
     "output_type": "stream",
     "text": [
      "Metric: minkowski_0.5, Run: 3/10\n"
     ]
    },
    {
     "name": "stderr",
     "output_type": "stream",
     "text": [
      "c:\\Users\\sofus\\AppData\\Local\\Programs\\Python\\Python311\\Lib\\site-packages\\sklearn\\neighbors\\_graph.py:434: SyntaxWarning: Parameter p is found in metric_params. The corresponding parameter from __init__ is ignored.\n",
      "  self._fit(X)\n",
      "c:\\Users\\sofus\\AppData\\Local\\Programs\\Python\\Python311\\Lib\\site-packages\\sklearn\\neighbors\\_base.py:653: UserWarning: Mind that for 0 < p < 1, Minkowski metrics are not distance metrics. Continuing the execution with `algorithm='brute'`.\n",
      "  warnings.warn(\n"
     ]
    },
    {
     "name": "stdout",
     "output_type": "stream",
     "text": [
      "Metric: minkowski_0.5, Run: 4/10\n"
     ]
    },
    {
     "name": "stderr",
     "output_type": "stream",
     "text": [
      "c:\\Users\\sofus\\AppData\\Local\\Programs\\Python\\Python311\\Lib\\site-packages\\sklearn\\neighbors\\_graph.py:434: SyntaxWarning: Parameter p is found in metric_params. The corresponding parameter from __init__ is ignored.\n",
      "  self._fit(X)\n",
      "c:\\Users\\sofus\\AppData\\Local\\Programs\\Python\\Python311\\Lib\\site-packages\\sklearn\\neighbors\\_base.py:653: UserWarning: Mind that for 0 < p < 1, Minkowski metrics are not distance metrics. Continuing the execution with `algorithm='brute'`.\n",
      "  warnings.warn(\n"
     ]
    },
    {
     "name": "stdout",
     "output_type": "stream",
     "text": [
      "Metric: minkowski_0.5, Run: 5/10\n"
     ]
    },
    {
     "name": "stderr",
     "output_type": "stream",
     "text": [
      "c:\\Users\\sofus\\AppData\\Local\\Programs\\Python\\Python311\\Lib\\site-packages\\sklearn\\neighbors\\_graph.py:434: SyntaxWarning: Parameter p is found in metric_params. The corresponding parameter from __init__ is ignored.\n",
      "  self._fit(X)\n",
      "c:\\Users\\sofus\\AppData\\Local\\Programs\\Python\\Python311\\Lib\\site-packages\\sklearn\\neighbors\\_base.py:653: UserWarning: Mind that for 0 < p < 1, Minkowski metrics are not distance metrics. Continuing the execution with `algorithm='brute'`.\n",
      "  warnings.warn(\n"
     ]
    },
    {
     "name": "stdout",
     "output_type": "stream",
     "text": [
      "Metric: minkowski_0.5, Run: 6/10\n"
     ]
    },
    {
     "name": "stderr",
     "output_type": "stream",
     "text": [
      "c:\\Users\\sofus\\AppData\\Local\\Programs\\Python\\Python311\\Lib\\site-packages\\sklearn\\neighbors\\_graph.py:434: SyntaxWarning: Parameter p is found in metric_params. The corresponding parameter from __init__ is ignored.\n",
      "  self._fit(X)\n",
      "c:\\Users\\sofus\\AppData\\Local\\Programs\\Python\\Python311\\Lib\\site-packages\\sklearn\\neighbors\\_base.py:653: UserWarning: Mind that for 0 < p < 1, Minkowski metrics are not distance metrics. Continuing the execution with `algorithm='brute'`.\n",
      "  warnings.warn(\n"
     ]
    },
    {
     "name": "stdout",
     "output_type": "stream",
     "text": [
      "Metric: minkowski_0.5, Run: 7/10\n"
     ]
    },
    {
     "name": "stderr",
     "output_type": "stream",
     "text": [
      "c:\\Users\\sofus\\AppData\\Local\\Programs\\Python\\Python311\\Lib\\site-packages\\sklearn\\neighbors\\_graph.py:434: SyntaxWarning: Parameter p is found in metric_params. The corresponding parameter from __init__ is ignored.\n",
      "  self._fit(X)\n",
      "c:\\Users\\sofus\\AppData\\Local\\Programs\\Python\\Python311\\Lib\\site-packages\\sklearn\\neighbors\\_base.py:653: UserWarning: Mind that for 0 < p < 1, Minkowski metrics are not distance metrics. Continuing the execution with `algorithm='brute'`.\n",
      "  warnings.warn(\n"
     ]
    },
    {
     "name": "stdout",
     "output_type": "stream",
     "text": [
      "Metric: minkowski_0.5, Run: 8/10\n"
     ]
    },
    {
     "name": "stderr",
     "output_type": "stream",
     "text": [
      "c:\\Users\\sofus\\AppData\\Local\\Programs\\Python\\Python311\\Lib\\site-packages\\sklearn\\neighbors\\_graph.py:434: SyntaxWarning: Parameter p is found in metric_params. The corresponding parameter from __init__ is ignored.\n",
      "  self._fit(X)\n",
      "c:\\Users\\sofus\\AppData\\Local\\Programs\\Python\\Python311\\Lib\\site-packages\\sklearn\\neighbors\\_base.py:653: UserWarning: Mind that for 0 < p < 1, Minkowski metrics are not distance metrics. Continuing the execution with `algorithm='brute'`.\n",
      "  warnings.warn(\n"
     ]
    },
    {
     "name": "stdout",
     "output_type": "stream",
     "text": [
      "Metric: minkowski_0.5, Run: 9/10\n"
     ]
    },
    {
     "name": "stderr",
     "output_type": "stream",
     "text": [
      "c:\\Users\\sofus\\AppData\\Local\\Programs\\Python\\Python311\\Lib\\site-packages\\sklearn\\neighbors\\_graph.py:434: SyntaxWarning: Parameter p is found in metric_params. The corresponding parameter from __init__ is ignored.\n",
      "  self._fit(X)\n",
      "c:\\Users\\sofus\\AppData\\Local\\Programs\\Python\\Python311\\Lib\\site-packages\\sklearn\\neighbors\\_base.py:653: UserWarning: Mind that for 0 < p < 1, Minkowski metrics are not distance metrics. Continuing the execution with `algorithm='brute'`.\n",
      "  warnings.warn(\n"
     ]
    },
    {
     "name": "stdout",
     "output_type": "stream",
     "text": [
      "Metric: minkowski_0.5, Run: 10/10\n"
     ]
    },
    {
     "name": "stderr",
     "output_type": "stream",
     "text": [
      "c:\\Users\\sofus\\AppData\\Local\\Programs\\Python\\Python311\\Lib\\site-packages\\sklearn\\neighbors\\_graph.py:434: SyntaxWarning: Parameter p is found in metric_params. The corresponding parameter from __init__ is ignored.\n",
      "  self._fit(X)\n",
      "c:\\Users\\sofus\\AppData\\Local\\Programs\\Python\\Python311\\Lib\\site-packages\\sklearn\\neighbors\\_base.py:653: UserWarning: Mind that for 0 < p < 1, Minkowski metrics are not distance metrics. Continuing the execution with `algorithm='brute'`.\n",
      "  warnings.warn(\n"
     ]
    },
    {
     "name": "stdout",
     "output_type": "stream",
     "text": [
      "\n",
      "=== Dropout Level: 0.9 ===\n",
      "Metric: euclidean, Run: 1/10\n",
      "Metric: euclidean, Run: 2/10\n",
      "Metric: euclidean, Run: 3/10\n",
      "Metric: euclidean, Run: 4/10\n",
      "Metric: euclidean, Run: 5/10\n",
      "Metric: euclidean, Run: 6/10\n",
      "Metric: euclidean, Run: 7/10\n",
      "Metric: euclidean, Run: 8/10\n",
      "Metric: euclidean, Run: 9/10\n",
      "Metric: euclidean, Run: 10/10\n",
      "Metric: manhattan, Run: 1/10\n",
      "Metric: manhattan, Run: 2/10\n",
      "Metric: manhattan, Run: 3/10\n",
      "Metric: manhattan, Run: 4/10\n",
      "Metric: manhattan, Run: 5/10\n",
      "Metric: manhattan, Run: 6/10\n",
      "Metric: manhattan, Run: 7/10\n",
      "Metric: manhattan, Run: 8/10\n",
      "Metric: manhattan, Run: 9/10\n",
      "Metric: manhattan, Run: 10/10\n",
      "Metric: minkowski_0.5, Run: 1/10\n"
     ]
    },
    {
     "name": "stderr",
     "output_type": "stream",
     "text": [
      "c:\\Users\\sofus\\AppData\\Local\\Programs\\Python\\Python311\\Lib\\site-packages\\sklearn\\neighbors\\_graph.py:434: SyntaxWarning: Parameter p is found in metric_params. The corresponding parameter from __init__ is ignored.\n",
      "  self._fit(X)\n",
      "c:\\Users\\sofus\\AppData\\Local\\Programs\\Python\\Python311\\Lib\\site-packages\\sklearn\\neighbors\\_base.py:653: UserWarning: Mind that for 0 < p < 1, Minkowski metrics are not distance metrics. Continuing the execution with `algorithm='brute'`.\n",
      "  warnings.warn(\n"
     ]
    },
    {
     "name": "stdout",
     "output_type": "stream",
     "text": [
      "Metric: minkowski_0.5, Run: 2/10\n"
     ]
    },
    {
     "name": "stderr",
     "output_type": "stream",
     "text": [
      "c:\\Users\\sofus\\AppData\\Local\\Programs\\Python\\Python311\\Lib\\site-packages\\sklearn\\neighbors\\_graph.py:434: SyntaxWarning: Parameter p is found in metric_params. The corresponding parameter from __init__ is ignored.\n",
      "  self._fit(X)\n",
      "c:\\Users\\sofus\\AppData\\Local\\Programs\\Python\\Python311\\Lib\\site-packages\\sklearn\\neighbors\\_base.py:653: UserWarning: Mind that for 0 < p < 1, Minkowski metrics are not distance metrics. Continuing the execution with `algorithm='brute'`.\n",
      "  warnings.warn(\n"
     ]
    },
    {
     "name": "stdout",
     "output_type": "stream",
     "text": [
      "Metric: minkowski_0.5, Run: 3/10\n"
     ]
    },
    {
     "name": "stderr",
     "output_type": "stream",
     "text": [
      "c:\\Users\\sofus\\AppData\\Local\\Programs\\Python\\Python311\\Lib\\site-packages\\sklearn\\neighbors\\_graph.py:434: SyntaxWarning: Parameter p is found in metric_params. The corresponding parameter from __init__ is ignored.\n",
      "  self._fit(X)\n",
      "c:\\Users\\sofus\\AppData\\Local\\Programs\\Python\\Python311\\Lib\\site-packages\\sklearn\\neighbors\\_base.py:653: UserWarning: Mind that for 0 < p < 1, Minkowski metrics are not distance metrics. Continuing the execution with `algorithm='brute'`.\n",
      "  warnings.warn(\n"
     ]
    },
    {
     "name": "stdout",
     "output_type": "stream",
     "text": [
      "Metric: minkowski_0.5, Run: 4/10\n"
     ]
    },
    {
     "name": "stderr",
     "output_type": "stream",
     "text": [
      "c:\\Users\\sofus\\AppData\\Local\\Programs\\Python\\Python311\\Lib\\site-packages\\sklearn\\neighbors\\_graph.py:434: SyntaxWarning: Parameter p is found in metric_params. The corresponding parameter from __init__ is ignored.\n",
      "  self._fit(X)\n",
      "c:\\Users\\sofus\\AppData\\Local\\Programs\\Python\\Python311\\Lib\\site-packages\\sklearn\\neighbors\\_base.py:653: UserWarning: Mind that for 0 < p < 1, Minkowski metrics are not distance metrics. Continuing the execution with `algorithm='brute'`.\n",
      "  warnings.warn(\n"
     ]
    },
    {
     "name": "stdout",
     "output_type": "stream",
     "text": [
      "Metric: minkowski_0.5, Run: 5/10\n"
     ]
    },
    {
     "name": "stderr",
     "output_type": "stream",
     "text": [
      "c:\\Users\\sofus\\AppData\\Local\\Programs\\Python\\Python311\\Lib\\site-packages\\sklearn\\neighbors\\_graph.py:434: SyntaxWarning: Parameter p is found in metric_params. The corresponding parameter from __init__ is ignored.\n",
      "  self._fit(X)\n",
      "c:\\Users\\sofus\\AppData\\Local\\Programs\\Python\\Python311\\Lib\\site-packages\\sklearn\\neighbors\\_base.py:653: UserWarning: Mind that for 0 < p < 1, Minkowski metrics are not distance metrics. Continuing the execution with `algorithm='brute'`.\n",
      "  warnings.warn(\n"
     ]
    },
    {
     "name": "stdout",
     "output_type": "stream",
     "text": [
      "Metric: minkowski_0.5, Run: 6/10\n"
     ]
    },
    {
     "name": "stderr",
     "output_type": "stream",
     "text": [
      "c:\\Users\\sofus\\AppData\\Local\\Programs\\Python\\Python311\\Lib\\site-packages\\sklearn\\neighbors\\_graph.py:434: SyntaxWarning: Parameter p is found in metric_params. The corresponding parameter from __init__ is ignored.\n",
      "  self._fit(X)\n",
      "c:\\Users\\sofus\\AppData\\Local\\Programs\\Python\\Python311\\Lib\\site-packages\\sklearn\\neighbors\\_base.py:653: UserWarning: Mind that for 0 < p < 1, Minkowski metrics are not distance metrics. Continuing the execution with `algorithm='brute'`.\n",
      "  warnings.warn(\n"
     ]
    },
    {
     "name": "stdout",
     "output_type": "stream",
     "text": [
      "Metric: minkowski_0.5, Run: 7/10\n"
     ]
    },
    {
     "name": "stderr",
     "output_type": "stream",
     "text": [
      "c:\\Users\\sofus\\AppData\\Local\\Programs\\Python\\Python311\\Lib\\site-packages\\sklearn\\neighbors\\_graph.py:434: SyntaxWarning: Parameter p is found in metric_params. The corresponding parameter from __init__ is ignored.\n",
      "  self._fit(X)\n",
      "c:\\Users\\sofus\\AppData\\Local\\Programs\\Python\\Python311\\Lib\\site-packages\\sklearn\\neighbors\\_base.py:653: UserWarning: Mind that for 0 < p < 1, Minkowski metrics are not distance metrics. Continuing the execution with `algorithm='brute'`.\n",
      "  warnings.warn(\n"
     ]
    },
    {
     "name": "stdout",
     "output_type": "stream",
     "text": [
      "Metric: minkowski_0.5, Run: 8/10\n"
     ]
    },
    {
     "name": "stderr",
     "output_type": "stream",
     "text": [
      "c:\\Users\\sofus\\AppData\\Local\\Programs\\Python\\Python311\\Lib\\site-packages\\sklearn\\neighbors\\_graph.py:434: SyntaxWarning: Parameter p is found in metric_params. The corresponding parameter from __init__ is ignored.\n",
      "  self._fit(X)\n",
      "c:\\Users\\sofus\\AppData\\Local\\Programs\\Python\\Python311\\Lib\\site-packages\\sklearn\\neighbors\\_base.py:653: UserWarning: Mind that for 0 < p < 1, Minkowski metrics are not distance metrics. Continuing the execution with `algorithm='brute'`.\n",
      "  warnings.warn(\n"
     ]
    },
    {
     "name": "stdout",
     "output_type": "stream",
     "text": [
      "Metric: minkowski_0.5, Run: 9/10\n"
     ]
    },
    {
     "name": "stderr",
     "output_type": "stream",
     "text": [
      "c:\\Users\\sofus\\AppData\\Local\\Programs\\Python\\Python311\\Lib\\site-packages\\sklearn\\neighbors\\_graph.py:434: SyntaxWarning: Parameter p is found in metric_params. The corresponding parameter from __init__ is ignored.\n",
      "  self._fit(X)\n",
      "c:\\Users\\sofus\\AppData\\Local\\Programs\\Python\\Python311\\Lib\\site-packages\\sklearn\\neighbors\\_base.py:653: UserWarning: Mind that for 0 < p < 1, Minkowski metrics are not distance metrics. Continuing the execution with `algorithm='brute'`.\n",
      "  warnings.warn(\n"
     ]
    },
    {
     "name": "stdout",
     "output_type": "stream",
     "text": [
      "Metric: minkowski_0.5, Run: 10/10\n"
     ]
    },
    {
     "name": "stderr",
     "output_type": "stream",
     "text": [
      "c:\\Users\\sofus\\AppData\\Local\\Programs\\Python\\Python311\\Lib\\site-packages\\sklearn\\neighbors\\_graph.py:434: SyntaxWarning: Parameter p is found in metric_params. The corresponding parameter from __init__ is ignored.\n",
      "  self._fit(X)\n",
      "c:\\Users\\sofus\\AppData\\Local\\Programs\\Python\\Python311\\Lib\\site-packages\\sklearn\\neighbors\\_base.py:653: UserWarning: Mind that for 0 < p < 1, Minkowski metrics are not distance metrics. Continuing the execution with `algorithm='brute'`.\n",
      "  warnings.warn(\n"
     ]
    }
   ],
   "source": [
    "import numpy as np\n",
    "import pandas as pd\n",
    "import scanpy as sc\n",
    "from sklearn.manifold import trustworthiness\n",
    "from sklearn.metrics import silhouette_score\n",
    "import pickle\n",
    "\n",
    "label_path = '../../data/S500_O/symsim_labels_20000genes_500cells_complex.csv'\n",
    "dropout_levels = [round(i / 10, 1) for i in range(1, 10)]\n",
    "\n",
    "#load constant labels\n",
    "labels = pd.read_csv(label_path, index_col=0)\n",
    "labels.index = labels.index.astype(int)\n",
    "\n",
    "all_results = {}\n",
    "\n",
    "for dropout in dropout_levels:\n",
    "    print(f\"\\n=== Dropout Level: {dropout} ===\")\n",
    "\n",
    "    data_path = f\"../../data/S500_O/noise_dropout_{dropout}.csv\"\n",
    "    counts = pd.read_csv(data_path, index_col=0)\n",
    "    if counts.shape[0] > counts.shape[1]:\n",
    "        counts = counts.T\n",
    "\n",
    "    adata = sc.AnnData(counts)\n",
    "    adata.obs.index = adata.obs.index.str.lstrip('X').astype(int)\n",
    "    adata.obs['cell_class'] = labels.reindex(adata.obs.index)['x'].astype(str)\n",
    "\n",
    "    metrics = {\n",
    "        'euclidean': {},\n",
    "        'manhattan': {},\n",
    "        'minkowski_0.5': {}\n",
    "    }\n",
    "\n",
    "    for metric in metrics:\n",
    "        trustworthiness_scores = []\n",
    "        silhouette_scores = []\n",
    "\n",
    "        for i in range(10):\n",
    "            print(f\"Metric: {metric}, Run: {i+1}/10\")\n",
    "\n",
    "            if metric == 'minkowski_0.5':\n",
    "                sc.pp.neighbors(adata, n_neighbors=15, use_rep='X', metric='minkowski', metric_kwds={'p': 0.5})\n",
    "            else:\n",
    "                sc.pp.neighbors(adata, n_neighbors=15, use_rep='X', metric=metric)\n",
    "\n",
    "            sc.tl.umap(adata, random_state=None)\n",
    "\n",
    "            # Trustworthiness\n",
    "            tw = trustworthiness(adata.X, adata.obsm['X_umap'], n_neighbors=15)\n",
    "            trustworthiness_scores.append(tw)\n",
    "\n",
    "            # Silhouette Score\n",
    "            sil_score = silhouette_score(adata.obsm['X_umap'], adata.obs['cell_class'])\n",
    "            silhouette_scores.append(sil_score)\n",
    "\n",
    "        metrics[metric] = {\n",
    "            'trustworthiness': trustworthiness_scores,\n",
    "            'silhouette': silhouette_scores,\n",
    "            'trustworthiness_mean': np.mean(trustworthiness_scores),\n",
    "            'trustworthiness_min': np.min(trustworthiness_scores),\n",
    "            'trustworthiness_max': np.max(trustworthiness_scores),\n",
    "            'silhouette_mean': np.mean(silhouette_scores),\n",
    "            'silhouette_min': np.min(silhouette_scores),\n",
    "            'silhouette_max': np.max(silhouette_scores)\n",
    "        }\n",
    "\n",
    "    all_results[f\"dropout_{dropout}\"] = metrics"
   ]
  },
  {
   "cell_type": "code",
   "execution_count": 2,
   "id": "4f3ac092",
   "metadata": {},
   "outputs": [
    {
     "name": "stdout",
     "output_type": "stream",
     "text": [
      "{'dropout_0.1': {'euclidean': {'trustworthiness': [0.9777330538085255, 0.9771600279524808, 0.9766238993710692, 0.9770700209643606, 0.9770647099930119, 0.9775672955974842, 0.9766018169112509, 0.9769610062893082, 0.9780117400419287, 0.9780240391334731], 'silhouette': [0.5799934, 0.47052798, 0.6978854, 0.5849111, 0.6093758, 0.56881016, 0.60145026, 0.66012377, 0.6814017, 0.61592394], 'trustworthiness_mean': 0.9772817610062893, 'trustworthiness_min': 0.9766018169112509, 'trustworthiness_max': 0.9780240391334731, 'silhouette_mean': 0.60704035, 'silhouette_min': 0.47052798, 'silhouette_max': 0.6978854}, 'manhattan': {'trustworthiness': [0.9664869322152341, 0.9657028651292803, 0.9657587700908455, 0.9662062893081761, 0.9650160726764501, 0.9639278825995807, 0.9637400419287212, 0.9646060097833683, 0.964479105520615, 0.967025856044724], 'silhouette': [0.6482301, 0.68469566, 0.82071465, 0.67192626, 0.77894646, 0.7579556, 0.74172133, 0.73225474, 0.73900133, 0.7754657], 'trustworthiness_mean': 0.9652949825296995, 'trustworthiness_min': 0.9637400419287212, 'trustworthiness_max': 0.967025856044724, 'silhouette_mean': 0.7350912, 'silhouette_min': 0.6482301, 'silhouette_max': 0.82071465}, 'minkowski_0.5': {'trustworthiness': [0.8738873515024459, 0.8827460517120894, 0.8654197064989517, 0.8737425576519916, 0.8867488469601678, 0.8709316561844864, 0.8667315164220825, 0.8744556254367575, 0.8686426275331935, 0.8735197763801538], 'silhouette': [0.8657985, 0.86623114, 0.90457547, 0.8869185, 0.8853704, 0.83889276, 0.85987055, 0.8484984, 0.85453904, 0.9007483], 'trustworthiness_mean': 0.873682571628232, 'trustworthiness_min': 0.8654197064989517, 'trustworthiness_max': 0.8867488469601678, 'silhouette_mean': 0.8711443, 'silhouette_min': 0.83889276, 'silhouette_max': 0.90457547}}, 'dropout_0.2': {'euclidean': {'trustworthiness': [0.968385464709993, 0.9714842767295597, 0.970414535290007, 0.9727812718378757, 0.9689970649895179, 0.970306359189378, 0.9706233403214535, 0.9684964360587002, 0.9703424178895877, 0.9663038434661076], 'silhouette': [0.57334304, 0.50734776, 0.47754815, 0.550135, 0.46114936, 0.5691875, 0.55308527, 0.5930132, 0.4589174, 0.47103164], 'trustworthiness_mean': 0.9698135010482181, 'trustworthiness_min': 0.9663038434661076, 'trustworthiness_max': 0.9727812718378757, 'silhouette_mean': 0.5214759, 'silhouette_min': 0.4589174, 'silhouette_max': 0.5930132}, 'manhattan': {'trustworthiness': [0.9586169112508736, 0.9597227113906359, 0.9601260656883298, 0.9589045422781272, 0.9615002096436058, 0.9598593990216632, 0.9600377358490566, 0.9580447239692522, 0.9600536687631027, 0.9602250174703005], 'silhouette': [0.71034557, 0.45558915, 0.737552, 0.653625, 0.5216666, 0.73491335, 0.6833383, 0.68189675, 0.5663209, 0.6653297], 'trustworthiness_mean': 0.9597090985324946, 'trustworthiness_min': 0.9580447239692522, 'trustworthiness_max': 0.9615002096436058, 'silhouette_mean': 0.64105767, 'silhouette_min': 0.45558915, 'silhouette_max': 0.737552}, 'minkowski_0.5': {'trustworthiness': [0.8707835080363382, 0.8662635918937805, 0.8663334730957373, 0.8688626135569532, 0.8774222222222222, 0.8671519217330538, 0.8768849755415793, 0.8661461914744933, 0.8805433962264151, 0.8776301886792452], 'silhouette': [0.849967, 0.8796898, 0.8819514, 0.87271774, 0.864453, 0.8947463, 0.8811346, 0.88657606, 0.88785505, 0.91239893], 'trustworthiness_mean': 0.8718022082459818, 'trustworthiness_min': 0.8661461914744933, 'trustworthiness_max': 0.8805433962264151, 'silhouette_mean': 0.881149, 'silhouette_min': 0.849967, 'silhouette_max': 0.91239893}}, 'dropout_0.3': {'euclidean': {'trustworthiness': [0.9636640111809923, 0.959577358490566, 0.9618599580712788, 0.9633238294898673, 0.9641878406708595, 0.9613394828791055, 0.9628153738644305, 0.9637716282320056, 0.9632206848357792, 0.9636027952480782], 'silhouette': [0.4396352, 0.49560323, 0.4110487, 0.4432566, 0.46238694, 0.45778456, 0.4530726, 0.44206655, 0.57087743, 0.51092625], 'trustworthiness_mean': 0.9627362962962962, 'trustworthiness_min': 0.959577358490566, 'trustworthiness_max': 0.9641878406708595, 'silhouette_mean': 0.46866578, 'silhouette_min': 0.4110487, 'silhouette_max': 0.57087743}, 'manhattan': {'trustworthiness': [0.9513481481481482, 0.9548396925227114, 0.9545092941998602, 0.9538974143955277, 0.9549003494060098, 0.9517615653389239, 0.9538283717679944, 0.9542104821802935, 0.955643605870021, 0.9501316561844864], 'silhouette': [0.78533924, 0.67394775, 0.720567, 0.72857493, 0.7018419, 0.7425753, 0.7799468, 0.6968611, 0.61429775, 0.7346348], 'trustworthiness_mean': 0.9535070580013978, 'trustworthiness_min': 0.9501316561844864, 'trustworthiness_max': 0.955643605870021, 'silhouette_mean': 0.7178587, 'silhouette_min': 0.61429775, 'silhouette_max': 0.78533924}, 'minkowski_0.5': {'trustworthiness': [0.8615658979734452, 0.8592682040531097, 0.8672466806429071, 0.8635888190076869, 0.8615158630328441, 0.8610157931516422, 0.8612134171907757, 0.8589551362683439, 0.8631278825995807, 0.861427253668763], 'silhouette': [0.87429833, 0.8815207, 0.884723, 0.84204215, 0.9183776, 0.9202459, 0.9197886, 0.8662425, 0.8332196, 0.86868054], 'trustworthiness_mean': 0.8618924947589098, 'trustworthiness_min': 0.8589551362683439, 'trustworthiness_max': 0.8672466806429071, 'silhouette_mean': 0.8809139, 'silhouette_min': 0.8332196, 'silhouette_max': 0.9202459}}, 'dropout_0.4': {'euclidean': {'trustworthiness': [0.9658076869322152, 0.9625710691823899, 0.9636830188679245, 0.9640505939902166, 0.966882180293501, 0.9627765199161425, 0.9632545073375263, 0.9643071977638016, 0.9636223619846261, 0.9635197763801537], 'silhouette': [0.5417364, 0.45200384, 0.485602, 0.3959919, 0.49552056, 0.49913996, 0.48830622, 0.48326012, 0.42839786, 0.46180865], 'trustworthiness_mean': 0.9640474912648497, 'trustworthiness_min': 0.9625710691823899, 'trustworthiness_max': 0.966882180293501, 'silhouette_mean': 0.47317672, 'silhouette_min': 0.3959919, 'silhouette_max': 0.5417364}, 'manhattan': {'trustworthiness': [0.9563932914046122, 0.9567239692522711, 0.9572975541579315, 0.9560134171907757, 0.9547865828092243, 0.9562238993710692, 0.9572662473794549, 0.9553473095737247, 0.9575136268343816, 0.9524], 'silhouette': [0.48693675, 0.6540779, 0.5836761, 0.4863495, 0.5057375, 0.6592319, 0.5411201, 0.58237475, 0.6376771, 0.60612637], 'trustworthiness_mean': 0.9559965897973447, 'trustworthiness_min': 0.9524, 'trustworthiness_max': 0.9575136268343816, 'silhouette_mean': 0.57433075, 'silhouette_min': 0.4863495, 'silhouette_max': 0.6592319}, 'minkowski_0.5': {'trustworthiness': [0.8594339622641509, 0.8504900069881203, 0.8576153738644305, 0.8506166317260657, 0.8598398322851153, 0.8550803633822501, 0.8480366177498253, 0.8455494060097833, 0.8572067085953878, 0.8528763102725367], 'silhouette': [0.8873856, 0.87656367, 0.82862294, 0.87702835, 0.8834593, 0.88242525, 0.8970587, 0.87941486, 0.8557668, 0.80264467], 'trustworthiness_mean': 0.8536745213137668, 'trustworthiness_min': 0.8455494060097833, 'trustworthiness_max': 0.8598398322851153, 'silhouette_mean': 0.867037, 'silhouette_min': 0.80264467, 'silhouette_max': 0.8970587}}, 'dropout_0.5': {'euclidean': {'trustworthiness': [0.9634881900768694, 0.9625224318658281, 0.9627200559049616, 0.9622666666666667, 0.9625336128581412, 0.9625945492662473, 0.9620055904961565, 0.9633372466806429, 0.9619024458420685, 0.9618775681341719], 'silhouette': [0.34406775, 0.4808291, 0.40283623, 0.4075011, 0.47549307, 0.4928443, 0.45307, 0.44160718, 0.4724718, 0.43960086], 'trustworthiness_mean': 0.9625248357791755, 'trustworthiness_min': 0.9618775681341719, 'trustworthiness_max': 0.9634881900768694, 'silhouette_mean': 0.4410321, 'silhouette_min': 0.34406775, 'silhouette_max': 0.4928443}, 'manhattan': {'trustworthiness': [0.9491253668763103, 0.9516184486373166, 0.9511180992313067, 0.9525327742837176, 0.9527631027253669, 0.9522006988120195, 0.9523099930118798, 0.9502602375960867, 0.9527348707197764, 0.9505942697414396], 'silhouette': [0.5117998, 0.5775826, 0.6124206, 0.53713053, 0.6136163, 0.5947338, 0.66724974, 0.57382596, 0.60816604, 0.6189691], 'trustworthiness_mean': 0.951525786163522, 'trustworthiness_min': 0.9491253668763103, 'trustworthiness_max': 0.9527631027253669, 'silhouette_mean': 0.59154946, 'silhouette_min': 0.5117998, 'silhouette_max': 0.66724974}, 'minkowski_0.5': {'trustworthiness': [0.8595963661774982, 0.8567686932215234, 0.8533389238294898, 0.8573369671558351, 0.8551004891684137, 0.8593900768693221, 0.8503228511530398, 0.8612480782669463, 0.8514803633822502, 0.8529883997204752], 'silhouette': [0.7740793, 0.82179654, 0.7520255, 0.7906216, 0.7857468, 0.76902854, 0.79342264, 0.7841279, 0.7742848, 0.7855529], 'trustworthiness_mean': 0.8557571208944793, 'trustworthiness_min': 0.8503228511530398, 'trustworthiness_max': 0.8612480782669463, 'silhouette_mean': 0.7830687, 'silhouette_min': 0.7520255, 'silhouette_max': 0.82179654}}, 'dropout_0.6': {'euclidean': {'trustworthiness': [0.9655695317959468, 0.9651572327044026, 0.9677324947589099, 0.9633716282320056, 0.96601928721174, 0.9646202655485674, 0.9658283717679944, 0.964230607966457, 0.9658127183787562, 0.9660595387840671], 'silhouette': [0.41404366, 0.41028666, 0.49036428, 0.40631914, 0.4240915, 0.47876045, 0.4564138, 0.4782854, 0.48247668, 0.32804823], 'trustworthiness_mean': 0.9654401677148847, 'trustworthiness_min': 0.9633716282320056, 'trustworthiness_max': 0.9677324947589099, 'silhouette_mean': 0.43690896, 'silhouette_min': 0.32804823, 'silhouette_max': 0.49036428}, 'manhattan': {'trustworthiness': [0.9498272536687631, 0.9490926624737945, 0.9496972746331237, 0.9515217330538085, 0.9492634521313766, 0.9506524109014675, 0.9509509433962264, 0.9502580013976241, 0.9527527603074772, 0.9485414395527603], 'silhouette': [0.5196983, 0.5615289, 0.5513432, 0.5945996, 0.58136576, 0.5168237, 0.5398079, 0.5599977, 0.46252272, 0.5525381], 'trustworthiness_mean': 0.9502557931516422, 'trustworthiness_min': 0.9485414395527603, 'trustworthiness_max': 0.9527527603074772, 'silhouette_mean': 0.54402256, 'silhouette_min': 0.46252272, 'silhouette_max': 0.5945996}, 'minkowski_0.5': {'trustworthiness': [0.8634412299091545, 0.8666325646401118, 0.871361285814116, 0.8698194269741439, 0.8634557651991615, 0.8733939902166317, 0.8700723969252271, 0.8778716981132075, 0.8654501747030049, 0.8703281621243886], 'silhouette': [0.6182987, 0.6078844, 0.60580045, 0.621944, 0.6207796, 0.618795, 0.6376797, 0.60845214, 0.61615276, 0.6625256], 'trustworthiness_mean': 0.8691826694619149, 'trustworthiness_min': 0.8634412299091545, 'trustworthiness_max': 0.8778716981132075, 'silhouette_mean': 0.62183124, 'silhouette_min': 0.60580045, 'silhouette_max': 0.6625256}}, 'dropout_0.7': {'euclidean': {'trustworthiness': [0.9652380153738644, 0.9647334730957372, 0.9650577218728162, 0.9663287211740041, 0.9623267645003494, 0.9651357092941999, 0.9647815513626834, 0.9658023759608665, 0.9642638714185884, 0.9637719077568134], 'silhouette': [0.34316808, 0.2637194, 0.40109578, 0.31514776, 0.35753796, 0.37043834, 0.39039752, 0.39302087, 0.3744498, 0.40684032], 'trustworthiness_mean': 0.9647440111809923, 'trustworthiness_min': 0.9623267645003494, 'trustworthiness_max': 0.9663287211740041, 'silhouette_mean': 0.36158156, 'silhouette_min': 0.2637194, 'silhouette_max': 0.40684032}, 'manhattan': {'trustworthiness': [0.9534641509433962, 0.9551158630328441, 0.9556634521313767, 0.9545137665967854, 0.9517358490566038, 0.9541310971348708, 0.9549925925925926, 0.951548287910552, 0.9547066387141859, 0.9530451432564641], 'silhouette': [0.32975718, 0.43858948, 0.27692088, 0.3392613, 0.4337868, 0.47266227, 0.2922396, 0.40347797, 0.48878655, 0.29932696], 'trustworthiness_mean': 0.9538916841369671, 'trustworthiness_min': 0.951548287910552, 'trustworthiness_max': 0.9556634521313767, 'silhouette_mean': 0.3774809, 'silhouette_min': 0.27692088, 'silhouette_max': 0.48878655}, 'minkowski_0.5': {'trustworthiness': [0.8933269042627533, 0.8839477288609364, 0.8968285115303983, 0.8968696016771489, 0.8869263452131377, 0.8987122292103424, 0.8903359888190077, 0.8922127183787562, 0.8949478686233403, 0.8932352201257862], 'silhouette': [0.53156257, 0.555414, 0.53881407, 0.5416683, 0.5463605, 0.53484166, 0.53200495, 0.5382608, 0.55867064, 0.55270696], 'trustworthiness_mean': 0.8927343116701607, 'trustworthiness_min': 0.8839477288609364, 'trustworthiness_max': 0.8987122292103424, 'silhouette_mean': 0.54303044, 'silhouette_min': 0.53156257, 'silhouette_max': 0.55867064}}, 'dropout_0.8': {'euclidean': {'trustworthiness': [0.9686074074074074, 0.9710697414395527, 0.970617749825297, 0.9683583508036339, 0.9700100628930818, 0.9683896575821104, 0.9696707197763802, 0.9700159329140461, 0.9668690426275331, 0.9699776380153738], 'silhouette': [0.35662612, 0.42361048, 0.3893114, 0.36318502, 0.2831306, 0.4247555, 0.41925967, 0.44003683, 0.38285118, 0.4419108], 'trustworthiness_mean': 0.9693586303284416, 'trustworthiness_min': 0.9668690426275331, 'trustworthiness_max': 0.9710697414395527, 'silhouette_mean': 0.39246774, 'silhouette_min': 0.2831306, 'silhouette_max': 0.4419108}, 'manhattan': {'trustworthiness': [0.955106359189378, 0.9560777078965759, 0.9568450034940601, 0.9568438853948288, 0.9554325646401118, 0.956540321453529, 0.9543734451432565, 0.958450034940601, 0.9567575122292103, 0.9566146750524109], 'silhouette': [0.48099908, 0.50102985, 0.32056865, 0.48765644, 0.4100437, 0.46980155, 0.35428762, 0.45085204, 0.4900127, 0.43904674], 'trustworthiness_mean': 0.9563041509433962, 'trustworthiness_min': 0.9543734451432565, 'trustworthiness_max': 0.958450034940601, 'silhouette_mean': 0.44042984, 'silhouette_min': 0.32056865, 'silhouette_max': 0.50102985}, 'minkowski_0.5': {'trustworthiness': [0.904738784067086, 0.9031801537386444, 0.8991477288609364, 0.9017179594689029, 0.9069073375262054, 0.901474213836478, 0.9009146051712089, 0.9057285814116003, 0.9031776380153739, 0.9023524807826695], 'silhouette': [0.52858627, 0.52905434, 0.5309205, 0.53854126, 0.5286063, 0.53712577, 0.52802074, 0.52748775, 0.5210461, 0.5221211], 'trustworthiness_mean': 0.9029339482879104, 'trustworthiness_min': 0.8991477288609364, 'trustworthiness_max': 0.9069073375262054, 'silhouette_mean': 0.529151, 'silhouette_min': 0.5210461, 'silhouette_max': 0.53854126}}, 'dropout_0.9': {'euclidean': {'trustworthiness': [0.9671519217330538, 0.9665456324248777, 0.9665562543675751, 0.9682976939203354, 0.9668497554157931, 0.9682543675751223, 0.9667284416491964, 0.9664139762403914, 0.9681956673654787, 0.9647544374563243], 'silhouette': [0.23316388, 0.34896055, 0.35565343, 0.4184959, 0.40953425, 0.32022187, 0.28638154, 0.35867065, 0.4452031, 0.38908887], 'trustworthiness_mean': 0.9669748148148148, 'trustworthiness_min': 0.9647544374563243, 'trustworthiness_max': 0.9682976939203354, 'silhouette_mean': 0.3565374, 'silhouette_min': 0.23316388, 'silhouette_max': 0.4452031}, 'manhattan': {'trustworthiness': [0.9616190076869322, 0.961753179594689, 0.9591577917540182, 0.9624058700209643, 0.9619270440251573, 0.9622985324947589, 0.9621976240391334, 0.9609811320754718, 0.9625436757512229, 0.9629819706498952], 'silhouette': [0.38600877, 0.40493333, 0.45912564, 0.40152648, 0.42561218, 0.42376208, 0.4254951, 0.43460333, 0.43261263, 0.43582532], 'trustworthiness_mean': 0.9617865828092244, 'trustworthiness_min': 0.9591577917540182, 'trustworthiness_max': 0.9629819706498952, 'silhouette_mean': 0.42295045, 'silhouette_min': 0.38600877, 'silhouette_max': 0.45912564}, 'minkowski_0.5': {'trustworthiness': [0.9246672257162823, 0.9185651991614255, 0.9209998602375961, 0.9157277428371768, 0.9210163522012579, 0.9220997903563941, 0.9246417889587701, 0.9234602375960866, 0.9209643605870022, 0.9213498252969952], 'silhouette': [0.46664494, 0.45326668, 0.45820966, 0.48021424, 0.4633853, 0.467506, 0.46256965, 0.45395356, 0.4626264, 0.46554998], 'trustworthiness_mean': 0.9213492382948987, 'trustworthiness_min': 0.9157277428371768, 'trustworthiness_max': 0.9246672257162823, 'silhouette_mean': 0.46339265, 'silhouette_min': 0.45326668, 'silhouette_max': 0.48021424}}}\n"
     ]
    }
   ],
   "source": [
    "print(all_results)"
   ]
  },
  {
   "cell_type": "code",
   "execution_count": 9,
   "id": "9aa12c4d",
   "metadata": {},
   "outputs": [
    {
     "name": "stdout",
     "output_type": "stream",
     "text": [
      "Saved all_results to all_results.pkl\n"
     ]
    }
   ],
   "source": [
    "import pickle\n",
    "# Save the all_results dictionary to a file\n",
    "with open(\"all_results_S500_O.pkl\", \"wb\") as f:\n",
    "    pickle.dump(all_results, f)\n",
    "\n",
    "print(\"Saved all_results to all_results.pkl\")"
   ]
  },
  {
   "cell_type": "code",
   "execution_count": 6,
   "id": "58cbddd7",
   "metadata": {},
   "outputs": [
    {
     "data": {
      "image/png": "[encoded data removed]",
      "text/plain": [
       "<Figure size 1200x600 with 1 Axes>"
      ]
     },
     "metadata": {},
     "output_type": "display_data"
    },
    {
     "data": {
      "image/png": "[encoded data removed]",
      "text/plain": [
       "<Figure size 1200x600 with 1 Axes>"
      ]
     },
     "metadata": {},
     "output_type": "display_data"
    }
   ],
   "source": [
    "# Re-import necessary modules after code state reset\n",
    "import numpy as np\n",
    "import matplotlib.pyplot as plt\n",
    "\n",
    "# Simulated redefinition of all_results since the kernel was reset\n",
    "# This is a placeholder; in actual use, all_results should be reloaded from user context or files\n",
    "\n",
    "# --- Dummy placeholder (for execution) ---\n",
    "# In real use, this should be replaced with the actual `all_results` from earlier\n",
    "#all_results = {}  # <--- Replace this with actual data if needed\n",
    "# -----------------------------------------\n",
    "\n",
    "# Assuming the original user `all_results` is present:\n",
    "dropout_levels = [round(i, 1) for i in np.arange(0.1, 1.0, 0.1)]\n",
    "metrics_names = {\n",
    "    'euclidean': 'Euclidean',\n",
    "    'manhattan': 'Manhattan',\n",
    "    'minkowski_0.5': 'Minkowski (p=0.5)'\n",
    "}\n",
    "colors = {\n",
    "    'euclidean': 'green',\n",
    "    'manhattan': 'red',\n",
    "    'minkowski_0.5': 'blue'\n",
    "}\n",
    "\n",
    "# Try to generate the plots\n",
    "if all_results:\n",
    "    # Trustworthiness Plot\n",
    "    plt.figure(figsize=(12, 6))\n",
    "    for metric in metrics_names:\n",
    "        trust_means = []\n",
    "        trust_mins = []\n",
    "        trust_maxs = []\n",
    "        for d in dropout_levels:\n",
    "            entry = all_results[f\"dropout_{d}\"][metric]\n",
    "            trust_means.append(entry['trustworthiness_mean'])\n",
    "            trust_mins.append(entry['trustworthiness_min'])\n",
    "            trust_maxs.append(entry['trustworthiness_max'])\n",
    "        trust_err_low = np.array(trust_means) - np.array(trust_mins)\n",
    "        trust_err_high = np.array(trust_maxs) - np.array(trust_means)\n",
    "        plt.errorbar(dropout_levels, trust_means, yerr=[trust_err_low, trust_err_high], label=metrics_names[metric], fmt='-o', capsize=5, color=colors[metric])\n",
    "    plt.title('Trustworthiness vs Dropout Level (S500 Complex)')\n",
    "    plt.xlabel('Dropout Level')\n",
    "    plt.ylabel('Trustworthiness')\n",
    "    plt.ylim(0.4, 1.0)\n",
    "    plt.legend()\n",
    "    plt.grid(True)\n",
    "    plt.tight_layout()\n",
    "    plt.show()\n",
    "\n",
    "    # Silhouette Plot\n",
    "    plt.figure(figsize=(12, 6))\n",
    "    for metric in metrics_names:\n",
    "        sil_means = []\n",
    "        sil_mins = []\n",
    "        sil_maxs = []\n",
    "        for d in dropout_levels:\n",
    "            entry = all_results[f\"dropout_{d}\"][metric]\n",
    "            sil_means.append(entry['silhouette_mean'])\n",
    "            sil_mins.append(entry['silhouette_min'])\n",
    "            sil_maxs.append(entry['silhouette_max'])\n",
    "        sil_err_low = np.array(sil_means) - np.array(sil_mins)\n",
    "        sil_err_high = np.array(sil_maxs) - np.array(sil_means)\n",
    "        plt.errorbar(dropout_levels, sil_means, yerr=[sil_err_low, sil_err_high], label=metrics_names[metric], fmt='-o', capsize=5, color=colors[metric])\n",
    "    plt.title('Silhouette Score vs Dropout Level (S500 Complex)')\n",
    "    plt.xlabel('Dropout Level')\n",
    "    plt.ylabel('Silhouette Score')\n",
    "    plt.ylim(-0.25, 1.0)\n",
    "    plt.legend()\n",
    "    plt.grid(True)\n",
    "    plt.tight_layout()\n",
    "    plt.show()\n",
    "else:\n",
    "    print(\"`all_results` not found. Please re-run the metric calculations or reload the saved data.\")\n"
   ]
  }
 ],
 "metadata": {
  "kernelspec": {
   "display_name": "Python 3",
   "language": "python",
   "name": "python3"
  },
  "language_info": {
   "codemirror_mode": {
    "name": "ipython",
    "version": 3
   },
   "file_extension": ".py",
   "mimetype": "text/x-python",
   "name": "python",
   "nbconvert_exporter": "python",
   "pygments_lexer": "ipython3",
   "version": "3.11.5"
  }
 },
 "nbformat": 4,
 "nbformat_minor": 5
}
