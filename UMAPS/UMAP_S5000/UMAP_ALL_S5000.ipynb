{
 "cells": [
  {
   "cell_type": "code",
   "execution_count": 2,
   "id": "ca424e1d",
   "metadata": {},
   "outputs": [
    {
     "name": "stdout",
     "output_type": "stream",
     "text": [
      "\n",
      "=== Dropout Level: 0.1 ===\n",
      "Metric: euclidean, Run: 1/10\n",
      "Metric: euclidean, Run: 2/10\n",
      "Metric: euclidean, Run: 3/10\n",
      "Metric: euclidean, Run: 4/10\n",
      "Metric: euclidean, Run: 5/10\n",
      "Metric: euclidean, Run: 6/10\n",
      "Metric: euclidean, Run: 7/10\n",
      "Metric: euclidean, Run: 8/10\n",
      "Metric: euclidean, Run: 9/10\n",
      "Metric: euclidean, Run: 10/10\n",
      "Metric: manhattan, Run: 1/10\n",
      "Metric: manhattan, Run: 2/10\n",
      "Metric: manhattan, Run: 3/10\n",
      "Metric: manhattan, Run: 4/10\n",
      "Metric: manhattan, Run: 5/10\n",
      "Metric: manhattan, Run: 6/10\n",
      "Metric: manhattan, Run: 7/10\n",
      "Metric: manhattan, Run: 8/10\n",
      "Metric: manhattan, Run: 9/10\n",
      "Metric: manhattan, Run: 10/10\n",
      "Metric: minkowski_0.5, Run: 1/10\n"
     ]
    },
    {
     "name": "stderr",
     "output_type": "stream",
     "text": [
      "c:\\Users\\sofus\\AppData\\Local\\Programs\\Python\\Python311\\Lib\\site-packages\\sklearn\\neighbors\\_graph.py:434: SyntaxWarning: Parameter p is found in metric_params. The corresponding parameter from __init__ is ignored.\n",
      "  self._fit(X)\n",
      "c:\\Users\\sofus\\AppData\\Local\\Programs\\Python\\Python311\\Lib\\site-packages\\sklearn\\neighbors\\_base.py:653: UserWarning: Mind that for 0 < p < 1, Minkowski metrics are not distance metrics. Continuing the execution with `algorithm='brute'`.\n",
      "  warnings.warn(\n"
     ]
    },
    {
     "name": "stdout",
     "output_type": "stream",
     "text": [
      "Metric: minkowski_0.5, Run: 2/10\n"
     ]
    },
    {
     "name": "stderr",
     "output_type": "stream",
     "text": [
      "c:\\Users\\sofus\\AppData\\Local\\Programs\\Python\\Python311\\Lib\\site-packages\\sklearn\\neighbors\\_graph.py:434: SyntaxWarning: Parameter p is found in metric_params. The corresponding parameter from __init__ is ignored.\n",
      "  self._fit(X)\n",
      "c:\\Users\\sofus\\AppData\\Local\\Programs\\Python\\Python311\\Lib\\site-packages\\sklearn\\neighbors\\_base.py:653: UserWarning: Mind that for 0 < p < 1, Minkowski metrics are not distance metrics. Continuing the execution with `algorithm='brute'`.\n",
      "  warnings.warn(\n"
     ]
    },
    {
     "name": "stdout",
     "output_type": "stream",
     "text": [
      "Metric: minkowski_0.5, Run: 3/10\n"
     ]
    },
    {
     "name": "stderr",
     "output_type": "stream",
     "text": [
      "c:\\Users\\sofus\\AppData\\Local\\Programs\\Python\\Python311\\Lib\\site-packages\\sklearn\\neighbors\\_graph.py:434: SyntaxWarning: Parameter p is found in metric_params. The corresponding parameter from __init__ is ignored.\n",
      "  self._fit(X)\n",
      "c:\\Users\\sofus\\AppData\\Local\\Programs\\Python\\Python311\\Lib\\site-packages\\sklearn\\neighbors\\_base.py:653: UserWarning: Mind that for 0 < p < 1, Minkowski metrics are not distance metrics. Continuing the execution with `algorithm='brute'`.\n",
      "  warnings.warn(\n"
     ]
    },
    {
     "name": "stdout",
     "output_type": "stream",
     "text": [
      "Metric: minkowski_0.5, Run: 4/10\n"
     ]
    },
    {
     "name": "stderr",
     "output_type": "stream",
     "text": [
      "c:\\Users\\sofus\\AppData\\Local\\Programs\\Python\\Python311\\Lib\\site-packages\\sklearn\\neighbors\\_graph.py:434: SyntaxWarning: Parameter p is found in metric_params. The corresponding parameter from __init__ is ignored.\n",
      "  self._fit(X)\n",
      "c:\\Users\\sofus\\AppData\\Local\\Programs\\Python\\Python311\\Lib\\site-packages\\sklearn\\neighbors\\_base.py:653: UserWarning: Mind that for 0 < p < 1, Minkowski metrics are not distance metrics. Continuing the execution with `algorithm='brute'`.\n",
      "  warnings.warn(\n"
     ]
    },
    {
     "name": "stdout",
     "output_type": "stream",
     "text": [
      "Metric: minkowski_0.5, Run: 5/10\n"
     ]
    },
    {
     "name": "stderr",
     "output_type": "stream",
     "text": [
      "c:\\Users\\sofus\\AppData\\Local\\Programs\\Python\\Python311\\Lib\\site-packages\\sklearn\\neighbors\\_graph.py:434: SyntaxWarning: Parameter p is found in metric_params. The corresponding parameter from __init__ is ignored.\n",
      "  self._fit(X)\n",
      "c:\\Users\\sofus\\AppData\\Local\\Programs\\Python\\Python311\\Lib\\site-packages\\sklearn\\neighbors\\_base.py:653: UserWarning: Mind that for 0 < p < 1, Minkowski metrics are not distance metrics. Continuing the execution with `algorithm='brute'`.\n",
      "  warnings.warn(\n"
     ]
    },
    {
     "name": "stdout",
     "output_type": "stream",
     "text": [
      "Metric: minkowski_0.5, Run: 6/10\n"
     ]
    },
    {
     "name": "stderr",
     "output_type": "stream",
     "text": [
      "c:\\Users\\sofus\\AppData\\Local\\Programs\\Python\\Python311\\Lib\\site-packages\\sklearn\\neighbors\\_graph.py:434: SyntaxWarning: Parameter p is found in metric_params. The corresponding parameter from __init__ is ignored.\n",
      "  self._fit(X)\n",
      "c:\\Users\\sofus\\AppData\\Local\\Programs\\Python\\Python311\\Lib\\site-packages\\sklearn\\neighbors\\_base.py:653: UserWarning: Mind that for 0 < p < 1, Minkowski metrics are not distance metrics. Continuing the execution with `algorithm='brute'`.\n",
      "  warnings.warn(\n"
     ]
    },
    {
     "name": "stdout",
     "output_type": "stream",
     "text": [
      "Metric: minkowski_0.5, Run: 7/10\n"
     ]
    },
    {
     "name": "stderr",
     "output_type": "stream",
     "text": [
      "c:\\Users\\sofus\\AppData\\Local\\Programs\\Python\\Python311\\Lib\\site-packages\\sklearn\\neighbors\\_graph.py:434: SyntaxWarning: Parameter p is found in metric_params. The corresponding parameter from __init__ is ignored.\n",
      "  self._fit(X)\n",
      "c:\\Users\\sofus\\AppData\\Local\\Programs\\Python\\Python311\\Lib\\site-packages\\sklearn\\neighbors\\_base.py:653: UserWarning: Mind that for 0 < p < 1, Minkowski metrics are not distance metrics. Continuing the execution with `algorithm='brute'`.\n",
      "  warnings.warn(\n"
     ]
    },
    {
     "name": "stdout",
     "output_type": "stream",
     "text": [
      "Metric: minkowski_0.5, Run: 8/10\n"
     ]
    },
    {
     "name": "stderr",
     "output_type": "stream",
     "text": [
      "c:\\Users\\sofus\\AppData\\Local\\Programs\\Python\\Python311\\Lib\\site-packages\\sklearn\\neighbors\\_graph.py:434: SyntaxWarning: Parameter p is found in metric_params. The corresponding parameter from __init__ is ignored.\n",
      "  self._fit(X)\n",
      "c:\\Users\\sofus\\AppData\\Local\\Programs\\Python\\Python311\\Lib\\site-packages\\sklearn\\neighbors\\_base.py:653: UserWarning: Mind that for 0 < p < 1, Minkowski metrics are not distance metrics. Continuing the execution with `algorithm='brute'`.\n",
      "  warnings.warn(\n"
     ]
    },
    {
     "name": "stdout",
     "output_type": "stream",
     "text": [
      "Metric: minkowski_0.5, Run: 9/10\n"
     ]
    },
    {
     "name": "stderr",
     "output_type": "stream",
     "text": [
      "c:\\Users\\sofus\\AppData\\Local\\Programs\\Python\\Python311\\Lib\\site-packages\\sklearn\\neighbors\\_graph.py:434: SyntaxWarning: Parameter p is found in metric_params. The corresponding parameter from __init__ is ignored.\n",
      "  self._fit(X)\n",
      "c:\\Users\\sofus\\AppData\\Local\\Programs\\Python\\Python311\\Lib\\site-packages\\sklearn\\neighbors\\_base.py:653: UserWarning: Mind that for 0 < p < 1, Minkowski metrics are not distance metrics. Continuing the execution with `algorithm='brute'`.\n",
      "  warnings.warn(\n"
     ]
    },
    {
     "name": "stdout",
     "output_type": "stream",
     "text": [
      "Metric: minkowski_0.5, Run: 10/10\n"
     ]
    },
    {
     "name": "stderr",
     "output_type": "stream",
     "text": [
      "c:\\Users\\sofus\\AppData\\Local\\Programs\\Python\\Python311\\Lib\\site-packages\\sklearn\\neighbors\\_graph.py:434: SyntaxWarning: Parameter p is found in metric_params. The corresponding parameter from __init__ is ignored.\n",
      "  self._fit(X)\n",
      "c:\\Users\\sofus\\AppData\\Local\\Programs\\Python\\Python311\\Lib\\site-packages\\sklearn\\neighbors\\_base.py:653: UserWarning: Mind that for 0 < p < 1, Minkowski metrics are not distance metrics. Continuing the execution with `algorithm='brute'`.\n",
      "  warnings.warn(\n"
     ]
    },
    {
     "name": "stdout",
     "output_type": "stream",
     "text": [
      "\n",
      "=== Dropout Level: 0.2 ===\n",
      "Metric: euclidean, Run: 1/10\n",
      "Metric: euclidean, Run: 2/10\n",
      "Metric: euclidean, Run: 3/10\n",
      "Metric: euclidean, Run: 4/10\n",
      "Metric: euclidean, Run: 5/10\n",
      "Metric: euclidean, Run: 6/10\n",
      "Metric: euclidean, Run: 7/10\n",
      "Metric: euclidean, Run: 8/10\n",
      "Metric: euclidean, Run: 9/10\n",
      "Metric: euclidean, Run: 10/10\n",
      "Metric: manhattan, Run: 1/10\n",
      "Metric: manhattan, Run: 2/10\n",
      "Metric: manhattan, Run: 3/10\n",
      "Metric: manhattan, Run: 4/10\n",
      "Metric: manhattan, Run: 5/10\n",
      "Metric: manhattan, Run: 6/10\n",
      "Metric: manhattan, Run: 7/10\n",
      "Metric: manhattan, Run: 8/10\n",
      "Metric: manhattan, Run: 9/10\n",
      "Metric: manhattan, Run: 10/10\n",
      "Metric: minkowski_0.5, Run: 1/10\n"
     ]
    },
    {
     "name": "stderr",
     "output_type": "stream",
     "text": [
      "c:\\Users\\sofus\\AppData\\Local\\Programs\\Python\\Python311\\Lib\\site-packages\\sklearn\\neighbors\\_graph.py:434: SyntaxWarning: Parameter p is found in metric_params. The corresponding parameter from __init__ is ignored.\n",
      "  self._fit(X)\n",
      "c:\\Users\\sofus\\AppData\\Local\\Programs\\Python\\Python311\\Lib\\site-packages\\sklearn\\neighbors\\_base.py:653: UserWarning: Mind that for 0 < p < 1, Minkowski metrics are not distance metrics. Continuing the execution with `algorithm='brute'`.\n",
      "  warnings.warn(\n"
     ]
    },
    {
     "name": "stdout",
     "output_type": "stream",
     "text": [
      "Metric: minkowski_0.5, Run: 2/10\n"
     ]
    },
    {
     "name": "stderr",
     "output_type": "stream",
     "text": [
      "c:\\Users\\sofus\\AppData\\Local\\Programs\\Python\\Python311\\Lib\\site-packages\\sklearn\\neighbors\\_graph.py:434: SyntaxWarning: Parameter p is found in metric_params. The corresponding parameter from __init__ is ignored.\n",
      "  self._fit(X)\n",
      "c:\\Users\\sofus\\AppData\\Local\\Programs\\Python\\Python311\\Lib\\site-packages\\sklearn\\neighbors\\_base.py:653: UserWarning: Mind that for 0 < p < 1, Minkowski metrics are not distance metrics. Continuing the execution with `algorithm='brute'`.\n",
      "  warnings.warn(\n"
     ]
    },
    {
     "name": "stdout",
     "output_type": "stream",
     "text": [
      "Metric: minkowski_0.5, Run: 3/10\n"
     ]
    },
    {
     "name": "stderr",
     "output_type": "stream",
     "text": [
      "c:\\Users\\sofus\\AppData\\Local\\Programs\\Python\\Python311\\Lib\\site-packages\\sklearn\\neighbors\\_graph.py:434: SyntaxWarning: Parameter p is found in metric_params. The corresponding parameter from __init__ is ignored.\n",
      "  self._fit(X)\n",
      "c:\\Users\\sofus\\AppData\\Local\\Programs\\Python\\Python311\\Lib\\site-packages\\sklearn\\neighbors\\_base.py:653: UserWarning: Mind that for 0 < p < 1, Minkowski metrics are not distance metrics. Continuing the execution with `algorithm='brute'`.\n",
      "  warnings.warn(\n"
     ]
    },
    {
     "name": "stdout",
     "output_type": "stream",
     "text": [
      "Metric: minkowski_0.5, Run: 4/10\n"
     ]
    },
    {
     "name": "stderr",
     "output_type": "stream",
     "text": [
      "c:\\Users\\sofus\\AppData\\Local\\Programs\\Python\\Python311\\Lib\\site-packages\\sklearn\\neighbors\\_graph.py:434: SyntaxWarning: Parameter p is found in metric_params. The corresponding parameter from __init__ is ignored.\n",
      "  self._fit(X)\n",
      "c:\\Users\\sofus\\AppData\\Local\\Programs\\Python\\Python311\\Lib\\site-packages\\sklearn\\neighbors\\_base.py:653: UserWarning: Mind that for 0 < p < 1, Minkowski metrics are not distance metrics. Continuing the execution with `algorithm='brute'`.\n",
      "  warnings.warn(\n"
     ]
    },
    {
     "name": "stdout",
     "output_type": "stream",
     "text": [
      "Metric: minkowski_0.5, Run: 5/10\n"
     ]
    },
    {
     "name": "stderr",
     "output_type": "stream",
     "text": [
      "c:\\Users\\sofus\\AppData\\Local\\Programs\\Python\\Python311\\Lib\\site-packages\\sklearn\\neighbors\\_graph.py:434: SyntaxWarning: Parameter p is found in metric_params. The corresponding parameter from __init__ is ignored.\n",
      "  self._fit(X)\n",
      "c:\\Users\\sofus\\AppData\\Local\\Programs\\Python\\Python311\\Lib\\site-packages\\sklearn\\neighbors\\_base.py:653: UserWarning: Mind that for 0 < p < 1, Minkowski metrics are not distance metrics. Continuing the execution with `algorithm='brute'`.\n",
      "  warnings.warn(\n"
     ]
    },
    {
     "name": "stdout",
     "output_type": "stream",
     "text": [
      "Metric: minkowski_0.5, Run: 6/10\n"
     ]
    },
    {
     "name": "stderr",
     "output_type": "stream",
     "text": [
      "c:\\Users\\sofus\\AppData\\Local\\Programs\\Python\\Python311\\Lib\\site-packages\\sklearn\\neighbors\\_graph.py:434: SyntaxWarning: Parameter p is found in metric_params. The corresponding parameter from __init__ is ignored.\n",
      "  self._fit(X)\n",
      "c:\\Users\\sofus\\AppData\\Local\\Programs\\Python\\Python311\\Lib\\site-packages\\sklearn\\neighbors\\_base.py:653: UserWarning: Mind that for 0 < p < 1, Minkowski metrics are not distance metrics. Continuing the execution with `algorithm='brute'`.\n",
      "  warnings.warn(\n"
     ]
    },
    {
     "name": "stdout",
     "output_type": "stream",
     "text": [
      "Metric: minkowski_0.5, Run: 7/10\n"
     ]
    },
    {
     "name": "stderr",
     "output_type": "stream",
     "text": [
      "c:\\Users\\sofus\\AppData\\Local\\Programs\\Python\\Python311\\Lib\\site-packages\\sklearn\\neighbors\\_graph.py:434: SyntaxWarning: Parameter p is found in metric_params. The corresponding parameter from __init__ is ignored.\n",
      "  self._fit(X)\n",
      "c:\\Users\\sofus\\AppData\\Local\\Programs\\Python\\Python311\\Lib\\site-packages\\sklearn\\neighbors\\_base.py:653: UserWarning: Mind that for 0 < p < 1, Minkowski metrics are not distance metrics. Continuing the execution with `algorithm='brute'`.\n",
      "  warnings.warn(\n"
     ]
    },
    {
     "name": "stdout",
     "output_type": "stream",
     "text": [
      "Metric: minkowski_0.5, Run: 8/10\n"
     ]
    },
    {
     "name": "stderr",
     "output_type": "stream",
     "text": [
      "c:\\Users\\sofus\\AppData\\Local\\Programs\\Python\\Python311\\Lib\\site-packages\\sklearn\\neighbors\\_graph.py:434: SyntaxWarning: Parameter p is found in metric_params. The corresponding parameter from __init__ is ignored.\n",
      "  self._fit(X)\n",
      "c:\\Users\\sofus\\AppData\\Local\\Programs\\Python\\Python311\\Lib\\site-packages\\sklearn\\neighbors\\_base.py:653: UserWarning: Mind that for 0 < p < 1, Minkowski metrics are not distance metrics. Continuing the execution with `algorithm='brute'`.\n",
      "  warnings.warn(\n"
     ]
    },
    {
     "name": "stdout",
     "output_type": "stream",
     "text": [
      "Metric: minkowski_0.5, Run: 9/10\n"
     ]
    },
    {
     "name": "stderr",
     "output_type": "stream",
     "text": [
      "c:\\Users\\sofus\\AppData\\Local\\Programs\\Python\\Python311\\Lib\\site-packages\\sklearn\\neighbors\\_graph.py:434: SyntaxWarning: Parameter p is found in metric_params. The corresponding parameter from __init__ is ignored.\n",
      "  self._fit(X)\n",
      "c:\\Users\\sofus\\AppData\\Local\\Programs\\Python\\Python311\\Lib\\site-packages\\sklearn\\neighbors\\_base.py:653: UserWarning: Mind that for 0 < p < 1, Minkowski metrics are not distance metrics. Continuing the execution with `algorithm='brute'`.\n",
      "  warnings.warn(\n"
     ]
    },
    {
     "name": "stdout",
     "output_type": "stream",
     "text": [
      "Metric: minkowski_0.5, Run: 10/10\n"
     ]
    },
    {
     "name": "stderr",
     "output_type": "stream",
     "text": [
      "c:\\Users\\sofus\\AppData\\Local\\Programs\\Python\\Python311\\Lib\\site-packages\\sklearn\\neighbors\\_graph.py:434: SyntaxWarning: Parameter p is found in metric_params. The corresponding parameter from __init__ is ignored.\n",
      "  self._fit(X)\n",
      "c:\\Users\\sofus\\AppData\\Local\\Programs\\Python\\Python311\\Lib\\site-packages\\sklearn\\neighbors\\_base.py:653: UserWarning: Mind that for 0 < p < 1, Minkowski metrics are not distance metrics. Continuing the execution with `algorithm='brute'`.\n",
      "  warnings.warn(\n"
     ]
    },
    {
     "name": "stdout",
     "output_type": "stream",
     "text": [
      "\n",
      "=== Dropout Level: 0.3 ===\n",
      "Metric: euclidean, Run: 1/10\n",
      "Metric: euclidean, Run: 2/10\n",
      "Metric: euclidean, Run: 3/10\n",
      "Metric: euclidean, Run: 4/10\n",
      "Metric: euclidean, Run: 5/10\n",
      "Metric: euclidean, Run: 6/10\n",
      "Metric: euclidean, Run: 7/10\n",
      "Metric: euclidean, Run: 8/10\n",
      "Metric: euclidean, Run: 9/10\n",
      "Metric: euclidean, Run: 10/10\n",
      "Metric: manhattan, Run: 1/10\n",
      "Metric: manhattan, Run: 2/10\n",
      "Metric: manhattan, Run: 3/10\n",
      "Metric: manhattan, Run: 4/10\n",
      "Metric: manhattan, Run: 5/10\n",
      "Metric: manhattan, Run: 6/10\n",
      "Metric: manhattan, Run: 7/10\n",
      "Metric: manhattan, Run: 8/10\n",
      "Metric: manhattan, Run: 9/10\n",
      "Metric: manhattan, Run: 10/10\n",
      "Metric: minkowski_0.5, Run: 1/10\n"
     ]
    },
    {
     "name": "stderr",
     "output_type": "stream",
     "text": [
      "c:\\Users\\sofus\\AppData\\Local\\Programs\\Python\\Python311\\Lib\\site-packages\\sklearn\\neighbors\\_graph.py:434: SyntaxWarning: Parameter p is found in metric_params. The corresponding parameter from __init__ is ignored.\n",
      "  self._fit(X)\n",
      "c:\\Users\\sofus\\AppData\\Local\\Programs\\Python\\Python311\\Lib\\site-packages\\sklearn\\neighbors\\_base.py:653: UserWarning: Mind that for 0 < p < 1, Minkowski metrics are not distance metrics. Continuing the execution with `algorithm='brute'`.\n",
      "  warnings.warn(\n"
     ]
    },
    {
     "name": "stdout",
     "output_type": "stream",
     "text": [
      "Metric: minkowski_0.5, Run: 2/10\n"
     ]
    },
    {
     "name": "stderr",
     "output_type": "stream",
     "text": [
      "c:\\Users\\sofus\\AppData\\Local\\Programs\\Python\\Python311\\Lib\\site-packages\\sklearn\\neighbors\\_graph.py:434: SyntaxWarning: Parameter p is found in metric_params. The corresponding parameter from __init__ is ignored.\n",
      "  self._fit(X)\n",
      "c:\\Users\\sofus\\AppData\\Local\\Programs\\Python\\Python311\\Lib\\site-packages\\sklearn\\neighbors\\_base.py:653: UserWarning: Mind that for 0 < p < 1, Minkowski metrics are not distance metrics. Continuing the execution with `algorithm='brute'`.\n",
      "  warnings.warn(\n"
     ]
    },
    {
     "name": "stdout",
     "output_type": "stream",
     "text": [
      "Metric: minkowski_0.5, Run: 3/10\n"
     ]
    },
    {
     "name": "stderr",
     "output_type": "stream",
     "text": [
      "c:\\Users\\sofus\\AppData\\Local\\Programs\\Python\\Python311\\Lib\\site-packages\\sklearn\\neighbors\\_graph.py:434: SyntaxWarning: Parameter p is found in metric_params. The corresponding parameter from __init__ is ignored.\n",
      "  self._fit(X)\n",
      "c:\\Users\\sofus\\AppData\\Local\\Programs\\Python\\Python311\\Lib\\site-packages\\sklearn\\neighbors\\_base.py:653: UserWarning: Mind that for 0 < p < 1, Minkowski metrics are not distance metrics. Continuing the execution with `algorithm='brute'`.\n",
      "  warnings.warn(\n"
     ]
    },
    {
     "name": "stdout",
     "output_type": "stream",
     "text": [
      "Metric: minkowski_0.5, Run: 4/10\n"
     ]
    },
    {
     "name": "stderr",
     "output_type": "stream",
     "text": [
      "c:\\Users\\sofus\\AppData\\Local\\Programs\\Python\\Python311\\Lib\\site-packages\\sklearn\\neighbors\\_graph.py:434: SyntaxWarning: Parameter p is found in metric_params. The corresponding parameter from __init__ is ignored.\n",
      "  self._fit(X)\n",
      "c:\\Users\\sofus\\AppData\\Local\\Programs\\Python\\Python311\\Lib\\site-packages\\sklearn\\neighbors\\_base.py:653: UserWarning: Mind that for 0 < p < 1, Minkowski metrics are not distance metrics. Continuing the execution with `algorithm='brute'`.\n",
      "  warnings.warn(\n"
     ]
    },
    {
     "name": "stdout",
     "output_type": "stream",
     "text": [
      "Metric: minkowski_0.5, Run: 5/10\n"
     ]
    },
    {
     "name": "stderr",
     "output_type": "stream",
     "text": [
      "c:\\Users\\sofus\\AppData\\Local\\Programs\\Python\\Python311\\Lib\\site-packages\\sklearn\\neighbors\\_graph.py:434: SyntaxWarning: Parameter p is found in metric_params. The corresponding parameter from __init__ is ignored.\n",
      "  self._fit(X)\n",
      "c:\\Users\\sofus\\AppData\\Local\\Programs\\Python\\Python311\\Lib\\site-packages\\sklearn\\neighbors\\_base.py:653: UserWarning: Mind that for 0 < p < 1, Minkowski metrics are not distance metrics. Continuing the execution with `algorithm='brute'`.\n",
      "  warnings.warn(\n"
     ]
    },
    {
     "name": "stdout",
     "output_type": "stream",
     "text": [
      "Metric: minkowski_0.5, Run: 6/10\n"
     ]
    },
    {
     "name": "stderr",
     "output_type": "stream",
     "text": [
      "c:\\Users\\sofus\\AppData\\Local\\Programs\\Python\\Python311\\Lib\\site-packages\\sklearn\\neighbors\\_graph.py:434: SyntaxWarning: Parameter p is found in metric_params. The corresponding parameter from __init__ is ignored.\n",
      "  self._fit(X)\n",
      "c:\\Users\\sofus\\AppData\\Local\\Programs\\Python\\Python311\\Lib\\site-packages\\sklearn\\neighbors\\_base.py:653: UserWarning: Mind that for 0 < p < 1, Minkowski metrics are not distance metrics. Continuing the execution with `algorithm='brute'`.\n",
      "  warnings.warn(\n"
     ]
    },
    {
     "name": "stdout",
     "output_type": "stream",
     "text": [
      "Metric: minkowski_0.5, Run: 7/10\n"
     ]
    },
    {
     "name": "stderr",
     "output_type": "stream",
     "text": [
      "c:\\Users\\sofus\\AppData\\Local\\Programs\\Python\\Python311\\Lib\\site-packages\\sklearn\\neighbors\\_graph.py:434: SyntaxWarning: Parameter p is found in metric_params. The corresponding parameter from __init__ is ignored.\n",
      "  self._fit(X)\n",
      "c:\\Users\\sofus\\AppData\\Local\\Programs\\Python\\Python311\\Lib\\site-packages\\sklearn\\neighbors\\_base.py:653: UserWarning: Mind that for 0 < p < 1, Minkowski metrics are not distance metrics. Continuing the execution with `algorithm='brute'`.\n",
      "  warnings.warn(\n"
     ]
    },
    {
     "name": "stdout",
     "output_type": "stream",
     "text": [
      "Metric: minkowski_0.5, Run: 8/10\n"
     ]
    },
    {
     "name": "stderr",
     "output_type": "stream",
     "text": [
      "c:\\Users\\sofus\\AppData\\Local\\Programs\\Python\\Python311\\Lib\\site-packages\\sklearn\\neighbors\\_graph.py:434: SyntaxWarning: Parameter p is found in metric_params. The corresponding parameter from __init__ is ignored.\n",
      "  self._fit(X)\n",
      "c:\\Users\\sofus\\AppData\\Local\\Programs\\Python\\Python311\\Lib\\site-packages\\sklearn\\neighbors\\_base.py:653: UserWarning: Mind that for 0 < p < 1, Minkowski metrics are not distance metrics. Continuing the execution with `algorithm='brute'`.\n",
      "  warnings.warn(\n"
     ]
    },
    {
     "name": "stdout",
     "output_type": "stream",
     "text": [
      "Metric: minkowski_0.5, Run: 9/10\n"
     ]
    },
    {
     "name": "stderr",
     "output_type": "stream",
     "text": [
      "c:\\Users\\sofus\\AppData\\Local\\Programs\\Python\\Python311\\Lib\\site-packages\\sklearn\\neighbors\\_graph.py:434: SyntaxWarning: Parameter p is found in metric_params. The corresponding parameter from __init__ is ignored.\n",
      "  self._fit(X)\n",
      "c:\\Users\\sofus\\AppData\\Local\\Programs\\Python\\Python311\\Lib\\site-packages\\sklearn\\neighbors\\_base.py:653: UserWarning: Mind that for 0 < p < 1, Minkowski metrics are not distance metrics. Continuing the execution with `algorithm='brute'`.\n",
      "  warnings.warn(\n"
     ]
    },
    {
     "name": "stdout",
     "output_type": "stream",
     "text": [
      "Metric: minkowski_0.5, Run: 10/10\n"
     ]
    },
    {
     "name": "stderr",
     "output_type": "stream",
     "text": [
      "c:\\Users\\sofus\\AppData\\Local\\Programs\\Python\\Python311\\Lib\\site-packages\\sklearn\\neighbors\\_graph.py:434: SyntaxWarning: Parameter p is found in metric_params. The corresponding parameter from __init__ is ignored.\n",
      "  self._fit(X)\n",
      "c:\\Users\\sofus\\AppData\\Local\\Programs\\Python\\Python311\\Lib\\site-packages\\sklearn\\neighbors\\_base.py:653: UserWarning: Mind that for 0 < p < 1, Minkowski metrics are not distance metrics. Continuing the execution with `algorithm='brute'`.\n",
      "  warnings.warn(\n"
     ]
    },
    {
     "name": "stdout",
     "output_type": "stream",
     "text": [
      "\n",
      "=== Dropout Level: 0.4 ===\n",
      "Metric: euclidean, Run: 1/10\n",
      "Metric: euclidean, Run: 2/10\n",
      "Metric: euclidean, Run: 3/10\n",
      "Metric: euclidean, Run: 4/10\n",
      "Metric: euclidean, Run: 5/10\n",
      "Metric: euclidean, Run: 6/10\n",
      "Metric: euclidean, Run: 7/10\n",
      "Metric: euclidean, Run: 8/10\n",
      "Metric: euclidean, Run: 9/10\n",
      "Metric: euclidean, Run: 10/10\n",
      "Metric: manhattan, Run: 1/10\n",
      "Metric: manhattan, Run: 2/10\n",
      "Metric: manhattan, Run: 3/10\n",
      "Metric: manhattan, Run: 4/10\n",
      "Metric: manhattan, Run: 5/10\n",
      "Metric: manhattan, Run: 6/10\n",
      "Metric: manhattan, Run: 7/10\n",
      "Metric: manhattan, Run: 8/10\n",
      "Metric: manhattan, Run: 9/10\n",
      "Metric: manhattan, Run: 10/10\n",
      "Metric: minkowski_0.5, Run: 1/10\n"
     ]
    },
    {
     "name": "stderr",
     "output_type": "stream",
     "text": [
      "c:\\Users\\sofus\\AppData\\Local\\Programs\\Python\\Python311\\Lib\\site-packages\\sklearn\\neighbors\\_graph.py:434: SyntaxWarning: Parameter p is found in metric_params. The corresponding parameter from __init__ is ignored.\n",
      "  self._fit(X)\n",
      "c:\\Users\\sofus\\AppData\\Local\\Programs\\Python\\Python311\\Lib\\site-packages\\sklearn\\neighbors\\_base.py:653: UserWarning: Mind that for 0 < p < 1, Minkowski metrics are not distance metrics. Continuing the execution with `algorithm='brute'`.\n",
      "  warnings.warn(\n"
     ]
    },
    {
     "name": "stdout",
     "output_type": "stream",
     "text": [
      "Metric: minkowski_0.5, Run: 2/10\n"
     ]
    },
    {
     "name": "stderr",
     "output_type": "stream",
     "text": [
      "c:\\Users\\sofus\\AppData\\Local\\Programs\\Python\\Python311\\Lib\\site-packages\\sklearn\\neighbors\\_graph.py:434: SyntaxWarning: Parameter p is found in metric_params. The corresponding parameter from __init__ is ignored.\n",
      "  self._fit(X)\n",
      "c:\\Users\\sofus\\AppData\\Local\\Programs\\Python\\Python311\\Lib\\site-packages\\sklearn\\neighbors\\_base.py:653: UserWarning: Mind that for 0 < p < 1, Minkowski metrics are not distance metrics. Continuing the execution with `algorithm='brute'`.\n",
      "  warnings.warn(\n"
     ]
    },
    {
     "name": "stdout",
     "output_type": "stream",
     "text": [
      "Metric: minkowski_0.5, Run: 3/10\n"
     ]
    },
    {
     "name": "stderr",
     "output_type": "stream",
     "text": [
      "c:\\Users\\sofus\\AppData\\Local\\Programs\\Python\\Python311\\Lib\\site-packages\\sklearn\\neighbors\\_graph.py:434: SyntaxWarning: Parameter p is found in metric_params. The corresponding parameter from __init__ is ignored.\n",
      "  self._fit(X)\n",
      "c:\\Users\\sofus\\AppData\\Local\\Programs\\Python\\Python311\\Lib\\site-packages\\sklearn\\neighbors\\_base.py:653: UserWarning: Mind that for 0 < p < 1, Minkowski metrics are not distance metrics. Continuing the execution with `algorithm='brute'`.\n",
      "  warnings.warn(\n"
     ]
    },
    {
     "name": "stdout",
     "output_type": "stream",
     "text": [
      "Metric: minkowski_0.5, Run: 4/10\n"
     ]
    },
    {
     "name": "stderr",
     "output_type": "stream",
     "text": [
      "c:\\Users\\sofus\\AppData\\Local\\Programs\\Python\\Python311\\Lib\\site-packages\\sklearn\\neighbors\\_graph.py:434: SyntaxWarning: Parameter p is found in metric_params. The corresponding parameter from __init__ is ignored.\n",
      "  self._fit(X)\n",
      "c:\\Users\\sofus\\AppData\\Local\\Programs\\Python\\Python311\\Lib\\site-packages\\sklearn\\neighbors\\_base.py:653: UserWarning: Mind that for 0 < p < 1, Minkowski metrics are not distance metrics. Continuing the execution with `algorithm='brute'`.\n",
      "  warnings.warn(\n"
     ]
    },
    {
     "name": "stdout",
     "output_type": "stream",
     "text": [
      "Metric: minkowski_0.5, Run: 5/10\n"
     ]
    },
    {
     "name": "stderr",
     "output_type": "stream",
     "text": [
      "c:\\Users\\sofus\\AppData\\Local\\Programs\\Python\\Python311\\Lib\\site-packages\\sklearn\\neighbors\\_graph.py:434: SyntaxWarning: Parameter p is found in metric_params. The corresponding parameter from __init__ is ignored.\n",
      "  self._fit(X)\n",
      "c:\\Users\\sofus\\AppData\\Local\\Programs\\Python\\Python311\\Lib\\site-packages\\sklearn\\neighbors\\_base.py:653: UserWarning: Mind that for 0 < p < 1, Minkowski metrics are not distance metrics. Continuing the execution with `algorithm='brute'`.\n",
      "  warnings.warn(\n"
     ]
    },
    {
     "name": "stdout",
     "output_type": "stream",
     "text": [
      "Metric: minkowski_0.5, Run: 6/10\n"
     ]
    },
    {
     "name": "stderr",
     "output_type": "stream",
     "text": [
      "c:\\Users\\sofus\\AppData\\Local\\Programs\\Python\\Python311\\Lib\\site-packages\\sklearn\\neighbors\\_graph.py:434: SyntaxWarning: Parameter p is found in metric_params. The corresponding parameter from __init__ is ignored.\n",
      "  self._fit(X)\n",
      "c:\\Users\\sofus\\AppData\\Local\\Programs\\Python\\Python311\\Lib\\site-packages\\sklearn\\neighbors\\_base.py:653: UserWarning: Mind that for 0 < p < 1, Minkowski metrics are not distance metrics. Continuing the execution with `algorithm='brute'`.\n",
      "  warnings.warn(\n"
     ]
    },
    {
     "name": "stdout",
     "output_type": "stream",
     "text": [
      "Metric: minkowski_0.5, Run: 7/10\n"
     ]
    },
    {
     "name": "stderr",
     "output_type": "stream",
     "text": [
      "c:\\Users\\sofus\\AppData\\Local\\Programs\\Python\\Python311\\Lib\\site-packages\\sklearn\\neighbors\\_graph.py:434: SyntaxWarning: Parameter p is found in metric_params. The corresponding parameter from __init__ is ignored.\n",
      "  self._fit(X)\n",
      "c:\\Users\\sofus\\AppData\\Local\\Programs\\Python\\Python311\\Lib\\site-packages\\sklearn\\neighbors\\_base.py:653: UserWarning: Mind that for 0 < p < 1, Minkowski metrics are not distance metrics. Continuing the execution with `algorithm='brute'`.\n",
      "  warnings.warn(\n"
     ]
    },
    {
     "name": "stdout",
     "output_type": "stream",
     "text": [
      "Metric: minkowski_0.5, Run: 8/10\n"
     ]
    },
    {
     "name": "stderr",
     "output_type": "stream",
     "text": [
      "c:\\Users\\sofus\\AppData\\Local\\Programs\\Python\\Python311\\Lib\\site-packages\\sklearn\\neighbors\\_graph.py:434: SyntaxWarning: Parameter p is found in metric_params. The corresponding parameter from __init__ is ignored.\n",
      "  self._fit(X)\n",
      "c:\\Users\\sofus\\AppData\\Local\\Programs\\Python\\Python311\\Lib\\site-packages\\sklearn\\neighbors\\_base.py:653: UserWarning: Mind that for 0 < p < 1, Minkowski metrics are not distance metrics. Continuing the execution with `algorithm='brute'`.\n",
      "  warnings.warn(\n"
     ]
    },
    {
     "name": "stdout",
     "output_type": "stream",
     "text": [
      "Metric: minkowski_0.5, Run: 9/10\n"
     ]
    },
    {
     "name": "stderr",
     "output_type": "stream",
     "text": [
      "c:\\Users\\sofus\\AppData\\Local\\Programs\\Python\\Python311\\Lib\\site-packages\\sklearn\\neighbors\\_graph.py:434: SyntaxWarning: Parameter p is found in metric_params. The corresponding parameter from __init__ is ignored.\n",
      "  self._fit(X)\n",
      "c:\\Users\\sofus\\AppData\\Local\\Programs\\Python\\Python311\\Lib\\site-packages\\sklearn\\neighbors\\_base.py:653: UserWarning: Mind that for 0 < p < 1, Minkowski metrics are not distance metrics. Continuing the execution with `algorithm='brute'`.\n",
      "  warnings.warn(\n"
     ]
    },
    {
     "name": "stdout",
     "output_type": "stream",
     "text": [
      "Metric: minkowski_0.5, Run: 10/10\n"
     ]
    },
    {
     "name": "stderr",
     "output_type": "stream",
     "text": [
      "c:\\Users\\sofus\\AppData\\Local\\Programs\\Python\\Python311\\Lib\\site-packages\\sklearn\\neighbors\\_graph.py:434: SyntaxWarning: Parameter p is found in metric_params. The corresponding parameter from __init__ is ignored.\n",
      "  self._fit(X)\n",
      "c:\\Users\\sofus\\AppData\\Local\\Programs\\Python\\Python311\\Lib\\site-packages\\sklearn\\neighbors\\_base.py:653: UserWarning: Mind that for 0 < p < 1, Minkowski metrics are not distance metrics. Continuing the execution with `algorithm='brute'`.\n",
      "  warnings.warn(\n"
     ]
    },
    {
     "name": "stdout",
     "output_type": "stream",
     "text": [
      "\n",
      "=== Dropout Level: 0.5 ===\n",
      "Metric: euclidean, Run: 1/10\n",
      "Metric: euclidean, Run: 2/10\n",
      "Metric: euclidean, Run: 3/10\n",
      "Metric: euclidean, Run: 4/10\n",
      "Metric: euclidean, Run: 5/10\n",
      "Metric: euclidean, Run: 6/10\n",
      "Metric: euclidean, Run: 7/10\n",
      "Metric: euclidean, Run: 8/10\n",
      "Metric: euclidean, Run: 9/10\n",
      "Metric: euclidean, Run: 10/10\n",
      "Metric: manhattan, Run: 1/10\n",
      "Metric: manhattan, Run: 2/10\n",
      "Metric: manhattan, Run: 3/10\n",
      "Metric: manhattan, Run: 4/10\n",
      "Metric: manhattan, Run: 5/10\n",
      "Metric: manhattan, Run: 6/10\n",
      "Metric: manhattan, Run: 7/10\n",
      "Metric: manhattan, Run: 8/10\n",
      "Metric: manhattan, Run: 9/10\n",
      "Metric: manhattan, Run: 10/10\n",
      "Metric: minkowski_0.5, Run: 1/10\n"
     ]
    },
    {
     "name": "stderr",
     "output_type": "stream",
     "text": [
      "c:\\Users\\sofus\\AppData\\Local\\Programs\\Python\\Python311\\Lib\\site-packages\\sklearn\\neighbors\\_graph.py:434: SyntaxWarning: Parameter p is found in metric_params. The corresponding parameter from __init__ is ignored.\n",
      "  self._fit(X)\n",
      "c:\\Users\\sofus\\AppData\\Local\\Programs\\Python\\Python311\\Lib\\site-packages\\sklearn\\neighbors\\_base.py:653: UserWarning: Mind that for 0 < p < 1, Minkowski metrics are not distance metrics. Continuing the execution with `algorithm='brute'`.\n",
      "  warnings.warn(\n"
     ]
    },
    {
     "name": "stdout",
     "output_type": "stream",
     "text": [
      "Metric: minkowski_0.5, Run: 2/10\n"
     ]
    },
    {
     "name": "stderr",
     "output_type": "stream",
     "text": [
      "c:\\Users\\sofus\\AppData\\Local\\Programs\\Python\\Python311\\Lib\\site-packages\\sklearn\\neighbors\\_graph.py:434: SyntaxWarning: Parameter p is found in metric_params. The corresponding parameter from __init__ is ignored.\n",
      "  self._fit(X)\n",
      "c:\\Users\\sofus\\AppData\\Local\\Programs\\Python\\Python311\\Lib\\site-packages\\sklearn\\neighbors\\_base.py:653: UserWarning: Mind that for 0 < p < 1, Minkowski metrics are not distance metrics. Continuing the execution with `algorithm='brute'`.\n",
      "  warnings.warn(\n"
     ]
    },
    {
     "name": "stdout",
     "output_type": "stream",
     "text": [
      "Metric: minkowski_0.5, Run: 3/10\n"
     ]
    },
    {
     "name": "stderr",
     "output_type": "stream",
     "text": [
      "c:\\Users\\sofus\\AppData\\Local\\Programs\\Python\\Python311\\Lib\\site-packages\\sklearn\\neighbors\\_graph.py:434: SyntaxWarning: Parameter p is found in metric_params. The corresponding parameter from __init__ is ignored.\n",
      "  self._fit(X)\n",
      "c:\\Users\\sofus\\AppData\\Local\\Programs\\Python\\Python311\\Lib\\site-packages\\sklearn\\neighbors\\_base.py:653: UserWarning: Mind that for 0 < p < 1, Minkowski metrics are not distance metrics. Continuing the execution with `algorithm='brute'`.\n",
      "  warnings.warn(\n"
     ]
    },
    {
     "name": "stdout",
     "output_type": "stream",
     "text": [
      "Metric: minkowski_0.5, Run: 4/10\n"
     ]
    },
    {
     "name": "stderr",
     "output_type": "stream",
     "text": [
      "c:\\Users\\sofus\\AppData\\Local\\Programs\\Python\\Python311\\Lib\\site-packages\\sklearn\\neighbors\\_graph.py:434: SyntaxWarning: Parameter p is found in metric_params. The corresponding parameter from __init__ is ignored.\n",
      "  self._fit(X)\n",
      "c:\\Users\\sofus\\AppData\\Local\\Programs\\Python\\Python311\\Lib\\site-packages\\sklearn\\neighbors\\_base.py:653: UserWarning: Mind that for 0 < p < 1, Minkowski metrics are not distance metrics. Continuing the execution with `algorithm='brute'`.\n",
      "  warnings.warn(\n"
     ]
    },
    {
     "name": "stdout",
     "output_type": "stream",
     "text": [
      "Metric: minkowski_0.5, Run: 5/10\n"
     ]
    },
    {
     "name": "stderr",
     "output_type": "stream",
     "text": [
      "c:\\Users\\sofus\\AppData\\Local\\Programs\\Python\\Python311\\Lib\\site-packages\\sklearn\\neighbors\\_graph.py:434: SyntaxWarning: Parameter p is found in metric_params. The corresponding parameter from __init__ is ignored.\n",
      "  self._fit(X)\n",
      "c:\\Users\\sofus\\AppData\\Local\\Programs\\Python\\Python311\\Lib\\site-packages\\sklearn\\neighbors\\_base.py:653: UserWarning: Mind that for 0 < p < 1, Minkowski metrics are not distance metrics. Continuing the execution with `algorithm='brute'`.\n",
      "  warnings.warn(\n"
     ]
    },
    {
     "name": "stdout",
     "output_type": "stream",
     "text": [
      "Metric: minkowski_0.5, Run: 6/10\n"
     ]
    },
    {
     "name": "stderr",
     "output_type": "stream",
     "text": [
      "c:\\Users\\sofus\\AppData\\Local\\Programs\\Python\\Python311\\Lib\\site-packages\\sklearn\\neighbors\\_graph.py:434: SyntaxWarning: Parameter p is found in metric_params. The corresponding parameter from __init__ is ignored.\n",
      "  self._fit(X)\n",
      "c:\\Users\\sofus\\AppData\\Local\\Programs\\Python\\Python311\\Lib\\site-packages\\sklearn\\neighbors\\_base.py:653: UserWarning: Mind that for 0 < p < 1, Minkowski metrics are not distance metrics. Continuing the execution with `algorithm='brute'`.\n",
      "  warnings.warn(\n"
     ]
    },
    {
     "name": "stdout",
     "output_type": "stream",
     "text": [
      "Metric: minkowski_0.5, Run: 7/10\n"
     ]
    },
    {
     "name": "stderr",
     "output_type": "stream",
     "text": [
      "c:\\Users\\sofus\\AppData\\Local\\Programs\\Python\\Python311\\Lib\\site-packages\\sklearn\\neighbors\\_graph.py:434: SyntaxWarning: Parameter p is found in metric_params. The corresponding parameter from __init__ is ignored.\n",
      "  self._fit(X)\n",
      "c:\\Users\\sofus\\AppData\\Local\\Programs\\Python\\Python311\\Lib\\site-packages\\sklearn\\neighbors\\_base.py:653: UserWarning: Mind that for 0 < p < 1, Minkowski metrics are not distance metrics. Continuing the execution with `algorithm='brute'`.\n",
      "  warnings.warn(\n"
     ]
    },
    {
     "name": "stdout",
     "output_type": "stream",
     "text": [
      "Metric: minkowski_0.5, Run: 8/10\n"
     ]
    },
    {
     "name": "stderr",
     "output_type": "stream",
     "text": [
      "c:\\Users\\sofus\\AppData\\Local\\Programs\\Python\\Python311\\Lib\\site-packages\\sklearn\\neighbors\\_graph.py:434: SyntaxWarning: Parameter p is found in metric_params. The corresponding parameter from __init__ is ignored.\n",
      "  self._fit(X)\n",
      "c:\\Users\\sofus\\AppData\\Local\\Programs\\Python\\Python311\\Lib\\site-packages\\sklearn\\neighbors\\_base.py:653: UserWarning: Mind that for 0 < p < 1, Minkowski metrics are not distance metrics. Continuing the execution with `algorithm='brute'`.\n",
      "  warnings.warn(\n"
     ]
    },
    {
     "name": "stdout",
     "output_type": "stream",
     "text": [
      "Metric: minkowski_0.5, Run: 9/10\n"
     ]
    },
    {
     "name": "stderr",
     "output_type": "stream",
     "text": [
      "c:\\Users\\sofus\\AppData\\Local\\Programs\\Python\\Python311\\Lib\\site-packages\\sklearn\\neighbors\\_graph.py:434: SyntaxWarning: Parameter p is found in metric_params. The corresponding parameter from __init__ is ignored.\n",
      "  self._fit(X)\n",
      "c:\\Users\\sofus\\AppData\\Local\\Programs\\Python\\Python311\\Lib\\site-packages\\sklearn\\neighbors\\_base.py:653: UserWarning: Mind that for 0 < p < 1, Minkowski metrics are not distance metrics. Continuing the execution with `algorithm='brute'`.\n",
      "  warnings.warn(\n"
     ]
    },
    {
     "name": "stdout",
     "output_type": "stream",
     "text": [
      "Metric: minkowski_0.5, Run: 10/10\n"
     ]
    },
    {
     "name": "stderr",
     "output_type": "stream",
     "text": [
      "c:\\Users\\sofus\\AppData\\Local\\Programs\\Python\\Python311\\Lib\\site-packages\\sklearn\\neighbors\\_graph.py:434: SyntaxWarning: Parameter p is found in metric_params. The corresponding parameter from __init__ is ignored.\n",
      "  self._fit(X)\n",
      "c:\\Users\\sofus\\AppData\\Local\\Programs\\Python\\Python311\\Lib\\site-packages\\sklearn\\neighbors\\_base.py:653: UserWarning: Mind that for 0 < p < 1, Minkowski metrics are not distance metrics. Continuing the execution with `algorithm='brute'`.\n",
      "  warnings.warn(\n"
     ]
    },
    {
     "name": "stdout",
     "output_type": "stream",
     "text": [
      "\n",
      "=== Dropout Level: 0.6 ===\n",
      "Metric: euclidean, Run: 1/10\n",
      "Metric: euclidean, Run: 2/10\n",
      "Metric: euclidean, Run: 3/10\n",
      "Metric: euclidean, Run: 4/10\n",
      "Metric: euclidean, Run: 5/10\n",
      "Metric: euclidean, Run: 6/10\n",
      "Metric: euclidean, Run: 7/10\n",
      "Metric: euclidean, Run: 8/10\n",
      "Metric: euclidean, Run: 9/10\n",
      "Metric: euclidean, Run: 10/10\n",
      "Metric: manhattan, Run: 1/10\n",
      "Metric: manhattan, Run: 2/10\n",
      "Metric: manhattan, Run: 3/10\n",
      "Metric: manhattan, Run: 4/10\n",
      "Metric: manhattan, Run: 5/10\n",
      "Metric: manhattan, Run: 6/10\n",
      "Metric: manhattan, Run: 7/10\n",
      "Metric: manhattan, Run: 8/10\n",
      "Metric: manhattan, Run: 9/10\n",
      "Metric: manhattan, Run: 10/10\n",
      "Metric: minkowski_0.5, Run: 1/10\n"
     ]
    },
    {
     "name": "stderr",
     "output_type": "stream",
     "text": [
      "c:\\Users\\sofus\\AppData\\Local\\Programs\\Python\\Python311\\Lib\\site-packages\\sklearn\\neighbors\\_graph.py:434: SyntaxWarning: Parameter p is found in metric_params. The corresponding parameter from __init__ is ignored.\n",
      "  self._fit(X)\n",
      "c:\\Users\\sofus\\AppData\\Local\\Programs\\Python\\Python311\\Lib\\site-packages\\sklearn\\neighbors\\_base.py:653: UserWarning: Mind that for 0 < p < 1, Minkowski metrics are not distance metrics. Continuing the execution with `algorithm='brute'`.\n",
      "  warnings.warn(\n"
     ]
    },
    {
     "name": "stdout",
     "output_type": "stream",
     "text": [
      "Metric: minkowski_0.5, Run: 2/10\n"
     ]
    },
    {
     "name": "stderr",
     "output_type": "stream",
     "text": [
      "c:\\Users\\sofus\\AppData\\Local\\Programs\\Python\\Python311\\Lib\\site-packages\\sklearn\\neighbors\\_graph.py:434: SyntaxWarning: Parameter p is found in metric_params. The corresponding parameter from __init__ is ignored.\n",
      "  self._fit(X)\n",
      "c:\\Users\\sofus\\AppData\\Local\\Programs\\Python\\Python311\\Lib\\site-packages\\sklearn\\neighbors\\_base.py:653: UserWarning: Mind that for 0 < p < 1, Minkowski metrics are not distance metrics. Continuing the execution with `algorithm='brute'`.\n",
      "  warnings.warn(\n"
     ]
    },
    {
     "name": "stdout",
     "output_type": "stream",
     "text": [
      "Metric: minkowski_0.5, Run: 3/10\n"
     ]
    },
    {
     "name": "stderr",
     "output_type": "stream",
     "text": [
      "c:\\Users\\sofus\\AppData\\Local\\Programs\\Python\\Python311\\Lib\\site-packages\\sklearn\\neighbors\\_graph.py:434: SyntaxWarning: Parameter p is found in metric_params. The corresponding parameter from __init__ is ignored.\n",
      "  self._fit(X)\n",
      "c:\\Users\\sofus\\AppData\\Local\\Programs\\Python\\Python311\\Lib\\site-packages\\sklearn\\neighbors\\_base.py:653: UserWarning: Mind that for 0 < p < 1, Minkowski metrics are not distance metrics. Continuing the execution with `algorithm='brute'`.\n",
      "  warnings.warn(\n"
     ]
    },
    {
     "name": "stdout",
     "output_type": "stream",
     "text": [
      "Metric: minkowski_0.5, Run: 4/10\n"
     ]
    },
    {
     "name": "stderr",
     "output_type": "stream",
     "text": [
      "c:\\Users\\sofus\\AppData\\Local\\Programs\\Python\\Python311\\Lib\\site-packages\\sklearn\\neighbors\\_graph.py:434: SyntaxWarning: Parameter p is found in metric_params. The corresponding parameter from __init__ is ignored.\n",
      "  self._fit(X)\n",
      "c:\\Users\\sofus\\AppData\\Local\\Programs\\Python\\Python311\\Lib\\site-packages\\sklearn\\neighbors\\_base.py:653: UserWarning: Mind that for 0 < p < 1, Minkowski metrics are not distance metrics. Continuing the execution with `algorithm='brute'`.\n",
      "  warnings.warn(\n"
     ]
    },
    {
     "name": "stdout",
     "output_type": "stream",
     "text": [
      "Metric: minkowski_0.5, Run: 5/10\n"
     ]
    },
    {
     "name": "stderr",
     "output_type": "stream",
     "text": [
      "c:\\Users\\sofus\\AppData\\Local\\Programs\\Python\\Python311\\Lib\\site-packages\\sklearn\\neighbors\\_graph.py:434: SyntaxWarning: Parameter p is found in metric_params. The corresponding parameter from __init__ is ignored.\n",
      "  self._fit(X)\n",
      "c:\\Users\\sofus\\AppData\\Local\\Programs\\Python\\Python311\\Lib\\site-packages\\sklearn\\neighbors\\_base.py:653: UserWarning: Mind that for 0 < p < 1, Minkowski metrics are not distance metrics. Continuing the execution with `algorithm='brute'`.\n",
      "  warnings.warn(\n"
     ]
    },
    {
     "name": "stdout",
     "output_type": "stream",
     "text": [
      "Metric: minkowski_0.5, Run: 6/10\n"
     ]
    },
    {
     "name": "stderr",
     "output_type": "stream",
     "text": [
      "c:\\Users\\sofus\\AppData\\Local\\Programs\\Python\\Python311\\Lib\\site-packages\\sklearn\\neighbors\\_graph.py:434: SyntaxWarning: Parameter p is found in metric_params. The corresponding parameter from __init__ is ignored.\n",
      "  self._fit(X)\n",
      "c:\\Users\\sofus\\AppData\\Local\\Programs\\Python\\Python311\\Lib\\site-packages\\sklearn\\neighbors\\_base.py:653: UserWarning: Mind that for 0 < p < 1, Minkowski metrics are not distance metrics. Continuing the execution with `algorithm='brute'`.\n",
      "  warnings.warn(\n"
     ]
    },
    {
     "name": "stdout",
     "output_type": "stream",
     "text": [
      "Metric: minkowski_0.5, Run: 7/10\n"
     ]
    },
    {
     "name": "stderr",
     "output_type": "stream",
     "text": [
      "c:\\Users\\sofus\\AppData\\Local\\Programs\\Python\\Python311\\Lib\\site-packages\\sklearn\\neighbors\\_graph.py:434: SyntaxWarning: Parameter p is found in metric_params. The corresponding parameter from __init__ is ignored.\n",
      "  self._fit(X)\n",
      "c:\\Users\\sofus\\AppData\\Local\\Programs\\Python\\Python311\\Lib\\site-packages\\sklearn\\neighbors\\_base.py:653: UserWarning: Mind that for 0 < p < 1, Minkowski metrics are not distance metrics. Continuing the execution with `algorithm='brute'`.\n",
      "  warnings.warn(\n"
     ]
    },
    {
     "name": "stdout",
     "output_type": "stream",
     "text": [
      "Metric: minkowski_0.5, Run: 8/10\n"
     ]
    },
    {
     "name": "stderr",
     "output_type": "stream",
     "text": [
      "c:\\Users\\sofus\\AppData\\Local\\Programs\\Python\\Python311\\Lib\\site-packages\\sklearn\\neighbors\\_graph.py:434: SyntaxWarning: Parameter p is found in metric_params. The corresponding parameter from __init__ is ignored.\n",
      "  self._fit(X)\n",
      "c:\\Users\\sofus\\AppData\\Local\\Programs\\Python\\Python311\\Lib\\site-packages\\sklearn\\neighbors\\_base.py:653: UserWarning: Mind that for 0 < p < 1, Minkowski metrics are not distance metrics. Continuing the execution with `algorithm='brute'`.\n",
      "  warnings.warn(\n"
     ]
    },
    {
     "name": "stdout",
     "output_type": "stream",
     "text": [
      "Metric: minkowski_0.5, Run: 9/10\n"
     ]
    },
    {
     "name": "stderr",
     "output_type": "stream",
     "text": [
      "c:\\Users\\sofus\\AppData\\Local\\Programs\\Python\\Python311\\Lib\\site-packages\\sklearn\\neighbors\\_graph.py:434: SyntaxWarning: Parameter p is found in metric_params. The corresponding parameter from __init__ is ignored.\n",
      "  self._fit(X)\n",
      "c:\\Users\\sofus\\AppData\\Local\\Programs\\Python\\Python311\\Lib\\site-packages\\sklearn\\neighbors\\_base.py:653: UserWarning: Mind that for 0 < p < 1, Minkowski metrics are not distance metrics. Continuing the execution with `algorithm='brute'`.\n",
      "  warnings.warn(\n"
     ]
    },
    {
     "name": "stdout",
     "output_type": "stream",
     "text": [
      "Metric: minkowski_0.5, Run: 10/10\n"
     ]
    },
    {
     "name": "stderr",
     "output_type": "stream",
     "text": [
      "c:\\Users\\sofus\\AppData\\Local\\Programs\\Python\\Python311\\Lib\\site-packages\\sklearn\\neighbors\\_graph.py:434: SyntaxWarning: Parameter p is found in metric_params. The corresponding parameter from __init__ is ignored.\n",
      "  self._fit(X)\n",
      "c:\\Users\\sofus\\AppData\\Local\\Programs\\Python\\Python311\\Lib\\site-packages\\sklearn\\neighbors\\_base.py:653: UserWarning: Mind that for 0 < p < 1, Minkowski metrics are not distance metrics. Continuing the execution with `algorithm='brute'`.\n",
      "  warnings.warn(\n"
     ]
    },
    {
     "name": "stdout",
     "output_type": "stream",
     "text": [
      "\n",
      "=== Dropout Level: 0.7 ===\n",
      "Metric: euclidean, Run: 1/10\n",
      "Metric: euclidean, Run: 2/10\n",
      "Metric: euclidean, Run: 3/10\n",
      "Metric: euclidean, Run: 4/10\n",
      "Metric: euclidean, Run: 5/10\n",
      "Metric: euclidean, Run: 6/10\n",
      "Metric: euclidean, Run: 7/10\n",
      "Metric: euclidean, Run: 8/10\n",
      "Metric: euclidean, Run: 9/10\n",
      "Metric: euclidean, Run: 10/10\n",
      "Metric: manhattan, Run: 1/10\n",
      "Metric: manhattan, Run: 2/10\n",
      "Metric: manhattan, Run: 3/10\n",
      "Metric: manhattan, Run: 4/10\n",
      "Metric: manhattan, Run: 5/10\n",
      "Metric: manhattan, Run: 6/10\n",
      "Metric: manhattan, Run: 7/10\n",
      "Metric: manhattan, Run: 8/10\n",
      "Metric: manhattan, Run: 9/10\n",
      "Metric: manhattan, Run: 10/10\n",
      "Metric: minkowski_0.5, Run: 1/10\n"
     ]
    },
    {
     "name": "stderr",
     "output_type": "stream",
     "text": [
      "c:\\Users\\sofus\\AppData\\Local\\Programs\\Python\\Python311\\Lib\\site-packages\\sklearn\\neighbors\\_graph.py:434: SyntaxWarning: Parameter p is found in metric_params. The corresponding parameter from __init__ is ignored.\n",
      "  self._fit(X)\n",
      "c:\\Users\\sofus\\AppData\\Local\\Programs\\Python\\Python311\\Lib\\site-packages\\sklearn\\neighbors\\_base.py:653: UserWarning: Mind that for 0 < p < 1, Minkowski metrics are not distance metrics. Continuing the execution with `algorithm='brute'`.\n",
      "  warnings.warn(\n"
     ]
    },
    {
     "name": "stdout",
     "output_type": "stream",
     "text": [
      "Metric: minkowski_0.5, Run: 2/10\n"
     ]
    },
    {
     "name": "stderr",
     "output_type": "stream",
     "text": [
      "c:\\Users\\sofus\\AppData\\Local\\Programs\\Python\\Python311\\Lib\\site-packages\\sklearn\\neighbors\\_graph.py:434: SyntaxWarning: Parameter p is found in metric_params. The corresponding parameter from __init__ is ignored.\n",
      "  self._fit(X)\n",
      "c:\\Users\\sofus\\AppData\\Local\\Programs\\Python\\Python311\\Lib\\site-packages\\sklearn\\neighbors\\_base.py:653: UserWarning: Mind that for 0 < p < 1, Minkowski metrics are not distance metrics. Continuing the execution with `algorithm='brute'`.\n",
      "  warnings.warn(\n"
     ]
    },
    {
     "name": "stdout",
     "output_type": "stream",
     "text": [
      "Metric: minkowski_0.5, Run: 3/10\n"
     ]
    },
    {
     "name": "stderr",
     "output_type": "stream",
     "text": [
      "c:\\Users\\sofus\\AppData\\Local\\Programs\\Python\\Python311\\Lib\\site-packages\\sklearn\\neighbors\\_graph.py:434: SyntaxWarning: Parameter p is found in metric_params. The corresponding parameter from __init__ is ignored.\n",
      "  self._fit(X)\n",
      "c:\\Users\\sofus\\AppData\\Local\\Programs\\Python\\Python311\\Lib\\site-packages\\sklearn\\neighbors\\_base.py:653: UserWarning: Mind that for 0 < p < 1, Minkowski metrics are not distance metrics. Continuing the execution with `algorithm='brute'`.\n",
      "  warnings.warn(\n"
     ]
    },
    {
     "name": "stdout",
     "output_type": "stream",
     "text": [
      "Metric: minkowski_0.5, Run: 4/10\n"
     ]
    },
    {
     "name": "stderr",
     "output_type": "stream",
     "text": [
      "c:\\Users\\sofus\\AppData\\Local\\Programs\\Python\\Python311\\Lib\\site-packages\\sklearn\\neighbors\\_graph.py:434: SyntaxWarning: Parameter p is found in metric_params. The corresponding parameter from __init__ is ignored.\n",
      "  self._fit(X)\n",
      "c:\\Users\\sofus\\AppData\\Local\\Programs\\Python\\Python311\\Lib\\site-packages\\sklearn\\neighbors\\_base.py:653: UserWarning: Mind that for 0 < p < 1, Minkowski metrics are not distance metrics. Continuing the execution with `algorithm='brute'`.\n",
      "  warnings.warn(\n"
     ]
    },
    {
     "name": "stdout",
     "output_type": "stream",
     "text": [
      "Metric: minkowski_0.5, Run: 5/10\n"
     ]
    },
    {
     "name": "stderr",
     "output_type": "stream",
     "text": [
      "c:\\Users\\sofus\\AppData\\Local\\Programs\\Python\\Python311\\Lib\\site-packages\\sklearn\\neighbors\\_graph.py:434: SyntaxWarning: Parameter p is found in metric_params. The corresponding parameter from __init__ is ignored.\n",
      "  self._fit(X)\n",
      "c:\\Users\\sofus\\AppData\\Local\\Programs\\Python\\Python311\\Lib\\site-packages\\sklearn\\neighbors\\_base.py:653: UserWarning: Mind that for 0 < p < 1, Minkowski metrics are not distance metrics. Continuing the execution with `algorithm='brute'`.\n",
      "  warnings.warn(\n"
     ]
    },
    {
     "name": "stdout",
     "output_type": "stream",
     "text": [
      "Metric: minkowski_0.5, Run: 6/10\n"
     ]
    },
    {
     "name": "stderr",
     "output_type": "stream",
     "text": [
      "c:\\Users\\sofus\\AppData\\Local\\Programs\\Python\\Python311\\Lib\\site-packages\\sklearn\\neighbors\\_graph.py:434: SyntaxWarning: Parameter p is found in metric_params. The corresponding parameter from __init__ is ignored.\n",
      "  self._fit(X)\n",
      "c:\\Users\\sofus\\AppData\\Local\\Programs\\Python\\Python311\\Lib\\site-packages\\sklearn\\neighbors\\_base.py:653: UserWarning: Mind that for 0 < p < 1, Minkowski metrics are not distance metrics. Continuing the execution with `algorithm='brute'`.\n",
      "  warnings.warn(\n"
     ]
    },
    {
     "name": "stdout",
     "output_type": "stream",
     "text": [
      "Metric: minkowski_0.5, Run: 7/10\n"
     ]
    },
    {
     "name": "stderr",
     "output_type": "stream",
     "text": [
      "c:\\Users\\sofus\\AppData\\Local\\Programs\\Python\\Python311\\Lib\\site-packages\\sklearn\\neighbors\\_graph.py:434: SyntaxWarning: Parameter p is found in metric_params. The corresponding parameter from __init__ is ignored.\n",
      "  self._fit(X)\n",
      "c:\\Users\\sofus\\AppData\\Local\\Programs\\Python\\Python311\\Lib\\site-packages\\sklearn\\neighbors\\_base.py:653: UserWarning: Mind that for 0 < p < 1, Minkowski metrics are not distance metrics. Continuing the execution with `algorithm='brute'`.\n",
      "  warnings.warn(\n"
     ]
    },
    {
     "name": "stdout",
     "output_type": "stream",
     "text": [
      "Metric: minkowski_0.5, Run: 8/10\n"
     ]
    },
    {
     "name": "stderr",
     "output_type": "stream",
     "text": [
      "c:\\Users\\sofus\\AppData\\Local\\Programs\\Python\\Python311\\Lib\\site-packages\\sklearn\\neighbors\\_graph.py:434: SyntaxWarning: Parameter p is found in metric_params. The corresponding parameter from __init__ is ignored.\n",
      "  self._fit(X)\n",
      "c:\\Users\\sofus\\AppData\\Local\\Programs\\Python\\Python311\\Lib\\site-packages\\sklearn\\neighbors\\_base.py:653: UserWarning: Mind that for 0 < p < 1, Minkowski metrics are not distance metrics. Continuing the execution with `algorithm='brute'`.\n",
      "  warnings.warn(\n"
     ]
    },
    {
     "name": "stdout",
     "output_type": "stream",
     "text": [
      "Metric: minkowski_0.5, Run: 9/10\n"
     ]
    },
    {
     "name": "stderr",
     "output_type": "stream",
     "text": [
      "c:\\Users\\sofus\\AppData\\Local\\Programs\\Python\\Python311\\Lib\\site-packages\\sklearn\\neighbors\\_graph.py:434: SyntaxWarning: Parameter p is found in metric_params. The corresponding parameter from __init__ is ignored.\n",
      "  self._fit(X)\n",
      "c:\\Users\\sofus\\AppData\\Local\\Programs\\Python\\Python311\\Lib\\site-packages\\sklearn\\neighbors\\_base.py:653: UserWarning: Mind that for 0 < p < 1, Minkowski metrics are not distance metrics. Continuing the execution with `algorithm='brute'`.\n",
      "  warnings.warn(\n"
     ]
    },
    {
     "name": "stdout",
     "output_type": "stream",
     "text": [
      "Metric: minkowski_0.5, Run: 10/10\n"
     ]
    },
    {
     "name": "stderr",
     "output_type": "stream",
     "text": [
      "c:\\Users\\sofus\\AppData\\Local\\Programs\\Python\\Python311\\Lib\\site-packages\\sklearn\\neighbors\\_graph.py:434: SyntaxWarning: Parameter p is found in metric_params. The corresponding parameter from __init__ is ignored.\n",
      "  self._fit(X)\n",
      "c:\\Users\\sofus\\AppData\\Local\\Programs\\Python\\Python311\\Lib\\site-packages\\sklearn\\neighbors\\_base.py:653: UserWarning: Mind that for 0 < p < 1, Minkowski metrics are not distance metrics. Continuing the execution with `algorithm='brute'`.\n",
      "  warnings.warn(\n"
     ]
    },
    {
     "name": "stdout",
     "output_type": "stream",
     "text": [
      "\n",
      "=== Dropout Level: 0.8 ===\n",
      "Metric: euclidean, Run: 1/10\n",
      "Metric: euclidean, Run: 2/10\n",
      "Metric: euclidean, Run: 3/10\n",
      "Metric: euclidean, Run: 4/10\n",
      "Metric: euclidean, Run: 5/10\n",
      "Metric: euclidean, Run: 6/10\n",
      "Metric: euclidean, Run: 7/10\n",
      "Metric: euclidean, Run: 8/10\n",
      "Metric: euclidean, Run: 9/10\n",
      "Metric: euclidean, Run: 10/10\n",
      "Metric: manhattan, Run: 1/10\n",
      "Metric: manhattan, Run: 2/10\n",
      "Metric: manhattan, Run: 3/10\n",
      "Metric: manhattan, Run: 4/10\n",
      "Metric: manhattan, Run: 5/10\n",
      "Metric: manhattan, Run: 6/10\n",
      "Metric: manhattan, Run: 7/10\n",
      "Metric: manhattan, Run: 8/10\n",
      "Metric: manhattan, Run: 9/10\n",
      "Metric: manhattan, Run: 10/10\n",
      "Metric: minkowski_0.5, Run: 1/10\n"
     ]
    },
    {
     "name": "stderr",
     "output_type": "stream",
     "text": [
      "c:\\Users\\sofus\\AppData\\Local\\Programs\\Python\\Python311\\Lib\\site-packages\\sklearn\\neighbors\\_graph.py:434: SyntaxWarning: Parameter p is found in metric_params. The corresponding parameter from __init__ is ignored.\n",
      "  self._fit(X)\n",
      "c:\\Users\\sofus\\AppData\\Local\\Programs\\Python\\Python311\\Lib\\site-packages\\sklearn\\neighbors\\_base.py:653: UserWarning: Mind that for 0 < p < 1, Minkowski metrics are not distance metrics. Continuing the execution with `algorithm='brute'`.\n",
      "  warnings.warn(\n"
     ]
    },
    {
     "name": "stdout",
     "output_type": "stream",
     "text": [
      "Metric: minkowski_0.5, Run: 2/10\n"
     ]
    },
    {
     "name": "stderr",
     "output_type": "stream",
     "text": [
      "c:\\Users\\sofus\\AppData\\Local\\Programs\\Python\\Python311\\Lib\\site-packages\\sklearn\\neighbors\\_graph.py:434: SyntaxWarning: Parameter p is found in metric_params. The corresponding parameter from __init__ is ignored.\n",
      "  self._fit(X)\n",
      "c:\\Users\\sofus\\AppData\\Local\\Programs\\Python\\Python311\\Lib\\site-packages\\sklearn\\neighbors\\_base.py:653: UserWarning: Mind that for 0 < p < 1, Minkowski metrics are not distance metrics. Continuing the execution with `algorithm='brute'`.\n",
      "  warnings.warn(\n"
     ]
    },
    {
     "name": "stdout",
     "output_type": "stream",
     "text": [
      "Metric: minkowski_0.5, Run: 3/10\n"
     ]
    },
    {
     "name": "stderr",
     "output_type": "stream",
     "text": [
      "c:\\Users\\sofus\\AppData\\Local\\Programs\\Python\\Python311\\Lib\\site-packages\\sklearn\\neighbors\\_graph.py:434: SyntaxWarning: Parameter p is found in metric_params. The corresponding parameter from __init__ is ignored.\n",
      "  self._fit(X)\n",
      "c:\\Users\\sofus\\AppData\\Local\\Programs\\Python\\Python311\\Lib\\site-packages\\sklearn\\neighbors\\_base.py:653: UserWarning: Mind that for 0 < p < 1, Minkowski metrics are not distance metrics. Continuing the execution with `algorithm='brute'`.\n",
      "  warnings.warn(\n"
     ]
    },
    {
     "name": "stdout",
     "output_type": "stream",
     "text": [
      "Metric: minkowski_0.5, Run: 4/10\n"
     ]
    },
    {
     "name": "stderr",
     "output_type": "stream",
     "text": [
      "c:\\Users\\sofus\\AppData\\Local\\Programs\\Python\\Python311\\Lib\\site-packages\\sklearn\\neighbors\\_graph.py:434: SyntaxWarning: Parameter p is found in metric_params. The corresponding parameter from __init__ is ignored.\n",
      "  self._fit(X)\n",
      "c:\\Users\\sofus\\AppData\\Local\\Programs\\Python\\Python311\\Lib\\site-packages\\sklearn\\neighbors\\_base.py:653: UserWarning: Mind that for 0 < p < 1, Minkowski metrics are not distance metrics. Continuing the execution with `algorithm='brute'`.\n",
      "  warnings.warn(\n"
     ]
    },
    {
     "name": "stdout",
     "output_type": "stream",
     "text": [
      "Metric: minkowski_0.5, Run: 5/10\n"
     ]
    },
    {
     "name": "stderr",
     "output_type": "stream",
     "text": [
      "c:\\Users\\sofus\\AppData\\Local\\Programs\\Python\\Python311\\Lib\\site-packages\\sklearn\\neighbors\\_graph.py:434: SyntaxWarning: Parameter p is found in metric_params. The corresponding parameter from __init__ is ignored.\n",
      "  self._fit(X)\n",
      "c:\\Users\\sofus\\AppData\\Local\\Programs\\Python\\Python311\\Lib\\site-packages\\sklearn\\neighbors\\_base.py:653: UserWarning: Mind that for 0 < p < 1, Minkowski metrics are not distance metrics. Continuing the execution with `algorithm='brute'`.\n",
      "  warnings.warn(\n"
     ]
    },
    {
     "name": "stdout",
     "output_type": "stream",
     "text": [
      "Metric: minkowski_0.5, Run: 6/10\n"
     ]
    },
    {
     "name": "stderr",
     "output_type": "stream",
     "text": [
      "c:\\Users\\sofus\\AppData\\Local\\Programs\\Python\\Python311\\Lib\\site-packages\\sklearn\\neighbors\\_graph.py:434: SyntaxWarning: Parameter p is found in metric_params. The corresponding parameter from __init__ is ignored.\n",
      "  self._fit(X)\n",
      "c:\\Users\\sofus\\AppData\\Local\\Programs\\Python\\Python311\\Lib\\site-packages\\sklearn\\neighbors\\_base.py:653: UserWarning: Mind that for 0 < p < 1, Minkowski metrics are not distance metrics. Continuing the execution with `algorithm='brute'`.\n",
      "  warnings.warn(\n"
     ]
    },
    {
     "name": "stdout",
     "output_type": "stream",
     "text": [
      "Metric: minkowski_0.5, Run: 7/10\n"
     ]
    },
    {
     "name": "stderr",
     "output_type": "stream",
     "text": [
      "c:\\Users\\sofus\\AppData\\Local\\Programs\\Python\\Python311\\Lib\\site-packages\\sklearn\\neighbors\\_graph.py:434: SyntaxWarning: Parameter p is found in metric_params. The corresponding parameter from __init__ is ignored.\n",
      "  self._fit(X)\n",
      "c:\\Users\\sofus\\AppData\\Local\\Programs\\Python\\Python311\\Lib\\site-packages\\sklearn\\neighbors\\_base.py:653: UserWarning: Mind that for 0 < p < 1, Minkowski metrics are not distance metrics. Continuing the execution with `algorithm='brute'`.\n",
      "  warnings.warn(\n"
     ]
    },
    {
     "name": "stdout",
     "output_type": "stream",
     "text": [
      "Metric: minkowski_0.5, Run: 8/10\n"
     ]
    },
    {
     "name": "stderr",
     "output_type": "stream",
     "text": [
      "c:\\Users\\sofus\\AppData\\Local\\Programs\\Python\\Python311\\Lib\\site-packages\\sklearn\\neighbors\\_graph.py:434: SyntaxWarning: Parameter p is found in metric_params. The corresponding parameter from __init__ is ignored.\n",
      "  self._fit(X)\n",
      "c:\\Users\\sofus\\AppData\\Local\\Programs\\Python\\Python311\\Lib\\site-packages\\sklearn\\neighbors\\_base.py:653: UserWarning: Mind that for 0 < p < 1, Minkowski metrics are not distance metrics. Continuing the execution with `algorithm='brute'`.\n",
      "  warnings.warn(\n"
     ]
    },
    {
     "name": "stdout",
     "output_type": "stream",
     "text": [
      "Metric: minkowski_0.5, Run: 9/10\n"
     ]
    },
    {
     "name": "stderr",
     "output_type": "stream",
     "text": [
      "c:\\Users\\sofus\\AppData\\Local\\Programs\\Python\\Python311\\Lib\\site-packages\\sklearn\\neighbors\\_graph.py:434: SyntaxWarning: Parameter p is found in metric_params. The corresponding parameter from __init__ is ignored.\n",
      "  self._fit(X)\n",
      "c:\\Users\\sofus\\AppData\\Local\\Programs\\Python\\Python311\\Lib\\site-packages\\sklearn\\neighbors\\_base.py:653: UserWarning: Mind that for 0 < p < 1, Minkowski metrics are not distance metrics. Continuing the execution with `algorithm='brute'`.\n",
      "  warnings.warn(\n"
     ]
    },
    {
     "name": "stdout",
     "output_type": "stream",
     "text": [
      "Metric: minkowski_0.5, Run: 10/10\n"
     ]
    },
    {
     "name": "stderr",
     "output_type": "stream",
     "text": [
      "c:\\Users\\sofus\\AppData\\Local\\Programs\\Python\\Python311\\Lib\\site-packages\\sklearn\\neighbors\\_graph.py:434: SyntaxWarning: Parameter p is found in metric_params. The corresponding parameter from __init__ is ignored.\n",
      "  self._fit(X)\n",
      "c:\\Users\\sofus\\AppData\\Local\\Programs\\Python\\Python311\\Lib\\site-packages\\sklearn\\neighbors\\_base.py:653: UserWarning: Mind that for 0 < p < 1, Minkowski metrics are not distance metrics. Continuing the execution with `algorithm='brute'`.\n",
      "  warnings.warn(\n"
     ]
    },
    {
     "name": "stdout",
     "output_type": "stream",
     "text": [
      "\n",
      "=== Dropout Level: 0.9 ===\n",
      "Metric: euclidean, Run: 1/10\n",
      "Metric: euclidean, Run: 2/10\n",
      "Metric: euclidean, Run: 3/10\n",
      "Metric: euclidean, Run: 4/10\n",
      "Metric: euclidean, Run: 5/10\n",
      "Metric: euclidean, Run: 6/10\n",
      "Metric: euclidean, Run: 7/10\n",
      "Metric: euclidean, Run: 8/10\n",
      "Metric: euclidean, Run: 9/10\n",
      "Metric: euclidean, Run: 10/10\n",
      "Metric: manhattan, Run: 1/10\n",
      "Metric: manhattan, Run: 2/10\n",
      "Metric: manhattan, Run: 3/10\n",
      "Metric: manhattan, Run: 4/10\n",
      "Metric: manhattan, Run: 5/10\n",
      "Metric: manhattan, Run: 6/10\n",
      "Metric: manhattan, Run: 7/10\n",
      "Metric: manhattan, Run: 8/10\n",
      "Metric: manhattan, Run: 9/10\n",
      "Metric: manhattan, Run: 10/10\n",
      "Metric: minkowski_0.5, Run: 1/10\n"
     ]
    },
    {
     "name": "stderr",
     "output_type": "stream",
     "text": [
      "c:\\Users\\sofus\\AppData\\Local\\Programs\\Python\\Python311\\Lib\\site-packages\\sklearn\\neighbors\\_graph.py:434: SyntaxWarning: Parameter p is found in metric_params. The corresponding parameter from __init__ is ignored.\n",
      "  self._fit(X)\n",
      "c:\\Users\\sofus\\AppData\\Local\\Programs\\Python\\Python311\\Lib\\site-packages\\sklearn\\neighbors\\_base.py:653: UserWarning: Mind that for 0 < p < 1, Minkowski metrics are not distance metrics. Continuing the execution with `algorithm='brute'`.\n",
      "  warnings.warn(\n"
     ]
    },
    {
     "name": "stdout",
     "output_type": "stream",
     "text": [
      "Metric: minkowski_0.5, Run: 2/10\n"
     ]
    },
    {
     "name": "stderr",
     "output_type": "stream",
     "text": [
      "c:\\Users\\sofus\\AppData\\Local\\Programs\\Python\\Python311\\Lib\\site-packages\\sklearn\\neighbors\\_graph.py:434: SyntaxWarning: Parameter p is found in metric_params. The corresponding parameter from __init__ is ignored.\n",
      "  self._fit(X)\n",
      "c:\\Users\\sofus\\AppData\\Local\\Programs\\Python\\Python311\\Lib\\site-packages\\sklearn\\neighbors\\_base.py:653: UserWarning: Mind that for 0 < p < 1, Minkowski metrics are not distance metrics. Continuing the execution with `algorithm='brute'`.\n",
      "  warnings.warn(\n"
     ]
    },
    {
     "name": "stdout",
     "output_type": "stream",
     "text": [
      "Metric: minkowski_0.5, Run: 3/10\n"
     ]
    },
    {
     "name": "stderr",
     "output_type": "stream",
     "text": [
      "c:\\Users\\sofus\\AppData\\Local\\Programs\\Python\\Python311\\Lib\\site-packages\\sklearn\\neighbors\\_graph.py:434: SyntaxWarning: Parameter p is found in metric_params. The corresponding parameter from __init__ is ignored.\n",
      "  self._fit(X)\n",
      "c:\\Users\\sofus\\AppData\\Local\\Programs\\Python\\Python311\\Lib\\site-packages\\sklearn\\neighbors\\_base.py:653: UserWarning: Mind that for 0 < p < 1, Minkowski metrics are not distance metrics. Continuing the execution with `algorithm='brute'`.\n",
      "  warnings.warn(\n"
     ]
    },
    {
     "name": "stdout",
     "output_type": "stream",
     "text": [
      "Metric: minkowski_0.5, Run: 4/10\n"
     ]
    },
    {
     "name": "stderr",
     "output_type": "stream",
     "text": [
      "c:\\Users\\sofus\\AppData\\Local\\Programs\\Python\\Python311\\Lib\\site-packages\\sklearn\\neighbors\\_graph.py:434: SyntaxWarning: Parameter p is found in metric_params. The corresponding parameter from __init__ is ignored.\n",
      "  self._fit(X)\n",
      "c:\\Users\\sofus\\AppData\\Local\\Programs\\Python\\Python311\\Lib\\site-packages\\sklearn\\neighbors\\_base.py:653: UserWarning: Mind that for 0 < p < 1, Minkowski metrics are not distance metrics. Continuing the execution with `algorithm='brute'`.\n",
      "  warnings.warn(\n"
     ]
    },
    {
     "name": "stdout",
     "output_type": "stream",
     "text": [
      "Metric: minkowski_0.5, Run: 5/10\n"
     ]
    },
    {
     "name": "stderr",
     "output_type": "stream",
     "text": [
      "c:\\Users\\sofus\\AppData\\Local\\Programs\\Python\\Python311\\Lib\\site-packages\\sklearn\\neighbors\\_graph.py:434: SyntaxWarning: Parameter p is found in metric_params. The corresponding parameter from __init__ is ignored.\n",
      "  self._fit(X)\n",
      "c:\\Users\\sofus\\AppData\\Local\\Programs\\Python\\Python311\\Lib\\site-packages\\sklearn\\neighbors\\_base.py:653: UserWarning: Mind that for 0 < p < 1, Minkowski metrics are not distance metrics. Continuing the execution with `algorithm='brute'`.\n",
      "  warnings.warn(\n"
     ]
    },
    {
     "name": "stdout",
     "output_type": "stream",
     "text": [
      "Metric: minkowski_0.5, Run: 6/10\n"
     ]
    },
    {
     "name": "stderr",
     "output_type": "stream",
     "text": [
      "c:\\Users\\sofus\\AppData\\Local\\Programs\\Python\\Python311\\Lib\\site-packages\\sklearn\\neighbors\\_graph.py:434: SyntaxWarning: Parameter p is found in metric_params. The corresponding parameter from __init__ is ignored.\n",
      "  self._fit(X)\n",
      "c:\\Users\\sofus\\AppData\\Local\\Programs\\Python\\Python311\\Lib\\site-packages\\sklearn\\neighbors\\_base.py:653: UserWarning: Mind that for 0 < p < 1, Minkowski metrics are not distance metrics. Continuing the execution with `algorithm='brute'`.\n",
      "  warnings.warn(\n"
     ]
    },
    {
     "name": "stdout",
     "output_type": "stream",
     "text": [
      "Metric: minkowski_0.5, Run: 7/10\n"
     ]
    },
    {
     "name": "stderr",
     "output_type": "stream",
     "text": [
      "c:\\Users\\sofus\\AppData\\Local\\Programs\\Python\\Python311\\Lib\\site-packages\\sklearn\\neighbors\\_graph.py:434: SyntaxWarning: Parameter p is found in metric_params. The corresponding parameter from __init__ is ignored.\n",
      "  self._fit(X)\n",
      "c:\\Users\\sofus\\AppData\\Local\\Programs\\Python\\Python311\\Lib\\site-packages\\sklearn\\neighbors\\_base.py:653: UserWarning: Mind that for 0 < p < 1, Minkowski metrics are not distance metrics. Continuing the execution with `algorithm='brute'`.\n",
      "  warnings.warn(\n"
     ]
    },
    {
     "name": "stdout",
     "output_type": "stream",
     "text": [
      "Metric: minkowski_0.5, Run: 8/10\n"
     ]
    },
    {
     "name": "stderr",
     "output_type": "stream",
     "text": [
      "c:\\Users\\sofus\\AppData\\Local\\Programs\\Python\\Python311\\Lib\\site-packages\\sklearn\\neighbors\\_graph.py:434: SyntaxWarning: Parameter p is found in metric_params. The corresponding parameter from __init__ is ignored.\n",
      "  self._fit(X)\n",
      "c:\\Users\\sofus\\AppData\\Local\\Programs\\Python\\Python311\\Lib\\site-packages\\sklearn\\neighbors\\_base.py:653: UserWarning: Mind that for 0 < p < 1, Minkowski metrics are not distance metrics. Continuing the execution with `algorithm='brute'`.\n",
      "  warnings.warn(\n"
     ]
    },
    {
     "name": "stdout",
     "output_type": "stream",
     "text": [
      "Metric: minkowski_0.5, Run: 9/10\n"
     ]
    },
    {
     "name": "stderr",
     "output_type": "stream",
     "text": [
      "c:\\Users\\sofus\\AppData\\Local\\Programs\\Python\\Python311\\Lib\\site-packages\\sklearn\\neighbors\\_graph.py:434: SyntaxWarning: Parameter p is found in metric_params. The corresponding parameter from __init__ is ignored.\n",
      "  self._fit(X)\n",
      "c:\\Users\\sofus\\AppData\\Local\\Programs\\Python\\Python311\\Lib\\site-packages\\sklearn\\neighbors\\_base.py:653: UserWarning: Mind that for 0 < p < 1, Minkowski metrics are not distance metrics. Continuing the execution with `algorithm='brute'`.\n",
      "  warnings.warn(\n"
     ]
    },
    {
     "name": "stdout",
     "output_type": "stream",
     "text": [
      "Metric: minkowski_0.5, Run: 10/10\n"
     ]
    },
    {
     "name": "stderr",
     "output_type": "stream",
     "text": [
      "c:\\Users\\sofus\\AppData\\Local\\Programs\\Python\\Python311\\Lib\\site-packages\\sklearn\\neighbors\\_graph.py:434: SyntaxWarning: Parameter p is found in metric_params. The corresponding parameter from __init__ is ignored.\n",
      "  self._fit(X)\n",
      "c:\\Users\\sofus\\AppData\\Local\\Programs\\Python\\Python311\\Lib\\site-packages\\sklearn\\neighbors\\_base.py:653: UserWarning: Mind that for 0 < p < 1, Minkowski metrics are not distance metrics. Continuing the execution with `algorithm='brute'`.\n",
      "  warnings.warn(\n"
     ]
    }
   ],
   "source": [
    "import numpy as np\n",
    "import pandas as pd\n",
    "import scanpy as sc\n",
    "from sklearn.manifold import trustworthiness\n",
    "from sklearn.metrics import silhouette_score\n",
    "\n",
    "# Paths\n",
    "label_path = '../../data/S5000/symsim_labels_20000genes_5000cells_simple.csv'\n",
    "dropout_levels = [round(i / 10, 1) for i in range(1, 10)]\n",
    "\n",
    "# Load constant labels\n",
    "labels = pd.read_csv(label_path, index_col=0)\n",
    "labels.index = labels.index.astype(int)\n",
    "\n",
    "# To collect results\n",
    "all_results = {}\n",
    "\n",
    "for dropout in dropout_levels:\n",
    "    print(f\"\\n=== Dropout Level: {dropout} ===\")\n",
    "\n",
    "    # Load counts\n",
    "    data_path = f\"../../data/S5000/noise_dropout_{dropout}.csv\"\n",
    "    counts = pd.read_csv(data_path, index_col=0)\n",
    "    if counts.shape[0] > counts.shape[1]:\n",
    "        counts = counts.T\n",
    "\n",
    "    adata = sc.AnnData(counts)\n",
    "    adata.obs.index = adata.obs.index.str.lstrip('X').astype(int)\n",
    "    adata.obs['cell_class'] = labels.reindex(adata.obs.index)['x'].astype(str)\n",
    "\n",
    "    metrics = {\n",
    "        'euclidean': {},\n",
    "        'manhattan': {},\n",
    "        'minkowski_0.5': {}\n",
    "    }\n",
    "\n",
    "    for metric in metrics:\n",
    "        trustworthiness_scores = []\n",
    "        silhouette_scores = []\n",
    "\n",
    "        for i in range(10):\n",
    "            print(f\"Metric: {metric}, Run: {i+1}/10\")\n",
    "\n",
    "            if metric == 'minkowski_0.5':\n",
    "                sc.pp.neighbors(adata, n_neighbors=15, use_rep='X', metric='minkowski', metric_kwds={'p': 0.5})\n",
    "            else:\n",
    "                sc.pp.neighbors(adata, n_neighbors=15, use_rep='X', metric=metric)\n",
    "\n",
    "            sc.tl.umap(adata, random_state=None)\n",
    "\n",
    "            # Trustworthiness\n",
    "            tw = trustworthiness(adata.X, adata.obsm['X_umap'], n_neighbors=15)\n",
    "            trustworthiness_scores.append(tw)\n",
    "\n",
    "            # Silhouette Score\n",
    "            sil_score = silhouette_score(adata.obsm['X_umap'], adata.obs['cell_class'])\n",
    "            silhouette_scores.append(sil_score)\n",
    "\n",
    "        metrics[metric] = {\n",
    "            'trustworthiness': trustworthiness_scores,\n",
    "            'silhouette': silhouette_scores,\n",
    "            'trustworthiness_mean': np.mean(trustworthiness_scores),\n",
    "            'trustworthiness_min': np.min(trustworthiness_scores),\n",
    "            'trustworthiness_max': np.max(trustworthiness_scores),\n",
    "            'silhouette_mean': np.mean(silhouette_scores),\n",
    "            'silhouette_min': np.min(silhouette_scores),\n",
    "            'silhouette_max': np.max(silhouette_scores)\n",
    "        }\n",
    "\n",
    "    all_results[f\"dropout_{dropout}\"] = metrics\n",
    "\n",
    "# Now all_results contains full score summaries for all dropout levels and distance metrics\n",
    "# You can use it for plotting mean ± range (min/max) confidence-like intervals\n"
   ]
  },
  {
   "cell_type": "code",
   "execution_count": 3,
   "id": "4f3ac092",
   "metadata": {},
   "outputs": [
    {
     "name": "stdout",
     "output_type": "stream",
     "text": [
      "{'dropout_0.1': {'euclidean': {'trustworthiness': [0.773750767155623, 0.7744016354746248, 0.7751606474456247, 0.7746246164221885, 0.7762259989883662, 0.776000708143652, 0.7732771539369415, 0.7760323048389817, 0.7755002697690103, 0.7751421345472939], 'silhouette': [0.0007157867, 0.0016576853, 0.00038238073, 0.000945857, 0.0006964315, 0.000118466975, 0.00019346035, 0.0013586612, 0.0010120937, 0.0025043373], 'trustworthiness_mean': 0.7750116236722306, 'trustworthiness_min': 0.7732771539369415, 'trustworthiness_max': 0.7762259989883662, 'silhouette_mean': 0.0009585161, 'silhouette_min': 0.000118466975, 'silhouette_max': 0.0025043373}, 'manhattan': {'trustworthiness': [0.7639720789074356, 0.7635360141628731, 0.7619979598718598, 0.761961861406171, 0.7646572078907435, 0.7626263193390659, 0.7628053279379532, 0.7633455235204856, 0.7646063227111786, 0.7602729556567189], 'silhouette': [-0.0048091877, -0.004077837, -0.00080867263, -0.0012167041, -0.0011441527, -0.0027533716, -0.0041054348, -0.004439076, -0.00017056814, -0.002581244], 'trustworthiness_mean': 0.7629781571404485, 'trustworthiness_min': 0.7602729556567189, 'trustworthiness_max': 0.7646572078907435, 'silhouette_mean': -0.002610625, 'silhouette_min': -0.0048091877, 'silhouette_max': -0.00017056814}, 'minkowski_0.5': {'trustworthiness': [0.7368070982970831, 0.7375478671387625, 0.7374220367560277, 0.7382847411903558, 0.7381886528410049, 0.7391688079581858, 0.7375066599224414, 0.7362334682178384, 0.7388751643904907, 0.7387131849603776], 'silhouette': [-0.00410706, -0.0036366163, -0.0028185153, -0.0022919518, -0.0024885552, -0.0027362278, -0.003876017, -0.0044335322, -0.0024332718, -0.003570774], 'trustworthiness_mean': 0.7378747681672568, 'trustworthiness_min': 0.7362334682178384, 'trustworthiness_max': 0.7391688079581858, 'silhouette_mean': -0.0032392521, 'silhouette_min': -0.0044335322, 'silhouette_max': -0.0022919518}}, 'dropout_0.2': {'euclidean': {'trustworthiness': [0.7365565166076546, 0.7352734783341763, 0.7347583375484741, 0.7366650311920419, 0.7372495531950767, 0.7341562131175181, 0.7355819423368741, 0.7356277019052437, 0.7364926993761591, 0.7359193390659249], 'silhouette': [0.00080824277, 0.0013148171, 0.000917228, 0.0014670714, 0.0024959268, 0.0019009495, 0.0026959318, -3.62525e-05, 0.0013953258, 0.0025777372], 'trustworthiness_mean': 0.7358280812679143, 'trustworthiness_min': 0.7341562131175181, 'trustworthiness_max': 0.7372495531950767, 'silhouette_mean': 0.0015536977, 'silhouette_min': -3.62525e-05, 'silhouette_max': 0.0026959318}, 'manhattan': {'trustworthiness': [0.7312063901534311, 0.7310682684201653, 0.7299882313269264, 0.7301638003709324, 0.7283376327769348, 0.7313660765469567, 0.7295076546956669, 0.7291068285280728, 0.7296464677120216, 0.7313421008261676], 'silhouette': [-0.002540745, -0.0037421524, -0.006624761, -0.003356519, -0.0041594133, -0.005646881, -0.0043649403, -0.004066768, -0.0036138608, -0.00348395], 'trustworthiness_mean': 0.7301733451357275, 'trustworthiness_min': 0.7283376327769348, 'trustworthiness_max': 0.7313660765469567, 'silhouette_mean': -0.004159999, 'silhouette_min': -0.006624761, 'silhouette_max': -0.002540745}, 'minkowski_0.5': {'trustworthiness': [0.7043609846568876, 0.705699527904232, 0.7042178384758051, 0.7020137076378351, 0.7029191873208566, 0.7035918732085652, 0.7034905749452032, 0.7021481031866464, 0.7030524869330637, 0.7023881301635475], 'silhouette': [0.0035191223, 0.005001313, -0.006559169, -0.0073872884, 0.0014435184, -0.010134025, -0.0036684638, -0.006706481, -0.0013395412, 0.0052707316], 'trustworthiness_mean': 0.7033882414432642, 'trustworthiness_min': 0.7020137076378351, 'trustworthiness_max': 0.705699527904232, 'silhouette_mean': -0.0020560282, 'silhouette_min': -0.010134025, 'silhouette_max': 0.0052707316}}, 'dropout_0.3': {'euclidean': {'trustworthiness': [0.6901757545102007, 0.691192446467712, 0.6918346821783847, 0.6900552183442927, 0.6932801888383072, 0.6915801382566178, 0.6926117855336369, 0.6903686899342438, 0.6901705951778789, 0.6907805766312596], 'silhouette': [0.0047082147, 0.0038506566, 0.0050200513, 0.0034735922, 0.004261161, 0.0046328777, 0.005202306, 0.003940321, 0.0042920597, 0.0050994917], 'trustworthiness_mean': 0.6912050075872535, 'trustworthiness_min': 0.6900552183442927, 'trustworthiness_max': 0.6932801888383072, 'silhouette_mean': 0.004448073, 'silhouette_min': 0.0034735922, 'silhouette_max': 0.005202306}, 'manhattan': {'trustworthiness': [0.6911993255774743, 0.6909289833080425, 0.6913744225257124, 0.6908238745574102, 0.6907836621143146, 0.6907273309728545, 0.6919711178553364, 0.6935601584892936, 0.6931639015343113, 0.6916019558253246], 'silhouette': [-0.00032227463, -0.0033618128, -0.002249816, -0.0034120441, -0.0036464105, -0.0019308445, -0.0031136302, -0.0030178109, -0.0034854088, -0.0013901646], 'trustworthiness_mean': 0.6916134732760074, 'trustworthiness_min': 0.6907273309728545, 'trustworthiness_max': 0.6935601584892936, 'silhouette_mean': -0.0025930218, 'silhouette_min': -0.0036464105, 'silhouette_max': -0.00032227463}, 'minkowski_0.5': {'trustworthiness': [0.6490145506659923, 0.6517153936941494, 0.6488739672905075, 0.6518165402124432, 0.651904957005564, 0.6509721126285618, 0.6505284774911482, 0.6525534479851627, 0.649406137244984, 0.6507770864946889], 'silhouette': [0.037665304, 0.051538605, 0.038004905, -0.0038271865, -0.031240027, -0.012291874, 0.038614105, 0.028518612, 0.0313971, 0.02436087], 'trustworthiness_mean': 0.6507562670713203, 'trustworthiness_min': 0.6488739672905075, 'trustworthiness_max': 0.6525534479851627, 'silhouette_mean': 0.020274041, 'silhouette_min': -0.031240027, 'silhouette_max': 0.051538605}}, 'dropout_0.4': {'euclidean': {'trustworthiness': [0.6504885348170629, 0.650244377002192, 0.6499917551846233, 0.6509911144832238, 0.6514159669532963, 0.6517196931377509, 0.648872247513067, 0.6523792277862082, 0.6515597369752151, 0.6519037599055808], 'silhouette': [0.0047194483, 0.005613162, 0.004144793, 0.0044353143, 0.005042407, 0.0057140402, 0.0049064048, 0.006232558, 0.0044360277, 0.0034277157], 'trustworthiness_mean': 0.650956641375822, 'trustworthiness_min': 0.648872247513067, 'trustworthiness_max': 0.6523792277862082, 'silhouette_mean': 0.004867187, 'silhouette_min': 0.0034277157, 'silhouette_max': 0.006232558}, 'manhattan': {'trustworthiness': [0.6518376833586241, 0.651833063564323, 0.6518788905749453, 0.6524215309391335, 0.6500622323385601, 0.6514673748103187, 0.6523815545439218, 0.6518399258135221, 0.6523266734108919, 0.6521412915191367], 'silhouette': [-0.0032117313, -0.00059396506, -0.0026730367, 0.0031982497, -0.0014250807, 0.0026690392, 0.0031961321, -0.0017161296, -0.002707441, 0.0027677556], 'trustworthiness_mean': 0.6518190220873377, 'trustworthiness_min': 0.6500622323385601, 'trustworthiness_max': 0.6524215309391335, 'silhouette_mean': -4.9620772e-05, 'silhouette_min': -0.0032117313, 'silhouette_max': 0.0031982497}, 'minkowski_0.5': {'trustworthiness': [0.5566155960209072, 0.5620706626201315, 0.5390228292024954, 0.5598538357781151, 0.552609087843534, 0.5601509020401282, 0.5538444444444445, 0.5553908447142135, 0.5563597706963412, 0.5609781824312933], 'silhouette': [0.09787691, 0.098338515, -0.03210427, 0.13503492, 0.006765848, 0.16744153, 0.15988892, -0.013418139, 0.18094778, 0.22984949], 'trustworthiness_mean': 0.5556896155791604, 'trustworthiness_min': 0.5390228292024954, 'trustworthiness_max': 0.5620706626201315, 'silhouette_mean': 0.10306215, 'silhouette_min': -0.03210427, 'silhouette_max': 0.22984949}}, 'dropout_0.5': {'euclidean': {'trustworthiness': [0.6192095093576127, 0.6188151239251392, 0.6178085145843871, 0.6166002529084471, 0.6186538694992413, 0.6169524532119373, 0.618634361827685, 0.6197092733097286, 0.6188207216321026, 0.6185625864103861], 'silhouette': [0.010512401, 0.010172002, 0.0103274565, 0.008766048, 0.009701952, 0.01239028, 0.011096424, 0.011000667, 0.009468825, 0.011086544], 'trustworthiness_mean': 0.6183766666666667, 'trustworthiness_min': 0.6166002529084471, 'trustworthiness_max': 0.6197092733097286, 'silhouette_mean': 0.01045226, 'silhouette_min': 0.008766048, 'silhouette_max': 0.01239028}, 'manhattan': {'trustworthiness': [0.611411566346316, 0.6130430112965773, 0.6119045354914854, 0.6102379531276345, 0.6134297926150734, 0.6103052267745743, 0.611210150059012, 0.6104875231832744, 0.6099078064407352, 0.6120726353060193], 'silhouette': [0.014339112, -0.0002505541, 0.017448911, -0.0008819394, 0.017240984, 0.01115433, 0.0042985366, 0.017953549, 0.021351425, 0.0053982646], 'trustworthiness_mean': 0.6114010200640703, 'trustworthiness_min': 0.6099078064407352, 'trustworthiness_max': 0.6134297926150734, 'silhouette_mean': 0.010805262, 'silhouette_min': -0.0008819394, 'silhouette_max': 0.021351425}, 'minkowski_0.5': {'trustworthiness': [0.5038992581352217, 0.5018917889057495, 0.50112183442927, 0.5022405159332322, 0.5050042825830383, 0.5049999156971843, 0.5021606137244985, 0.5044704434328107, 0.5022029843196762, 0.5037113808801215], 'silhouette': [0.32969767, 0.22092322, 0.07054162, 0.16823946, -0.04599526, 0.035788585, 0.2104322, 0.21603978, 0.10105877, 0.13076875], 'trustworthiness_mean': 0.5031703018040802, 'trustworthiness_min': 0.50112183442927, 'trustworthiness_max': 0.5050042825830383, 'silhouette_mean': 0.14374948, 'silhouette_min': -0.04599526, 'silhouette_max': 0.32969767}}, 'dropout_0.6': {'euclidean': {'trustworthiness': [0.5713947395042995, 0.5692522003034901, 0.5703273984151072, 0.5705640701399427, 0.5705500084302816, 0.5693805429101333, 0.5692838813016354, 0.5710686056314281, 0.570309795987186, 0.570683459787557], 'silhouette': [0.01266115, 0.010976852, 0.0105956495, 0.011389451, 0.009136528, 0.0116938455, 0.010363907, 0.010812097, 0.012147233, 0.01044305], 'trustworthiness_mean': 0.5702814702411061, 'trustworthiness_min': 0.5692522003034901, 'trustworthiness_max': 0.5713947395042995, 'silhouette_mean': 0.011021976, 'silhouette_min': 0.009136528, 'silhouette_max': 0.01266115}, 'manhattan': {'trustworthiness': [0.5171256111954139, 0.5181793963918395, 0.5093013657056147, 0.5208990220873377, 0.5218032035069972, 0.5145378013825662, 0.5199761760242793, 0.5143895127297252, 0.5150221716405328, 0.5148254088686562], 'silhouette': [0.052979607, 0.08736153, 0.25214747, 0.23608893, 0.25034666, 0.11638432, 0.10521606, 0.16433378, 0.02208683, 0.059101082], 'trustworthiness_mean': 0.5166059669532963, 'trustworthiness_min': 0.5093013657056147, 'trustworthiness_max': 0.5218032035069972, 'silhouette_mean': 0.13460463, 'silhouette_min': 0.02208683, 'silhouette_max': 0.25214747}, 'minkowski_0.5': {'trustworthiness': [0.5042290001686056, 0.5033732254257293, 0.502651121227449, 0.5034548136907773, 0.502679446973529, 0.5037313100657562, 0.5019450177035913, 0.50201947395043, 0.5048302478502782, 0.5018848423537347], 'silhouette': [0.15975463, 0.04320989, -0.09866404, 0.30812567, 0.009533253, 0.05354116, 0.18058988, 0.25377962, 0.08125091, 0.28478625], 'trustworthiness_mean': 0.5030798499409881, 'trustworthiness_min': 0.5018848423537347, 'trustworthiness_max': 0.5048302478502782, 'silhouette_mean': 0.12759073, 'silhouette_min': -0.09866404, 'silhouette_max': 0.30812567}}, 'dropout_0.7': {'euclidean': {'trustworthiness': [0.554857966616085, 0.5544664980610352, 0.5561314449502615, 0.5541733940313607, 0.5521241611869837, 0.5553284774911482, 0.5520917720451863, 0.5547159669532963, 0.554746265385264, 0.5527631933906593], 'silhouette': [0.015012435, 0.015267813, 0.014234096, 0.015662732, 0.017795108, 0.015257271, 0.017567461, 0.013221875, 0.012124271, 0.015721707], 'trustworthiness_mean': 0.554139914011128, 'trustworthiness_min': 0.5520917720451863, 'trustworthiness_max': 0.5561314449502615, 'silhouette_mean': 0.0151864765, 'silhouette_min': 0.012124271, 'silhouette_max': 0.017795108}, 'manhattan': {'trustworthiness': [0.5076022761760244, 0.5098252065418986, 0.5101038610689598, 0.5091944865958524, 0.5061897993592986, 0.5102912662282921, 0.5092389816219862, 0.5107421851289833, 0.5101041982802226, 0.5094965604451189], 'silhouette': [0.056105826, -0.011759968, 0.24425784, 0.019459754, 0.039652817, 0.14166047, 0.12011661, 0.019448655, 0.13282448, 0.12725793], 'trustworthiness_mean': 0.5092788821446637, 'trustworthiness_min': 0.5061897993592986, 'trustworthiness_max': 0.5107421851289833, 'silhouette_mean': 0.08890244, 'silhouette_min': -0.011759968, 'silhouette_max': 0.24425784}, 'minkowski_0.5': {'trustworthiness': [0.5026992075535324, 0.5006971337042658, 0.5034891923790255, 0.5013910976226607, 0.5008326251896813, 0.5043266396897657, 0.5035336705445963, 0.5043907266902715, 0.5022788399932558, 0.5012525880964425], 'silhouette': [0.050405946, 0.08472433, 0.31438458, 0.1603227, 0.16522226, 0.23293851, 0.016060365, 0.28838435, 0.10885161, 0.002173458], 'trustworthiness_mean': 0.5024891721463497, 'trustworthiness_min': 0.5006971337042658, 'trustworthiness_max': 0.5043907266902715, 'silhouette_mean': 0.14234681, 'silhouette_min': 0.002173458, 'silhouette_max': 0.31438458}}, 'dropout_0.8': {'euclidean': {'trustworthiness': [0.5356388130163547, 0.536242370595178, 0.5362420502444782, 0.5387552014837296, 0.5367881133029844, 0.5365424211768673, 0.5364619962906761, 0.5356921429775755, 0.5382813522171641, 0.5371464171303322], 'silhouette': [0.017046018, 0.02077626, 0.012475052, 0.015559642, 0.02309987, 0.018410034, 0.016814183, 0.016636752, 0.02218728, 0.022409126], 'trustworthiness_mean': 0.536779087843534, 'trustworthiness_min': 0.5356388130163547, 'trustworthiness_max': 0.5387552014837296, 'silhouette_mean': 0.018541422, 'silhouette_min': 0.012475052, 'silhouette_max': 0.02309987}, 'manhattan': {'trustworthiness': [0.5058897319170461, 0.5066943517113471, 0.5028325240263025, 0.504579328949587, 0.502672719608835, 0.5062636992075535, 0.5076814871016693, 0.5055097791266229, 0.5057763446299106, 0.506356297420334], 'silhouette': [0.2046079, 0.25988123, -0.021092037, 0.23501284, 0.13809672, 0.07399903, 0.28632995, 0.1550687, 0.17811517, 0.27759138], 'trustworthiness_mean': 0.5054256263699208, 'trustworthiness_min': 0.502672719608835, 'trustworthiness_max': 0.5076814871016693, 'silhouette_mean': 0.1787611, 'silhouette_min': -0.021092037, 'silhouette_max': 0.28632995}, 'minkowski_0.5': {'trustworthiness': [0.4998901702916878, 0.501756668352723, 0.5006600404653516, 0.5044051087506323, 0.5030622491991232, 0.5004137413589614, 0.5005687910976226, 0.5049483560950936, 0.5030766481200473, 0.5028730062384084], 'silhouette': [0.16209273, 0.11145387, 0.2244458, 0.15621443, 0.25267103, 0.25316855, 0.27575964, 0.17628805, -0.09273096, -0.083729275], 'trustworthiness_mean': 0.5021654779969651, 'trustworthiness_min': 0.4998901702916878, 'trustworthiness_max': 0.5049483560950936, 'silhouette_mean': 0.14356339, 'silhouette_min': -0.09273096, 'silhouette_max': 0.27575964}}, 'dropout_0.9': {'euclidean': {'trustworthiness': [0.5244261507334345, 0.5251803068622493, 0.5238151407857023, 0.5236854493340077, 0.5259270612038442, 0.524092210419828, 0.5230711347158996, 0.5239770190524364, 0.523918529758894, 0.5248461979430113], 'silhouette': [0.030485744, 0.028034482, 0.028252922, 0.02887377, 0.032700196, 0.029852685, 0.040536217, 0.0300679, 0.031238815, 0.029535994], 'trustworthiness_mean': 0.5242939200809308, 'trustworthiness_min': 0.5230711347158996, 'trustworthiness_max': 0.5259270612038442, 'silhouette_mean': 0.030957872, 'silhouette_min': 0.028034482, 'silhouette_max': 0.040536217}, 'manhattan': {'trustworthiness': [0.5024779801045356, 0.5058422357106728, 0.5058428932726353, 0.5063003877929524, 0.5023332153093913, 0.5035687236553701, 0.5037627044343281, 0.5026578991738324, 0.5010333839150227, 0.5029078738829877], 'silhouette': [0.30154222, 0.1846319, 0.09922859, 0.081081055, 0.06705517, 0.09979759, 0.123281345, 0.08972755, 0.20141995, 0.23977235], 'trustworthiness_mean': 0.5036727297251729, 'trustworthiness_min': 0.5010333839150227, 'trustworthiness_max': 0.5063003877929524, 'silhouette_mean': 0.14875378, 'silhouette_min': 0.06705517, 'silhouette_max': 0.30154222}, 'minkowski_0.5': {'trustworthiness': [0.5015257966616086, 0.5040947900859889, 0.502219119878604, 0.4992175687067949, 0.5033805260495701, 0.5005997976732424, 0.501216641375822, 0.5015758556735795, 0.5016105884336537, 0.501693036587422], 'silhouette': [0.08450225, 0.08555386, 0.20696472, 0.26674932, 0.07456235, 0.33050942, 0.22635695, 0.33251345, 0.075867906, 0.08405409], 'trustworthiness_mean': 0.5017133721126287, 'trustworthiness_min': 0.4992175687067949, 'trustworthiness_max': 0.5040947900859889, 'silhouette_mean': 0.17676343, 'silhouette_min': 0.07456235, 'silhouette_max': 0.33251345}}}\n"
     ]
    }
   ],
   "source": [
    "print(all_results)"
   ]
  },
  {
   "cell_type": "code",
   "execution_count": 5,
   "id": "3cdd743b",
   "metadata": {},
   "outputs": [
    {
     "name": "stdout",
     "output_type": "stream",
     "text": [
      "Saved all_results to all_results.pkl\n"
     ]
    }
   ],
   "source": [
    "import pickle\n",
    "\n",
    "# Save the all_results dictionary to a file\n",
    "with open(\"all_results_S5000.pkl\", \"wb\") as f:\n",
    "    pickle.dump(all_results, f)\n",
    "\n",
    "print(\"Saved all_results to all_results.pkl\")"
   ]
  },
  {
   "cell_type": "code",
   "execution_count": 8,
   "id": "58cbddd7",
   "metadata": {},
   "outputs": [
    {
     "data": {
      "image/png": "[encoded data removed]",
      "text/plain": [
       "<Figure size 1200x600 with 1 Axes>"
      ]
     },
     "metadata": {},
     "output_type": "display_data"
    },
    {
     "data": {
      "image/png": "[encoded data removed]",
      "text/plain": [
       "<Figure size 1200x600 with 1 Axes>"
      ]
     },
     "metadata": {},
     "output_type": "display_data"
    }
   ],
   "source": [
    "# Re-import necessary modules after code state reset\n",
    "import numpy as np\n",
    "import matplotlib.pyplot as plt\n",
    "\n",
    "# Simulated redefinition of all_results since the kernel was reset\n",
    "# This is a placeholder; in actual use, all_results should be reloaded from user context or files\n",
    "\n",
    "# --- Dummy placeholder (for execution) ---\n",
    "# In real use, this should be replaced with the actual `all_results` from earlier\n",
    "#all_results = {}  # <--- Replace this with actual data if needed\n",
    "# -----------------------------------------\n",
    "\n",
    "# Assuming the original user `all_results` is present:\n",
    "dropout_levels = [round(i, 1) for i in np.arange(0.1, 1.0, 0.1)]\n",
    "metrics_names = {\n",
    "    'euclidean': 'Euclidean',\n",
    "    'manhattan': 'Manhattan',\n",
    "    'minkowski_0.5': 'Minkowski (p=0.5)'\n",
    "}\n",
    "colors = {\n",
    "    'euclidean': 'green',\n",
    "    'manhattan': 'red',\n",
    "    'minkowski_0.5': 'blue'\n",
    "}\n",
    "\n",
    "# Try to generate the plots\n",
    "if all_results:\n",
    "    # Trustworthiness Plot\n",
    "    plt.figure(figsize=(12, 6))\n",
    "    for metric in metrics_names:\n",
    "        trust_means = []\n",
    "        trust_mins = []\n",
    "        trust_maxs = []\n",
    "        for d in dropout_levels:\n",
    "            entry = all_results[f\"dropout_{d}\"][metric]\n",
    "            trust_means.append(entry['trustworthiness_mean'])\n",
    "            trust_mins.append(entry['trustworthiness_min'])\n",
    "            trust_maxs.append(entry['trustworthiness_max'])\n",
    "        trust_err_low = np.array(trust_means) - np.array(trust_mins)\n",
    "        trust_err_high = np.array(trust_maxs) - np.array(trust_means)\n",
    "        plt.errorbar(dropout_levels, trust_means, yerr=[trust_err_low, trust_err_high], label=metrics_names[metric], fmt='-o', capsize=5, color=colors[metric])\n",
    "    plt.title('Trustworthiness vs Dropout Level')\n",
    "    plt.xlabel('Dropout Level')\n",
    "    plt.ylabel('Trustworthiness')\n",
    "    plt.ylim(0.2, 1.0)\n",
    "    plt.legend()\n",
    "    plt.grid(True)\n",
    "    plt.tight_layout()\n",
    "    plt.show()\n",
    "\n",
    "    # Silhouette Plot\n",
    "    plt.figure(figsize=(12, 6))\n",
    "    for metric in metrics_names:\n",
    "        sil_means = []\n",
    "        sil_mins = []\n",
    "        sil_maxs = []\n",
    "        for d in dropout_levels:\n",
    "            entry = all_results[f\"dropout_{d}\"][metric]\n",
    "            sil_means.append(entry['silhouette_mean'])\n",
    "            sil_mins.append(entry['silhouette_min'])\n",
    "            sil_maxs.append(entry['silhouette_max'])\n",
    "        sil_err_low = np.array(sil_means) - np.array(sil_mins)\n",
    "        sil_err_high = np.array(sil_maxs) - np.array(sil_means)\n",
    "        plt.errorbar(dropout_levels, sil_means, yerr=[sil_err_low, sil_err_high], label=metrics_names[metric], fmt='-o', capsize=5, color=colors[metric])\n",
    "    plt.title('Silhouette Score vs Dropout Level')\n",
    "    plt.xlabel('Dropout Level')\n",
    "    plt.ylabel('Silhouette Score')\n",
    "    plt.ylim(-0.5, 1.0)\n",
    "    plt.legend()\n",
    "    plt.grid(True)\n",
    "    plt.tight_layout()\n",
    "    plt.show()\n",
    "else:\n",
    "    print(\"`all_results` not found. Please re-run the metric calculations or reload the saved data.\")\n"
   ]
  }
 ],
 "metadata": {
  "kernelspec": {
   "display_name": "Python 3",
   "language": "python",
   "name": "python3"
  },
  "language_info": {
   "codemirror_mode": {
    "name": "ipython",
    "version": 3
   },
   "file_extension": ".py",
   "mimetype": "text/x-python",
   "name": "python",
   "nbconvert_exporter": "python",
   "pygments_lexer": "ipython3",
   "version": "3.11.5"
  }
 },
 "nbformat": 4,
 "nbformat_minor": 5
}
